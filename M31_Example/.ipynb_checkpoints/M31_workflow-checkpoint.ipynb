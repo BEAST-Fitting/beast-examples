{
 "cells": [
  {
   "cell_type": "markdown",
   "metadata": {},
   "source": [
    "# Source Density Mapping Example\n",
    "\n",
    "We'll be walking through a standard BEAST workflow in this example, using some M31 data as an example.\n",
    "\n",
    "Before we do anything though, we have to import the following packages. This seems like a lot but they are all here to make our lives easier down the line. And running them all as the first cell means that if our kernel ever crashes halfway through, we can just reimport everything at once rather than stepping through the cells individually."
   ]
  },
  {
   "cell_type": "code",
   "execution_count": 1,
   "metadata": {
    "scrolled": true
   },
   "outputs": [
    {
     "name": "stdout",
     "output_type": "stream",
     "text": [
      "Auto-detected type: fits\n",
      "Auto-detected type: fits\n"
     ]
    }
   ],
   "source": [
    "import h5py\n",
    "\n",
    "import numpy as np\n",
    "from astropy import wcs\n",
    "from astropy.io import fits\n",
    "from astropy.table import Table\n",
    "import tables\n",
    "\n",
    "import glob\n",
    "import os\n",
    "import types\n",
    "import argparse\n",
    "\n",
    "import matplotlib.pyplot as plt\n",
    "\n",
    "from beast.tools.run import (\n",
    "    create_physicsmodel,\n",
    "    make_ast_inputs,\n",
    "    create_obsmodel,\n",
    "    run_fitting,\n",
    "    merge_files,\n",
    "    create_filenames,\n",
    ")\n",
    "\n",
    "from beast.plotting import (plot_mag_hist, plot_ast_histogram)\n",
    "from beast.tools import (\n",
    "     create_background_density_map,\n",
    "     split_ast_input_file,\n",
    "#     subdivide_obscat_by_source_density,\n",
    "#     cut_catalogs,\n",
    "#     split_asts_by_source_density,\n",
    "#     setup_batch_beast_trim,\n",
    "#     setup_batch_beast_fit,\n",
    " )\n",
    "\n",
    "import importlib"
   ]
  },
  {
   "cell_type": "markdown",
   "metadata": {},
   "source": [
    "# Step -1. Obtain data file and convert to fits file\n",
    "\n",
    "Sometimes data is given to us in HDF5 file formats. While these are great for storing data in different heirarchies, it's a little hard to work with directly, so we would have to convert our HDF5 file to a FITS file.\n",
    "\n",
    "Thankfully, our data is already in a FITS format so we don't need to worry about this."
   ]
  },
  {
   "cell_type": "markdown",
   "metadata": {},
   "source": [
    "# 1a. Make magnitude histogram\n",
    "\n",
    "Step 1a is to make histograms of all the magnitudes of all the stars in all the different filters. This is done so that we know where the peak of the histogram is. This peak will then be used later when we make source density maps. Essentially what happens is that, for the density maps, we only count objects within a certain range, currently set to mag_cut = 15 - (peak_for_filter-0.5). So if the peak was 17.5, then the objects that would be counted would have to be in the range between 15 and 18. \n",
    "\n",
    "The reason we only count brighter sources is because dimmer sources tend to not be properly observed, especially as the magnitudes near the telescope limit. There will always be far more dim sources than bright sources, but if we know how many bright sources there are, then we can extrapolate as to how many dim sources there should be, and probably get a better understand from that than if we were to try and actually count all the dim sources we detect.  "
   ]
  },
  {
   "cell_type": "code",
   "execution_count": 2,
   "metadata": {},
   "outputs": [],
   "source": [
    "gst_file = \"./M31-B21-WEST_cutout.st.fits\""
   ]
  },
  {
   "cell_type": "markdown",
   "metadata": {},
   "source": [
    "We can see what type of data this fits file holds by making a table."
   ]
  },
  {
   "cell_type": "code",
   "execution_count": 16,
   "metadata": {},
   "outputs": [
    {
     "data": {
      "text/html": [
       "<i>Table length=205331</i>\n",
       "<table id=\"table140561069710480\" class=\"table-striped table-bordered table-condensed\">\n",
       "<thead><tr><th>F160W_ST</th><th>F160W_GST</th><th>F475W_ST</th><th>F475W_GST</th><th>F336W_ST</th><th>F336W_GST</th><th>F814W_ST</th><th>F814W_GST</th><th>F275W_ST</th><th>F275W_GST</th><th>F110W_ST</th><th>F110W_GST</th><th>X</th><th>Y</th><th>RA</th><th>DEC</th><th>CHI_GL</th><th>SNR_GL</th><th>SHARP_GL</th><th>ROUND_GL</th><th>CROWD_GL</th><th>F475W_COUNT</th><th>F475W_SKY</th><th>F475W_RATE</th><th>F475W_RATERR</th><th>F475W_VEGA</th><th>F475W_TRANS</th><th>F475W_ERR</th><th>F475W_CHI</th><th>F475W_SNR</th><th>F475W_SHARP</th><th>F475W_ROUND</th><th>F475W_CROWD</th><th>F814W_COUNT</th><th>F814W_SKY</th><th>F814W_RATE</th><th>F814W_RATERR</th><th>F814W_VEGA</th><th>F814W_TRANS</th><th>F814W_ERR</th><th>F814W_CHI</th><th>F814W_SNR</th><th>F814W_SHARP</th><th>F814W_ROUND</th><th>F814W_CROWD</th><th>F275W_COUNT</th><th>F275W_SKY</th><th>F275W_RATE</th><th>F275W_RATERR</th><th>F275W_VEGA</th><th>F275W_TRANS</th><th>F275W_ERR</th><th>F275W_CHI</th><th>F275W_SNR</th><th>F275W_SHARP</th><th>F275W_ROUND</th><th>F275W_CROWD</th><th>F336W_COUNT</th><th>F336W_SKY</th><th>F336W_RATE</th><th>F336W_RATERR</th><th>F336W_VEGA</th><th>F336W_TRANS</th><th>F336W_ERR</th><th>F336W_CHI</th><th>F336W_SNR</th><th>F336W_SHARP</th><th>F336W_ROUND</th><th>F336W_CROWD</th><th>F110W_COUNT</th><th>F110W_SKY</th><th>F110W_RATE</th><th>F110W_RATERR</th><th>F110W_VEGA</th><th>F110W_TRANS</th><th>F110W_ERR</th><th>F110W_CHI</th><th>F110W_SNR</th><th>F110W_SHARP</th><th>F110W_ROUND</th><th>F110W_CROWD</th><th>F160W_COUNT</th><th>F160W_SKY</th><th>F160W_RATE</th><th>F160W_RATERR</th><th>F160W_VEGA</th><th>F160W_TRANS</th><th>F160W_ERR</th><th>F160W_CHI</th><th>F160W_SNR</th><th>F160W_SHARP</th><th>F160W_ROUND</th><th>F160W_CROWD</th><th>EXT</th><th>CHIP</th><th>MAJAX_GL</th><th>OBJTYPE_GL</th><th>F475W_FLAG</th><th>F814W_FLAG</th><th>F275W_FLAG</th><th>F336W_FLAG</th><th>F110W_FLAG</th><th>F160W_FLAG</th></tr></thead>\n",
       "<thead><tr><th>bool</th><th>bool</th><th>bool</th><th>bool</th><th>bool</th><th>bool</th><th>bool</th><th>bool</th><th>bool</th><th>bool</th><th>bool</th><th>bool</th><th>float64</th><th>float64</th><th>float64</th><th>float64</th><th>float64</th><th>float64</th><th>float64</th><th>float64</th><th>float64</th><th>float64</th><th>float64</th><th>float64</th><th>float64</th><th>float64</th><th>float64</th><th>float64</th><th>float64</th><th>float64</th><th>float64</th><th>float64</th><th>float64</th><th>float64</th><th>float64</th><th>float64</th><th>float64</th><th>float64</th><th>float64</th><th>float64</th><th>float64</th><th>float64</th><th>float64</th><th>float64</th><th>float64</th><th>float64</th><th>float64</th><th>float64</th><th>float64</th><th>float64</th><th>float64</th><th>float64</th><th>float64</th><th>float64</th><th>float64</th><th>float64</th><th>float64</th><th>float64</th><th>float64</th><th>float64</th><th>float64</th><th>float64</th><th>float64</th><th>float64</th><th>float64</th><th>float64</th><th>float64</th><th>float64</th><th>float64</th><th>float64</th><th>float64</th><th>float64</th><th>float64</th><th>float64</th><th>float64</th><th>float64</th><th>float64</th><th>float64</th><th>float64</th><th>float64</th><th>float64</th><th>float64</th><th>float64</th><th>float64</th><th>float64</th><th>float64</th><th>float64</th><th>float64</th><th>float64</th><th>float64</th><th>float64</th><th>float64</th><th>float64</th><th>int64</th><th>int64</th><th>int64</th><th>int64</th><th>int64</th><th>int64</th><th>int64</th><th>int64</th><th>int64</th><th>int64</th></tr></thead>\n",
       "<tr><td>False</td><td>False</td><td>True</td><td>True</td><td>False</td><td>False</td><td>True</td><td>True</td><td>False</td><td>False</td><td>False</td><td>False</td><td>1776.9200000250678</td><td>111.54000000134874</td><td>11.386946151962453</td><td>42.198979961084724</td><td>1.74</td><td>1353.0</td><td>-0.254</td><td>0.027000000000000003</td><td>0.031</td><td>788000000.0</td><td>119921.1</td><td>4.6299999999999995e-07</td><td>1.7699999999999999e-09</td><td>15.835999999999999</td><td>16.15</td><td>0.004</td><td>1.25</td><td>262.2</td><td>-0.024</td><td>0.018000000000000002</td><td>0.012</td><td>1300000000.0</td><td>333344.0</td><td>1.57e-06</td><td>5.420000000000001e-09</td><td>14.509</td><td>14.502</td><td>0.004</td><td>1.85</td><td>290.1</td><td>-0.012</td><td>0.028999999999999998</td><td>0.009000000000000001</td><td>0.0</td><td>0.0</td><td>0.0</td><td>9999.0</td><td>nan</td><td>nan</td><td>9.999</td><td>0.0</td><td>0.0</td><td>0.0</td><td>0.0</td><td>0.0</td><td>0.0</td><td>0.0</td><td>0.0</td><td>9999.0</td><td>nan</td><td>nan</td><td>9.999</td><td>0.0</td><td>0.0</td><td>0.0</td><td>0.0</td><td>0.0</td><td>0.0</td><td>0.0</td><td>0.0</td><td>9999.0</td><td>nan</td><td>nan</td><td>9.999</td><td>0.0</td><td>0.0</td><td>0.0</td><td>0.0</td><td>0.0</td><td>0.0</td><td>0.0</td><td>0.0</td><td>9999.0</td><td>nan</td><td>nan</td><td>9.999</td><td>0.0</td><td>0.0</td><td>0.0</td><td>0.0</td><td>0.0</td><td>0</td><td>1</td><td>95</td><td>1</td><td>0</td><td>0</td><td>0</td><td>0</td><td>0</td><td>0</td></tr>\n",
       "<tr><td>False</td><td>False</td><td>True</td><td>True</td><td>False</td><td>False</td><td>True</td><td>True</td><td>False</td><td>False</td><td>False</td><td>False</td><td>1922.9300000257404</td><td>1116.990000001511</td><td>11.400546787700819</td><td>42.20885319048882</td><td>2.01</td><td>1267.2</td><td>-0.312</td><td>0.03</td><td>0.040999999999999995</td><td>508000000.0</td><td>97384.64</td><td>2.9899999999999996e-07</td><td>1.99e-09</td><td>16.312</td><td>16.813</td><td>0.006999999999999999</td><td>1.73</td><td>149.8</td><td>-0.034</td><td>0.018000000000000002</td><td>0.016</td><td>1460000000.0</td><td>375732.8</td><td>1.77e-06</td><td>6.53e-09</td><td>14.382</td><td>14.387</td><td>0.004</td><td>2.04</td><td>270.5</td><td>0.005</td><td>0.017</td><td>0.018000000000000002</td><td>0.0</td><td>0.0</td><td>0.0</td><td>9999.0</td><td>nan</td><td>nan</td><td>9.999</td><td>0.0</td><td>0.0</td><td>0.0</td><td>0.0</td><td>0.0</td><td>0.0</td><td>0.0</td><td>0.0</td><td>9999.0</td><td>nan</td><td>nan</td><td>9.999</td><td>0.0</td><td>0.0</td><td>0.0</td><td>0.0</td><td>0.0</td><td>0.0</td><td>0.0</td><td>0.0</td><td>9999.0</td><td>nan</td><td>nan</td><td>9.999</td><td>0.0</td><td>0.0</td><td>0.0</td><td>0.0</td><td>0.0</td><td>0.0</td><td>0.0</td><td>0.0</td><td>9999.0</td><td>nan</td><td>nan</td><td>9.999</td><td>0.0</td><td>0.0</td><td>0.0</td><td>0.0</td><td>0.0</td><td>0</td><td>1</td><td>80</td><td>1</td><td>0</td><td>0</td><td>0</td><td>0</td><td>0</td><td>0</td></tr>\n",
       "<tr><td>True</td><td>True</td><td>True</td><td>True</td><td>True</td><td>True</td><td>True</td><td>True</td><td>True</td><td>True</td><td>True</td><td>True</td><td>234.91000002498595</td><td>2446.6200000016142</td><td>11.439335565359873</td><td>42.20081070292379</td><td>2.46</td><td>3920.6</td><td>-0.05</td><td>0.013999999999999999</td><td>0.073</td><td>268000000.0</td><td>54944.23</td><td>1.57e-07</td><td>1.4300000000000002e-09</td><td>17.008</td><td>17.211</td><td>0.01</td><td>2.27</td><td>110.1</td><td>-0.075</td><td>0.033</td><td>0.032</td><td>354000000.0</td><td>96353.57</td><td>4.2e-07</td><td>1.2800000000000001e-09</td><td>15.942</td><td>15.933</td><td>0.003</td><td>1.11</td><td>327.3</td><td>-0.011000000000000001</td><td>0.024</td><td>0.047</td><td>1290000.0</td><td>304.81</td><td>4.440000000000001e-08</td><td>4.81e-10</td><td>18.382</td><td>nan</td><td>0.012</td><td>1.89</td><td>92.2</td><td>-0.040999999999999995</td><td>0.023</td><td>0.006</td><td>12000000.0</td><td>2313.22</td><td>1.3800000000000002e-07</td><td>4.2999999999999996e-10</td><td>17.15</td><td>nan</td><td>0.003</td><td>1.8</td><td>321.3</td><td>-0.024</td><td>0.015</td><td>0.006999999999999999</td><td>169000000.0</td><td>48374.12</td><td>5.34e-07</td><td>5.15e-10</td><td>15.681</td><td>nan</td><td>0.001</td><td>2.22</td><td>1037.7</td><td>-0.046</td><td>0.037000000000000005</td><td>0.14800000000000002</td><td>156000000.0</td><td>46501.09</td><td>7.76e-07</td><td>4.12e-10</td><td>15.275</td><td>nan</td><td>0.001</td><td>1.2</td><td>1885.2</td><td>-0.04</td><td>-0.001</td><td>0.146</td><td>0</td><td>1</td><td>150</td><td>1</td><td>2</td><td>0</td><td>2</td><td>0</td><td>0</td><td>2</td></tr>\n",
       "<tr><td>False</td><td>False</td><td>True</td><td>True</td><td>False</td><td>False</td><td>False</td><td>False</td><td>False</td><td>False</td><td>False</td><td>False</td><td>2036.7200000260377</td><td>178.50000000083878</td><td>11.385085651873098</td><td>42.20244112137006</td><td>3.21</td><td>1512.9</td><td>-0.068</td><td>0.061</td><td>0.01</td><td>111000000.0</td><td>28257.25</td><td>6.52e-08</td><td>1.75e-09</td><td>17.964000000000002</td><td>nan</td><td>0.028999999999999998</td><td>3.28</td><td>37.2</td><td>-0.098</td><td>0.042</td><td>0.003</td><td>0.0</td><td>0.0</td><td>0.0</td><td>9999.0</td><td>nan</td><td>nan</td><td>9.999</td><td>0.0</td><td>0.0</td><td>0.0</td><td>0.0</td><td>0.0</td><td>0.0</td><td>0.0</td><td>0.0</td><td>9999.0</td><td>nan</td><td>nan</td><td>9.999</td><td>0.0</td><td>0.0</td><td>0.0</td><td>0.0</td><td>0.0</td><td>0.0</td><td>0.0</td><td>0.0</td><td>9999.0</td><td>nan</td><td>nan</td><td>9.999</td><td>0.0</td><td>0.0</td><td>0.0</td><td>0.0</td><td>0.0</td><td>0.0</td><td>0.0</td><td>0.0</td><td>9999.0</td><td>nan</td><td>nan</td><td>9.999</td><td>0.0</td><td>0.0</td><td>0.0</td><td>0.0</td><td>0.0</td><td>0.0</td><td>0.0</td><td>0.0</td><td>9999.0</td><td>nan</td><td>nan</td><td>9.999</td><td>0.0</td><td>0.0</td><td>0.0</td><td>0.0</td><td>0.0</td><td>0</td><td>1</td><td>100</td><td>1</td><td>0</td><td>0</td><td>0</td><td>0</td><td>0</td><td>0</td></tr>\n",
       "<tr><td>False</td><td>False</td><td>True</td><td>True</td><td>False</td><td>False</td><td>True</td><td>True</td><td>False</td><td>False</td><td>False</td><td>False</td><td>1976.700000024361</td><td>633.1500000014507</td><td>11.392629520807215</td><td>42.20549282118689</td><td>2.54</td><td>1730.5</td><td>0.004</td><td>0.059000000000000004</td><td>0.002</td><td>118000000.0</td><td>27629.48</td><td>6.94e-08</td><td>7.620000000000001e-10</td><td>17.896</td><td>18.074</td><td>0.012</td><td>1.38</td><td>91.1</td><td>-0.028999999999999998</td><td>0.013000000000000001</td><td>0.004</td><td>146000000.0</td><td>46486.86</td><td>1.7699999999999998e-07</td><td>1.0400000000000001e-09</td><td>16.883</td><td>16.874000000000002</td><td>0.006</td><td>1.05</td><td>170.5</td><td>-0.006999999999999999</td><td>-0.039</td><td>0.002</td><td>0.0</td><td>0.0</td><td>0.0</td><td>9999.0</td><td>nan</td><td>nan</td><td>9.999</td><td>0.0</td><td>0.0</td><td>0.0</td><td>0.0</td><td>0.0</td><td>0.0</td><td>0.0</td><td>0.0</td><td>9999.0</td><td>nan</td><td>nan</td><td>9.999</td><td>0.0</td><td>0.0</td><td>0.0</td><td>0.0</td><td>0.0</td><td>0.0</td><td>0.0</td><td>0.0</td><td>9999.0</td><td>nan</td><td>nan</td><td>9.999</td><td>0.0</td><td>0.0</td><td>0.0</td><td>0.0</td><td>0.0</td><td>0.0</td><td>0.0</td><td>0.0</td><td>9999.0</td><td>nan</td><td>nan</td><td>9.999</td><td>0.0</td><td>0.0</td><td>0.0</td><td>0.0</td><td>0.0</td><td>0</td><td>1</td><td>100</td><td>1</td><td>0</td><td>0</td><td>0</td><td>0</td><td>0</td><td>0</td></tr>\n",
       "<tr><td>False</td><td>False</td><td>False</td><td>False</td><td>False</td><td>False</td><td>False</td><td>False</td><td>False</td><td>False</td><td>False</td><td>False</td><td>1922.7800000247862</td><td>1120.5300000017144</td><td>11.400602025159795</td><td>42.20888050365924</td><td>14.74</td><td>580.7</td><td>0.136</td><td>0.213</td><td>0.794</td><td>-2088263.0</td><td>906.05</td><td>-1.2e-09</td><td>8.989999999999999e-10</td><td>nan</td><td>nan</td><td>9.999</td><td>5.17</td><td>-1.4</td><td>0.0</td><td>0.0</td><td>0.0</td><td>11100000.0</td><td>55734.84</td><td>1.3400000000000001e-08</td><td>4.79e-09</td><td>19.684</td><td>nan</td><td>0.38799999999999996</td><td>7.56</td><td>2.8</td><td>-0.895</td><td>0.35700000000000004</td><td>1.8119999999999998</td><td>0.0</td><td>0.0</td><td>0.0</td><td>9999.0</td><td>nan</td><td>nan</td><td>9.999</td><td>0.0</td><td>0.0</td><td>0.0</td><td>0.0</td><td>0.0</td><td>0.0</td><td>0.0</td><td>0.0</td><td>9999.0</td><td>nan</td><td>nan</td><td>9.999</td><td>0.0</td><td>0.0</td><td>0.0</td><td>0.0</td><td>0.0</td><td>0.0</td><td>0.0</td><td>0.0</td><td>9999.0</td><td>nan</td><td>nan</td><td>9.999</td><td>0.0</td><td>0.0</td><td>0.0</td><td>0.0</td><td>0.0</td><td>0.0</td><td>0.0</td><td>0.0</td><td>9999.0</td><td>nan</td><td>nan</td><td>9.999</td><td>0.0</td><td>0.0</td><td>0.0</td><td>0.0</td><td>0.0</td><td>0</td><td>1</td><td>90</td><td>1</td><td>0</td><td>0</td><td>0</td><td>0</td><td>0</td><td>0</td></tr>\n",
       "<tr><td>False</td><td>False</td><td>False</td><td>False</td><td>False</td><td>False</td><td>False</td><td>False</td><td>False</td><td>False</td><td>False</td><td>False</td><td>1776.810000023902</td><td>108.26000000133467</td><td>11.386897738919956</td><td>42.19895185656643</td><td>10.46</td><td>357.0</td><td>-0.109</td><td>0.445</td><td>1.065</td><td>4230000.0</td><td>-2949.38</td><td>2.49e-09</td><td>1.58e-09</td><td>21.51</td><td>22.081999999999997</td><td>0.6890000000000001</td><td>6.91</td><td>1.6</td><td>-0.311</td><td>0.217</td><td>1.649</td><td>16600000.0</td><td>43917.84</td><td>2.0099999999999998e-08</td><td>5.820000000000001e-09</td><td>19.244</td><td>19.257</td><td>0.315</td><td>9.9</td><td>3.4</td><td>-0.583</td><td>0.669</td><td>1.199</td><td>0.0</td><td>0.0</td><td>0.0</td><td>9999.0</td><td>nan</td><td>nan</td><td>9.999</td><td>0.0</td><td>0.0</td><td>0.0</td><td>0.0</td><td>0.0</td><td>0.0</td><td>0.0</td><td>0.0</td><td>9999.0</td><td>nan</td><td>nan</td><td>9.999</td><td>0.0</td><td>0.0</td><td>0.0</td><td>0.0</td><td>0.0</td><td>0.0</td><td>0.0</td><td>0.0</td><td>9999.0</td><td>nan</td><td>nan</td><td>9.999</td><td>0.0</td><td>0.0</td><td>0.0</td><td>0.0</td><td>0.0</td><td>0.0</td><td>0.0</td><td>0.0</td><td>9999.0</td><td>nan</td><td>nan</td><td>9.999</td><td>0.0</td><td>0.0</td><td>0.0</td><td>0.0</td><td>0.0</td><td>0</td><td>1</td><td>65</td><td>1</td><td>0</td><td>0</td><td>0</td><td>0</td><td>0</td><td>0</td></tr>\n",
       "<tr><td>False</td><td>False</td><td>False</td><td>False</td><td>False</td><td>False</td><td>False</td><td>False</td><td>False</td><td>False</td><td>False</td><td>False</td><td>1922.5100000246703</td><td>1113.7100000016885</td><td>11.400501789641766</td><td>42.20882161588285</td><td>17.35</td><td>471.7</td><td>0.573</td><td>0.337</td><td>0.8690000000000001</td><td>3470000.0</td><td>-2525.23</td><td>2.04e-09</td><td>6.78e-10</td><td>21.726</td><td>nan</td><td>0.361</td><td>3.33</td><td>3.0</td><td>-1.121</td><td>0.498</td><td>1.466</td><td>-887249.8</td><td>44637.52</td><td>-1.1e-09</td><td>5.14e-09</td><td>nan</td><td>nan</td><td>9.999</td><td>10.82</td><td>-0.2</td><td>0.0</td><td>0.0</td><td>0.0</td><td>0.0</td><td>0.0</td><td>0.0</td><td>9999.0</td><td>nan</td><td>nan</td><td>9.999</td><td>0.0</td><td>0.0</td><td>0.0</td><td>0.0</td><td>0.0</td><td>0.0</td><td>0.0</td><td>0.0</td><td>9999.0</td><td>nan</td><td>nan</td><td>9.999</td><td>0.0</td><td>0.0</td><td>0.0</td><td>0.0</td><td>0.0</td><td>0.0</td><td>0.0</td><td>0.0</td><td>9999.0</td><td>nan</td><td>nan</td><td>9.999</td><td>0.0</td><td>0.0</td><td>0.0</td><td>0.0</td><td>0.0</td><td>0.0</td><td>0.0</td><td>0.0</td><td>9999.0</td><td>nan</td><td>nan</td><td>9.999</td><td>0.0</td><td>0.0</td><td>0.0</td><td>0.0</td><td>0.0</td><td>0</td><td>1</td><td>75</td><td>1</td><td>0</td><td>0</td><td>0</td><td>0</td><td>0</td><td>0</td></tr>\n",
       "<tr><td>True</td><td>True</td><td>True</td><td>True</td><td>True</td><td>True</td><td>True</td><td>True</td><td>False</td><td>False</td><td>True</td><td>True</td><td>52.00000002434922</td><td>1384.1500000017832</td><td>11.425275485161409</td><td>42.19006138372154</td><td>2.06</td><td>2897.6</td><td>-0.001</td><td>0.018000000000000002</td><td>0.002</td><td>11200000.0</td><td>5220.69</td><td>6.55e-09</td><td>1.1499999999999999e-11</td><td>20.459</td><td>21.098000000000003</td><td>0.002</td><td>1.32</td><td>567.5</td><td>-0.006999999999999999</td><td>0.008</td><td>0.0</td><td>71600000.0</td><td>24266.99</td><td>8.109999999999999e-08</td><td>9.480000000000001e-11</td><td>17.727</td><td>17.755</td><td>0.001</td><td>0.97</td><td>855.6</td><td>-0.01</td><td>0.01</td><td>0.0</td><td>-300.9</td><td>43.26</td><td>-1.1e-11</td><td>1.8800000000000002e-11</td><td>nan</td><td>nan</td><td>9.999</td><td>0.74</td><td>-0.6</td><td>0.0</td><td>0.0</td><td>0.0</td><td>76677.0</td><td>81.03</td><td>9e-10</td><td>4.2e-11</td><td>22.615</td><td>nan</td><td>0.051</td><td>1.94</td><td>21.4</td><td>-0.001</td><td>0.028999999999999998</td><td>0.0</td><td>52900000.0</td><td>24705.16</td><td>1.67e-07</td><td>1.42e-10</td><td>16.945</td><td>nan</td><td>0.001</td><td>1.32</td><td>1173.4</td><td>-0.001</td><td>0.013999999999999999</td><td>0.008</td><td>69200000.0</td><td>29082.28</td><td>3.43e-07</td><td>2.23e-10</td><td>16.16</td><td>nan</td><td>0.001</td><td>1.12</td><td>1537.4</td><td>-0.018000000000000002</td><td>0.005</td><td>0.009000000000000001</td><td>0</td><td>1</td><td>130</td><td>1</td><td>0</td><td>0</td><td>0</td><td>0</td><td>0</td><td>0</td></tr>\n",
       "<tr><td>True</td><td>True</td><td>True</td><td>True</td><td>True</td><td>True</td><td>True</td><td>True</td><td>True</td><td>True</td><td>True</td><td>True</td><td>237.3200000246377</td><td>2449.0900000013407</td><td>11.439346322157787</td><td>42.20085795188257</td><td>5.27</td><td>2322.8</td><td>-0.055999999999999994</td><td>0.04</td><td>0.28</td><td>57700000.0</td><td>5785.54</td><td>3.3700000000000004e-08</td><td>8.42e-11</td><td>18.682000000000002</td><td>19.014</td><td>0.003</td><td>2.68</td><td>399.8</td><td>-0.040999999999999995</td><td>0.028999999999999998</td><td>0.23800000000000002</td><td>101000000.0</td><td>42804.67</td><td>1.1900000000000001e-07</td><td>1.2800000000000001e-09</td><td>17.308</td><td>17.302</td><td>0.012</td><td>1.88</td><td>93.4</td><td>-0.031</td><td>0.027000000000000003</td><td>0.287</td><td>132188.3</td><td>91.93</td><td>4.53e-09</td><td>2.12e-10</td><td>20.859</td><td>nan</td><td>0.051</td><td>2.41</td><td>21.4</td><td>-0.08</td><td>0.16</td><td>0.20600000000000002</td><td>2060000.0</td><td>930.21</td><td>2.36e-08</td><td>4.900000000000001e-10</td><td>19.069000000000003</td><td>nan</td><td>0.023</td><td>4.68</td><td>48.2</td><td>-0.059000000000000004</td><td>0.08900000000000001</td><td>0.113</td><td>49100000.0</td><td>26101.82</td><td>1.55e-07</td><td>9.4e-10</td><td>17.026</td><td>nan</td><td>0.006999999999999999</td><td>7.03</td><td>164.5</td><td>-0.028999999999999998</td><td>0.002</td><td>0.517</td><td>46000000.0</td><td>27541.75</td><td>2.2899999999999997e-07</td><td>8.59e-10</td><td>16.602999999999998</td><td>nan</td><td>0.004</td><td>3.59</td><td>266.2</td><td>-0.032</td><td>0.106</td><td>0.6809999999999999</td><td>0</td><td>1</td><td>130</td><td>1</td><td>2</td><td>2</td><td>0</td><td>0</td><td>0</td><td>2</td></tr>\n",
       "<tr><td>...</td><td>...</td><td>...</td><td>...</td><td>...</td><td>...</td><td>...</td><td>...</td><td>...</td><td>...</td><td>...</td><td>...</td><td>...</td><td>...</td><td>...</td><td>...</td><td>...</td><td>...</td><td>...</td><td>...</td><td>...</td><td>...</td><td>...</td><td>...</td><td>...</td><td>...</td><td>...</td><td>...</td><td>...</td><td>...</td><td>...</td><td>...</td><td>...</td><td>...</td><td>...</td><td>...</td><td>...</td><td>...</td><td>...</td><td>...</td><td>...</td><td>...</td><td>...</td><td>...</td><td>...</td><td>...</td><td>...</td><td>...</td><td>...</td><td>...</td><td>...</td><td>...</td><td>...</td><td>...</td><td>...</td><td>...</td><td>...</td><td>...</td><td>...</td><td>...</td><td>...</td><td>...</td><td>...</td><td>...</td><td>...</td><td>...</td><td>...</td><td>...</td><td>...</td><td>...</td><td>...</td><td>...</td><td>...</td><td>...</td><td>...</td><td>...</td><td>...</td><td>...</td><td>...</td><td>...</td><td>...</td><td>...</td><td>...</td><td>...</td><td>...</td><td>...</td><td>...</td><td>...</td><td>...</td><td>...</td><td>...</td><td>...</td><td>...</td><td>...</td><td>...</td><td>...</td><td>...</td><td>...</td><td>...</td><td>...</td><td>...</td><td>...</td><td>...</td></tr>\n",
       "<tr><td>False</td><td>False</td><td>False</td><td>False</td><td>False</td><td>False</td><td>False</td><td>False</td><td>False</td><td>False</td><td>False</td><td>False</td><td>2009.3500000247905</td><td>2062.930000001729</td><td>11.4139097688028</td><td>42.2175692757303</td><td>1.07</td><td>3.9</td><td>0.135</td><td>0.516</td><td>0.682</td><td>2316.8</td><td>2983.76</td><td>1.36e-12</td><td>8.09e-13</td><td>29.666</td><td>30.051</td><td>0.6459999999999999</td><td>1.07</td><td>1.7</td><td>0.23</td><td>-0.027999999999999997</td><td>1.088</td><td>4914.4</td><td>4806.06</td><td>5.54e-12</td><td>1.84e-12</td><td>28.142</td><td>28.139</td><td>0.361</td><td>1.16</td><td>3.0</td><td>-0.013000000000000001</td><td>-0.6940000000000001</td><td>0.843</td><td>103.2</td><td>36.58</td><td>4.34e-12</td><td>1.2900000000000002e-11</td><td>28.406999999999996</td><td>nan</td><td>3.239</td><td>0.81</td><td>0.3</td><td>0.415</td><td>3.5580000000000003</td><td>0.091</td><td>-498.5</td><td>94.46</td><td>-5.9e-12</td><td>5.54e-12</td><td>nan</td><td>nan</td><td>9.999</td><td>1.16</td><td>-1.1</td><td>0.048</td><td>0.377</td><td>0.085</td><td>2135.2</td><td>13186.45</td><td>6.730000000000001e-12</td><td>8.359999999999999e-12</td><td>27.93</td><td>nan</td><td>1.349</td><td>1.34</td><td>0.8</td><td>-1.147</td><td>0.068</td><td>2.778</td><td>-1226.1</td><td>16097.25</td><td>-6.0999999999999995e-12</td><td>1.9100000000000004e-11</td><td>nan</td><td>nan</td><td>9.999</td><td>1.02</td><td>-0.3</td><td>-0.905</td><td>-0.015</td><td>2.4</td><td>0</td><td>1</td><td>35</td><td>1</td><td>2</td><td>0</td><td>0</td><td>2</td><td>0</td><td>2</td></tr>\n",
       "<tr><td>False</td><td>False</td><td>False</td><td>False</td><td>False</td><td>False</td><td>True</td><td>True</td><td>False</td><td>False</td><td>False</td><td>False</td><td>2322.5400000259883</td><td>2305.4300000012545</td><td>11.414117362138073</td><td>42.22306706114409</td><td>1.01</td><td>3.8</td><td>-0.052000000000000005</td><td>0.705</td><td>0.10300000000000001</td><td>1901.6</td><td>2927.85</td><td>1.1100000000000001e-12</td><td>6.97e-13</td><td>29.884</td><td>30.451999999999998</td><td>0.68</td><td>1.0</td><td>1.6</td><td>-0.253</td><td>0.767</td><td>0.106</td><td>7779.3</td><td>4785.92</td><td>8.75e-12</td><td>1.64e-12</td><td>27.645</td><td>27.658</td><td>0.204</td><td>0.97</td><td>5.3</td><td>0.013999999999999999</td><td>0.9229999999999999</td><td>0.084</td><td>-534.9</td><td>22.68</td><td>-1.8e-11</td><td>1.24e-11</td><td>nan</td><td>nan</td><td>9.999</td><td>0.91</td><td>-1.4</td><td>0.10400000000000001</td><td>0.33</td><td>0.001</td><td>-597.5</td><td>74.52</td><td>-6.799999999999999e-12</td><td>4.33e-12</td><td>nan</td><td>nan</td><td>9.999</td><td>0.91</td><td>-1.6</td><td>0.217</td><td>0.33799999999999997</td><td>0.016</td><td>5373.5</td><td>19030.72</td><td>1.7e-11</td><td>7.429999999999999e-12</td><td>26.927</td><td>nan</td><td>0.47600000000000003</td><td>1.2</td><td>2.3</td><td>0.22899999999999998</td><td>-0.46299999999999997</td><td>1.126</td><td>440.9</td><td>15541.83</td><td>2.1899999999999998e-12</td><td>1.53e-11</td><td>29.149</td><td>nan</td><td>7.597</td><td>0.99</td><td>0.1</td><td>-0.317</td><td>-2.559</td><td>2.116</td><td>0</td><td>1</td><td>175</td><td>1</td><td>2</td><td>0</td><td>0</td><td>0</td><td>0</td><td>0</td></tr>\n",
       "<tr><td>False</td><td>False</td><td>False</td><td>False</td><td>False</td><td>False</td><td>False</td><td>False</td><td>False</td><td>False</td><td>False</td><td>False</td><td>1603.0400000247907</td><td>2178.730000001463</td><td>11.420155962752823</td><td>42.213961207395386</td><td>1.14</td><td>3.7</td><td>-0.3</td><td>0.483</td><td>1.589</td><td>4940.5</td><td>2779.0</td><td>2.8900000000000004e-12</td><td>7.68e-13</td><td>28.849</td><td>nan</td><td>0.289</td><td>1.0</td><td>3.8</td><td>-0.168</td><td>0.272</td><td>0.738</td><td>-632.4</td><td>4575.1</td><td>-7.200000000000001e-13</td><td>1.85e-12</td><td>nan</td><td>nan</td><td>9.999</td><td>1.2</td><td>-0.4</td><td>-0.63</td><td>0.138</td><td>1.4269999999999998</td><td>-1258.1</td><td>32.47</td><td>-4.5e-11</td><td>1.8899999999999997e-11</td><td>nan</td><td>nan</td><td>9.999</td><td>1.02</td><td>-2.3</td><td>0.0</td><td>0.0</td><td>0.0</td><td>-777.3</td><td>29.55</td><td>-9.1e-12</td><td>5.51e-12</td><td>nan</td><td>nan</td><td>9.999</td><td>0.99</td><td>-1.7</td><td>0.0</td><td>0.0</td><td>0.0</td><td>4653.8</td><td>13329.48</td><td>1.4699999999999998e-11</td><td>9.87e-12</td><td>27.084</td><td>nan</td><td>0.731</td><td>1.91</td><td>1.5</td><td>-0.151</td><td>0.207</td><td>2.252</td><td>5304.5</td><td>16044.93</td><td>2.63e-11</td><td>1.74e-11</td><td>26.45</td><td>nan</td><td>0.72</td><td>1.02</td><td>1.5</td><td>-0.53</td><td>0.2</td><td>2.6060000000000003</td><td>0</td><td>1</td><td>145</td><td>2</td><td>0</td><td>0</td><td>0</td><td>0</td><td>0</td><td>0</td></tr>\n",
       "<tr><td>False</td><td>False</td><td>False</td><td>False</td><td>False</td><td>False</td><td>False</td><td>False</td><td>False</td><td>False</td><td>False</td><td>False</td><td>1966.6600000255266</td><td>1904.8800000016445</td><td>11.411989224533437</td><td>42.215796293188475</td><td>1.06</td><td>3.7</td><td>-0.146</td><td>0.542</td><td>0.05</td><td>4771.3</td><td>2912.5</td><td>2.79e-12</td><td>8e-13</td><td>28.884</td><td>28.237</td><td>0.311</td><td>1.09</td><td>3.5</td><td>-0.294</td><td>-0.267</td><td>0.033</td><td>643.5</td><td>4638.39</td><td>7.269999999999999e-13</td><td>1.7200000000000001e-12</td><td>30.346</td><td>30.201</td><td>2.569</td><td>1.14</td><td>0.4</td><td>-0.131</td><td>0.9279999999999999</td><td>0.049</td><td>-165.6</td><td>5.51</td><td>-5.2000000000000005e-12</td><td>1.2900000000000002e-11</td><td>nan</td><td>nan</td><td>9.999</td><td>0.9</td><td>-0.4</td><td>1.124</td><td>2.316</td><td>0.012</td><td>93.2</td><td>59.29</td><td>1.19e-12</td><td>4.11e-12</td><td>29.814</td><td>nan</td><td>3.763</td><td>0.87</td><td>0.3</td><td>-0.207</td><td>1.057</td><td>0.013999999999999999</td><td>1447.7</td><td>13042.05</td><td>4.56e-12</td><td>4.450000000000001e-12</td><td>28.351999999999997</td><td>nan</td><td>1.058</td><td>0.95</td><td>1.0</td><td>-0.011000000000000001</td><td>-3.945</td><td>1.06</td><td>-2705.8</td><td>15990.34</td><td>-1.2999999999999999e-11</td><td>1.35e-11</td><td>nan</td><td>nan</td><td>9.999</td><td>0.78</td><td>-1.0</td><td>1.111</td><td>-0.98</td><td>1.584</td><td>0</td><td>1</td><td>165</td><td>1</td><td>0</td><td>0</td><td>0</td><td>0</td><td>0</td><td>0</td></tr>\n",
       "<tr><td>False</td><td>False</td><td>False</td><td>False</td><td>False</td><td>False</td><td>False</td><td>False</td><td>False</td><td>False</td><td>False</td><td>False</td><td>2359.9000000261653</td><td>2053.200000002111</td><td>11.409885424744951</td><td>42.22142043570609</td><td>1.06</td><td>3.7</td><td>0.191</td><td>0.486</td><td>0.084</td><td>2665.5</td><td>2875.35</td><td>1.56e-12</td><td>7.650000000000001e-13</td><td>29.52</td><td>29.752</td><td>0.534</td><td>1.1</td><td>2.0</td><td>0.10400000000000001</td><td>0.902</td><td>0.126</td><td>3907.7</td><td>4739.95</td><td>4.410000000000001e-12</td><td>1.83e-12</td><td>28.39</td><td>28.381</td><td>0.45</td><td>1.18</td><td>2.4</td><td>0.027999999999999997</td><td>1.3530000000000002</td><td>0.285</td><td>-299.8</td><td>11.8</td><td>-1.1e-11</td><td>1.19e-11</td><td>nan</td><td>nan</td><td>9.999</td><td>0.95</td><td>-0.9</td><td>0.43700000000000006</td><td>-2.5069999999999997</td><td>0.017</td><td>-215.8</td><td>90.1</td><td>-2.6000000000000002e-12</td><td>4.68e-12</td><td>nan</td><td>nan</td><td>9.999</td><td>0.95</td><td>-0.5</td><td>0.534</td><td>-0.932</td><td>0.009000000000000001</td><td>0.0</td><td>0.0</td><td>0.0</td><td>9999.0</td><td>nan</td><td>nan</td><td>9.999</td><td>0.0</td><td>0.0</td><td>0.0</td><td>0.0</td><td>0.0</td><td>0.0</td><td>0.0</td><td>0.0</td><td>9999.0</td><td>nan</td><td>nan</td><td>9.999</td><td>0.0</td><td>0.0</td><td>0.0</td><td>0.0</td><td>0.0</td><td>0</td><td>1</td><td>85</td><td>1</td><td>0</td><td>0</td><td>0</td><td>0</td><td>0</td><td>0</td></tr>\n",
       "<tr><td>False</td><td>False</td><td>False</td><td>False</td><td>False</td><td>False</td><td>False</td><td>False</td><td>False</td><td>False</td><td>False</td><td>False</td><td>1595.7000000252542</td><td>2274.8600000013894</td><td>11.421692445974523</td><td>42.21466600813455</td><td>1.07</td><td>3.6</td><td>0.099</td><td>1.091</td><td>0.52</td><td>3490.5</td><td>2898.23</td><td>2.0299999999999996e-12</td><td>7.380000000000001e-13</td><td>29.23</td><td>29.371</td><td>0.39399999999999996</td><td>1.02</td><td>2.8</td><td>0.051</td><td>2.029</td><td>0.534</td><td>3787.1</td><td>4732.57</td><td>4.269999999999999e-12</td><td>2.0399999999999998e-12</td><td>28.424</td><td>28.414</td><td>0.52</td><td>1.3</td><td>2.1</td><td>0.44799999999999995</td><td>-0.22699999999999998</td><td>0.6559999999999999</td><td>-379.2</td><td>19.31</td><td>-1.2999999999999999e-11</td><td>1.2999999999999999e-11</td><td>nan</td><td>nan</td><td>9.999</td><td>0.98</td><td>-1.0</td><td>-0.792</td><td>-0.332</td><td>0.07400000000000001</td><td>-408.4</td><td>75.66</td><td>-4.6e-12</td><td>4.48e-12</td><td>nan</td><td>nan</td><td>9.999</td><td>1.0</td><td>-1.0</td><td>-0.10099999999999999</td><td>0.21899999999999997</td><td>0.015</td><td>604.0</td><td>13353.22</td><td>1.9e-12</td><td>5.3e-12</td><td>29.301</td><td>nan</td><td>3.0239999999999996</td><td>1.01</td><td>0.4</td><td>-3.282</td><td>0.22</td><td>3.449</td><td>2734.3</td><td>16155.88</td><td>1.3599999999999999e-11</td><td>1.39e-11</td><td>27.168000000000003</td><td>nan</td><td>1.112</td><td>0.89</td><td>1.0</td><td>-0.389</td><td>-0.16699999999999998</td><td>1.291</td><td>0</td><td>1</td><td>10</td><td>1</td><td>0</td><td>0</td><td>0</td><td>0</td><td>0</td><td>0</td></tr>\n",
       "<tr><td>False</td><td>False</td><td>False</td><td>False</td><td>False</td><td>False</td><td>False</td><td>False</td><td>False</td><td>False</td><td>False</td><td>False</td><td>2277.670000026206</td><td>2275.0900000015113</td><td>11.41415427156432</td><td>42.222315457235936</td><td>1.11</td><td>3.8</td><td>-0.23800000000000002</td><td>0.971</td><td>0.19</td><td>253.7</td><td>2986.56</td><td>1.49e-13</td><td>7.32e-13</td><td>32.07</td><td>32.757</td><td>5.348</td><td>1.11</td><td>0.2</td><td>-0.031</td><td>-0.424</td><td>0.306</td><td>3666.9</td><td>4732.64</td><td>4.12e-12</td><td>1.76e-12</td><td>28.462</td><td>28.521</td><td>0.465</td><td>1.12</td><td>2.3</td><td>-0.5479999999999999</td><td>-0.040999999999999995</td><td>0.514</td><td>-566.5</td><td>25.37</td><td>-2.0000000000000002e-11</td><td>1.19e-11</td><td>nan</td><td>nan</td><td>9.999</td><td>0.76</td><td>-1.7</td><td>0.228</td><td>4.039</td><td>0.078</td><td>294.8</td><td>74.15</td><td>3.39e-12</td><td>4.469999999999999e-12</td><td>28.676</td><td>nan</td><td>1.435</td><td>0.91</td><td>0.8</td><td>-0.237</td><td>0.6920000000000001</td><td>0.027999999999999997</td><td>6375.0</td><td>19026.2</td><td>2.01e-11</td><td>5.88e-12</td><td>26.741</td><td>nan</td><td>0.317</td><td>0.9</td><td>3.4</td><td>-0.12</td><td>-0.04</td><td>0.855</td><td>4936.5</td><td>15663.15</td><td>2.45e-11</td><td>1.53e-11</td><td>26.526999999999997</td><td>nan</td><td>0.68</td><td>0.81</td><td>1.6</td><td>0.085</td><td>0.512</td><td>1.2</td><td>0</td><td>1</td><td>90</td><td>1</td><td>0</td><td>0</td><td>0</td><td>0</td><td>0</td><td>0</td></tr>\n",
       "<tr><td>False</td><td>False</td><td>False</td><td>False</td><td>False</td><td>False</td><td>False</td><td>False</td><td>False</td><td>False</td><td>False</td><td>False</td><td>2493.0500000260836</td><td>1857.7000000007333</td><td>11.405452970207191</td><td>42.22131234354506</td><td>1.14</td><td>3.5</td><td>0.24100000000000002</td><td>0.7</td><td>1.031</td><td>2782.6</td><td>2969.72</td><td>1.6299999999999997e-12</td><td>1.43e-12</td><td>29.471999999999998</td><td>nan</td><td>0.9570000000000001</td><td>1.28</td><td>1.1</td><td>-0.516</td><td>0.5720000000000001</td><td>0.667</td><td>-329.3</td><td>4815.9</td><td>-3.9e-13</td><td>3.2499999999999997e-12</td><td>nan</td><td>nan</td><td>9.999</td><td>1.41</td><td>-0.1</td><td>0.193</td><td>0.35700000000000004</td><td>0.596</td><td>-474.4</td><td>6.58</td><td>-1.6e-11</td><td>1.33e-11</td><td>nan</td><td>nan</td><td>9.999</td><td>0.91</td><td>-1.2</td><td>0.0</td><td>0.0</td><td>0.0</td><td>1344.0</td><td>70.53</td><td>1.5499999999999998e-11</td><td>4.6e-12</td><td>27.025</td><td>nan</td><td>0.32299999999999995</td><td>0.76</td><td>3.4</td><td>0.29100000000000004</td><td>0.504</td><td>0.026000000000000002</td><td>0.0</td><td>0.0</td><td>0.0</td><td>9999.0</td><td>nan</td><td>nan</td><td>9.999</td><td>0.0</td><td>0.0</td><td>0.0</td><td>0.0</td><td>0.0</td><td>0.0</td><td>0.0</td><td>0.0</td><td>9999.0</td><td>nan</td><td>nan</td><td>9.999</td><td>0.0</td><td>0.0</td><td>0.0</td><td>0.0</td><td>0.0</td><td>0</td><td>1</td><td>135</td><td>1</td><td>0</td><td>0</td><td>0</td><td>0</td><td>0</td><td>0</td></tr>\n",
       "<tr><td>False</td><td>False</td><td>False</td><td>False</td><td>False</td><td>False</td><td>False</td><td>False</td><td>False</td><td>False</td><td>False</td><td>False</td><td>2301.910000024426</td><td>1932.4000000015217</td><td>11.408698021794649</td><td>42.21978089209198</td><td>1.05</td><td>3.6</td><td>-0.044000000000000004</td><td>1.002</td><td>1.192</td><td>2739.9</td><td>2968.81</td><td>1.61e-12</td><td>7.75e-13</td><td>29.485</td><td>29.596999999999998</td><td>0.524</td><td>1.0</td><td>2.1</td><td>-0.28300000000000003</td><td>0.019</td><td>1.078</td><td>3201.8</td><td>4719.94</td><td>3.6200000000000003e-12</td><td>2.0099999999999997e-12</td><td>28.603</td><td>28.593000000000004</td><td>0.603</td><td>1.23</td><td>1.8</td><td>-0.18100000000000002</td><td>1.124</td><td>1.2830000000000001</td><td>78.9</td><td>4.26</td><td>2.81e-12</td><td>1.1499999999999999e-11</td><td>28.878</td><td>nan</td><td>4.455</td><td>0.89</td><td>0.2</td><td>-0.14800000000000002</td><td>0.061</td><td>0.012</td><td>-215.3</td><td>86.27</td><td>-2.3e-12</td><td>4.25e-12</td><td>nan</td><td>nan</td><td>9.999</td><td>0.94</td><td>-0.5</td><td>0.568</td><td>2.635</td><td>0.087</td><td>0.0</td><td>0.0</td><td>0.0</td><td>9999.0</td><td>nan</td><td>nan</td><td>9.999</td><td>0.0</td><td>0.0</td><td>0.0</td><td>0.0</td><td>0.0</td><td>0.0</td><td>0.0</td><td>0.0</td><td>9999.0</td><td>nan</td><td>nan</td><td>9.999</td><td>0.0</td><td>0.0</td><td>0.0</td><td>0.0</td><td>0.0</td><td>0</td><td>1</td><td>25</td><td>1</td><td>0</td><td>0</td><td>0</td><td>0</td><td>0</td><td>0</td></tr>\n",
       "<tr><td>False</td><td>False</td><td>False</td><td>False</td><td>False</td><td>False</td><td>False</td><td>False</td><td>False</td><td>False</td><td>False</td><td>False</td><td>1870.3200000252236</td><td>1975.5300000018192</td><td>11.41412417313253</td><td>42.21529454359938</td><td>0.98</td><td>3.7</td><td>0.129</td><td>0.616</td><td>1.347</td><td>3019.2</td><td>2948.78</td><td>1.77e-12</td><td>7.979999999999998e-13</td><td>29.381999999999998</td><td>29.081999999999997</td><td>0.49</td><td>1.12</td><td>2.2</td><td>0.397</td><td>0.674</td><td>0.608</td><td>771.5</td><td>4763.36</td><td>8.66e-13</td><td>1.55e-12</td><td>30.156</td><td>30.101999999999997</td><td>1.9369999999999998</td><td>0.87</td><td>0.6</td><td>-0.209</td><td>0.2</td><td>1.0590000000000002</td><td>245.0</td><td>22.52</td><td>9.1e-12</td><td>1.32e-11</td><td>27.601999999999997</td><td>nan</td><td>1.571</td><td>0.71</td><td>0.7</td><td>-0.04</td><td>0.691</td><td>0.006999999999999999</td><td>-199.3</td><td>58.62</td><td>-2.2e-12</td><td>4.32e-12</td><td>nan</td><td>nan</td><td>9.999</td><td>0.9</td><td>-0.5</td><td>0.184</td><td>0.34600000000000003</td><td>0.008</td><td>-1360.6</td><td>13188.47</td><td>-4.3e-12</td><td>6.5700000000000005e-12</td><td>nan</td><td>nan</td><td>9.999</td><td>1.15</td><td>-0.7</td><td>0.0</td><td>0.0</td><td>0.0</td><td>1238.1</td><td>16034.6</td><td>6.1600000000000004e-12</td><td>1.54e-11</td><td>28.026</td><td>nan</td><td>2.7230000000000003</td><td>0.83</td><td>0.4</td><td>0.43700000000000006</td><td>-0.102</td><td>1.735</td><td>0</td><td>1</td><td>135</td><td>1</td><td>2</td><td>0</td><td>0</td><td>0</td><td>0</td><td>0</td></tr>\n",
       "</table>"
      ],
      "text/plain": [
       "<Table length=205331>\n",
       "F160W_ST F160W_GST F475W_ST F475W_GST ... F336W_FLAG F110W_FLAG F160W_FLAG\n",
       "  bool      bool     bool      bool   ...   int64      int64      int64   \n",
       "-------- --------- -------- --------- ... ---------- ---------- ----------\n",
       "   False     False     True      True ...          0          0          0\n",
       "   False     False     True      True ...          0          0          0\n",
       "    True      True     True      True ...          0          0          2\n",
       "   False     False     True      True ...          0          0          0\n",
       "   False     False     True      True ...          0          0          0\n",
       "   False     False    False     False ...          0          0          0\n",
       "   False     False    False     False ...          0          0          0\n",
       "   False     False    False     False ...          0          0          0\n",
       "    True      True     True      True ...          0          0          0\n",
       "    True      True     True      True ...          0          0          2\n",
       "     ...       ...      ...       ... ...        ...        ...        ...\n",
       "   False     False    False     False ...          2          0          2\n",
       "   False     False    False     False ...          0          0          0\n",
       "   False     False    False     False ...          0          0          0\n",
       "   False     False    False     False ...          0          0          0\n",
       "   False     False    False     False ...          0          0          0\n",
       "   False     False    False     False ...          0          0          0\n",
       "   False     False    False     False ...          0          0          0\n",
       "   False     False    False     False ...          0          0          0\n",
       "   False     False    False     False ...          0          0          0\n",
       "   False     False    False     False ...          0          0          0"
      ]
     },
     "execution_count": 16,
     "metadata": {},
     "output_type": "execute_result"
    }
   ],
   "source": [
    "hdul = fits.open(\"M31-B21-WEST_cutout.st.fits\")\n",
    "Table(hdul[1].data)"
   ]
  },
  {
   "cell_type": "markdown",
   "metadata": {},
   "source": [
    "As we can see, there's a lot of columns and even more rows. For plotting the magnitude histograms, we're going to be interested in any column that contains the name VEGA. These are the columns with the magnitudes for each filter."
   ]
  },
  {
   "cell_type": "code",
   "execution_count": 19,
   "metadata": {},
   "outputs": [
    {
     "name": "stderr",
     "output_type": "stream",
     "text": [
      "/home/christina/anaconda3/lib/python3.7/site-packages/beast/plotting/plot_mag_hist.py:52: RuntimeWarning: invalid value encountered in less\n",
      "  np.where(data_table[filt + \"_VEGA\"] < 90)\n"
     ]
    }
   ],
   "source": [
    "# this if statement just checks if there's already a histogram file\n",
    "if not os.path.isfile('./data/'+field_names[0]+'.gst_maghist.pdf'):\n",
    "    peak_mags = plot_mag_hist.plot_mag_hist(gst_file, stars_per_bin=70, max_bins=75)"
   ]
  },
  {
   "cell_type": "markdown",
   "metadata": {},
   "source": [
    "You can check out the results for the histograms in the file **./*_maghist.pdf**"
   ]
  },
  {
   "cell_type": "markdown",
   "metadata": {},
   "source": [
    "# 1b: Make source density maps"
   ]
  },
  {
   "cell_type": "markdown",
   "metadata": {},
   "source": [
    "Next we'll be creating source density maps. These are maps of our data field colored such that they show how many stars/sources there are in each degree field. The standard size is 5 arc seconds squared, but because this is a small area, I'll plot every 1 arc second squared, just so that there is some resolution This decision can easily be changed by modifying the **pixsize** variable below."
   ]
  },
  {
   "cell_type": "code",
   "execution_count": 4,
   "metadata": {},
   "outputs": [],
   "source": [
    "# the list of fields (we only have 1 so far)\n",
    "field_names = [\"M31-B21-WEST_cutout\"]\n",
    "\n",
    "# distance moduli and velocities\n",
    "# http://adsabs.harvard.edu/abs/2013AJ....146...86T\n",
    "# TODO: these values needs to be changed at some point\n",
    "dist_mod = [24.36]\n",
    "velocity = [-236]\n",
    "\n",
    "# the path+file for a reference image\n",
    "#im_path = [\"14610_M33-B01_1.phot.fits.gz\"]\n",
    "\n",
    "# Pick the filter with the dimmest peak\n",
    "ref_filter =[\"F475W\"]\n",
    "\n",
    "# choose a filter to use for removing artifacts\n",
    "# (remove catalog sources with filter_FLAG > 99)\n",
    "flag_filter = [\"F275W\"]\n",
    "\n",
    "# number of fields\n",
    "n_field = len(field_names)\n",
    "\n",
    "# Need to know what the correspondence is between filter names in the\n",
    "# catalog and the BEAST filter names.\n",
    "#\n",
    "# These will be used to automatically determine the filters present in\n",
    "# each GST file and fill in the datamodel.py file.  The order doesn't\n",
    "# matter, as long as the order in one list matches the order in the other\n",
    "# list.\n",
    "#\n",
    "gst_filter_names = [\"F275W\", \"F475W\", \"F336W\", \"F814W\", \"F110W\", \"F160W\"]\n",
    "beast_filter_names = [\n",
    "    \"HST_WFC3_F275W\",\n",
    "    \"HST_WFC3_F475W\",\n",
    "    \"HST_WFC3_F336W\",\n",
    "    \"HST_WFC3_F814W\",\n",
    "    \"HST_WFC3_F110W\",\n",
    "    \"HST_WFC3_F160W\",\n",
    "]"
   ]
  },
  {
   "cell_type": "code",
   "execution_count": 5,
   "metadata": {},
   "outputs": [],
   "source": [
    "# check to see if the file already exists\n",
    "if not os.path.isfile(gst_file.replace(\".fits\", \"_source_den_image.fits\")):\n",
    "    # if not, run all this other code\n",
    "    \n",
    "    # - pixel size of 5 arcsec\n",
    "    # - use ref_filter[b] between vega mags of 15 and peak_mags[ref_filter[b]]-0.5\n",
    "        # since we're only working with one field, our index b is set to 0\n",
    "    sourceden_args = types.SimpleNamespace(\n",
    "        subcommand=\"sourceden\",\n",
    "        catfile=gst_file,\n",
    "        pixsize=1,\n",
    "        npix=None,\n",
    "        mag_name=ref_filter[0]+ \"_VEGA\",\n",
    "        mag_cut=[17, peak_mags[ref_filter[0]] - 0.5],\n",
    "        flag_name=flag_filter[0]+'_FLAG',\n",
    "    )\n",
    "    create_background_density_map.main_make_map(sourceden_args)\n",
    "\n",
    "# new file name with the source density column\n",
    "gst_file_sd = gst_file.replace(\".fits\", \"_with_sourceden.fits\")\n"
   ]
  },
  {
   "cell_type": "markdown",
   "metadata": {},
   "source": [
    "## Try to view the fits images of the source density maps\n",
    "\n",
    "Now that we have the source density maps outputted, we can plot the image and see that the density looks like."
   ]
  },
  {
   "cell_type": "code",
   "execution_count": 6,
   "metadata": {},
   "outputs": [
    {
     "name": "stdout",
     "output_type": "stream",
     "text": [
      "Filename: ./M31-B21-WEST_cutout.st_source_den_image.fits\n",
      "No.    Name      Ver    Type      Cards   Dimensions   Format\n",
      "  0  PRIMARY       1 PrimaryHDU      19   (174, 175)   float64   \n",
      "<class 'numpy.ndarray'>\n",
      "(175, 174)\n"
     ]
    }
   ],
   "source": [
    "# open the fits file\n",
    "hdu_list = fits.open(\"./M31-B21-WEST_cutout.st_source_den_image.fits\")\n",
    "hdu_list.info()\n",
    "\n",
    "# extract the image data\n",
    "image_data = hdu_list[0].data\n",
    "\n",
    "# take a look at what the image should look like\n",
    "# in this case, we can see that the image is 5x6 squares\n",
    "print(type(image_data))\n",
    "print(image_data.shape)\n",
    "\n",
    "# close the fits file\n",
    "hdu_list.close()"
   ]
  },
  {
   "cell_type": "code",
   "execution_count": 7,
   "metadata": {},
   "outputs": [
    {
     "data": {
      "text/plain": [
       "<matplotlib.colorbar.Colorbar at 0x7fd7057c9e10>"
      ]
     },
     "execution_count": 7,
     "metadata": {},
     "output_type": "execute_result"
    },
    {
     "data": {
      "image/png": "[encoded data removed]",
      "text/plain": [
       "<Figure size 720x720 with 2 Axes>"
      ]
     },
     "metadata": {
      "needs_background": "light"
     },
     "output_type": "display_data"
    }
   ],
   "source": [
    "# plot the extracted image data\n",
    "fig = plt.figure(0, [10,10])\n",
    "im = plt.imshow(image_data, origin=\"lower\")\n",
    "plt.colorbar(im)"
   ]
  },
  {
   "cell_type": "markdown",
   "metadata": {},
   "source": [
    "# Step 0. Make datamodel file\n",
    "\n",
    "Once we have our FITS file ready to go, we can start making actual progress. Zeroth step is to create a data model we'll be applying to our FITS data.\n",
    "\n",
    "A data model file really only needs to be set up once for every field, so this can either be done manually with the datamodel.py file, or automatically within the beast production wrapper code. We've opened up the datamodel.py file in an editor and changed the following fields manually to match our data: \n",
    "\n",
    "* project = \"M31-B21-WEST_cutout\"\n",
    "* surveyname = \"PHAT-M31\"\n",
    "* filters and base filters\n",
    "* make sure ast_with_positions is set to True\n",
    "* ast_density_table = sourd density map (like './M31-B21-WEST_cutout.st_sourceden_map.hd5')\n",
    "* ast_N_bins = 26\n",
    "* ast_reference_image = fits image (like \"./M31-B21-WEST_cutout.st.fits\")\n",
    "* astfile = \"data/M31-B21_WEST_cutout.gst.fake.fits\"\n",
    "\n",
    "\n",
    "This file is also where you specify the parameters and resolution of your physics model which will become relevant in Step 2.\n",
    "\n"
   ]
  },
  {
   "cell_type": "code",
   "execution_count": 9,
   "metadata": {},
   "outputs": [
    {
     "name": "stdout",
     "output_type": "stream",
     "text": [
      "Auto-detected type: fits\n",
      "Auto-detected type: fits\n"
     ]
    },
    {
     "data": {
      "text/plain": [
       "<module 'datamodel' from '/home/christina/Beast_personal/Examples/datamodel.py'>"
      ]
     },
     "execution_count": 9,
     "metadata": {},
     "output_type": "execute_result"
    }
   ],
   "source": [
    "import datamodel\n",
    "\n",
    "importlib.reload(datamodel)"
   ]
  },
  {
   "cell_type": "markdown",
   "metadata": {},
   "source": [
    "# 2: Create physics model\n",
    "\n",
    "Our goal is to eventually run a bunch of **ASTs** (Artificial Star Tests) in the field shown, but before we can do that, we need to generate the fake stars to use.\n",
    "\n",
    "In order to generate a diverse and representative sample of fake stars to use for our ASTs, we need to set up a N-dimensional model of possible stellar parameters, so that we can easily and randomly select stars from the model.\n",
    "\n",
    "This model is called a **physics model**, and we will be using the parameters set in the datamodel.py file to create this N-dimensional grid.\n",
    "\n",
    "*As a quick note, the resolution on the stellar parameters (the step size, often specified as the third input e.g. logt = [6.0, 10.13, 1.0], where 1.0 is the step size) is the main factor driving how long this physics grid will take to set up. If things take a very long time to run, consider making the step size larger for testing's sake.*\n",
    "\n",
    "Sometimes we are able to have access to high-performance computing resources, meaning we can split the physics model into subgrids and run them in parallel, cutting a lot of the computation time. While we're like not running this notebook in parallel here, we've still specified a number of subgrids in the datamodel.py file. \n",
    "\n",
    "We can check how many subgrids are set up."
   ]
  },
  {
   "cell_type": "code",
   "execution_count": 10,
   "metadata": {},
   "outputs": [
    {
     "data": {
      "text/plain": [
       "1"
      ]
     },
     "execution_count": 10,
     "metadata": {},
     "output_type": "execute_result"
    }
   ],
   "source": [
    "datamodel.n_subgrid"
   ]
  },
  {
   "cell_type": "markdown",
   "metadata": {},
   "source": [
    "So we can now see that we've asked for 1 grid in the datamodel.py file.\n",
    "\n",
    "If we've already generated a physics model, we certainly don't want to run it again, so the following code checks to make sure all the subgrids for the physics model are present."
   ]
  },
  {
   "cell_type": "code",
   "execution_count": 11,
   "metadata": {},
   "outputs": [],
   "source": [
    "# see which subgrid files already exist\n",
    "gs_str = \"\"\n",
    "if datamodel.n_subgrid > 1:\n",
    "    gs_str = \"sub*\"\n",
    "\n",
    "# searches to see if files already exist\n",
    "sed_files = glob.glob(\n",
    "    \"./{0}_beast/{0}_beast_seds.grid{1}.hd5\".format(field_names[0], gs_str)\n",
    ")"
   ]
  },
  {
   "cell_type": "code",
   "execution_count": 12,
   "metadata": {},
   "outputs": [
    {
     "name": "stdout",
     "output_type": "stream",
     "text": [
      "Auto-detected type: fits\n",
      "Auto-detected type: fits\n",
      "Auto-detected type: csv\n",
      "Auto-detected type: hd5\n",
      "Auto-detected type: hd5\n"
     ]
    }
   ],
   "source": [
    "# only make the physics model they don't already exist\n",
    "if len(sed_files) < datamodel.n_subgrid:\n",
    "    # directly create physics model grids\n",
    "    create_physicsmodel.create_physicsmodel(nprocs=1, nsubs=datamodel.n_subgrid)\n",
    "    \n",
    "    # create grids with script/is parallelizable/writes out scripts that you can submit to a cue\n",
    "    # we won't be parallelizing the code here in this notebook\n",
    "    #create_physicsmodel.split_create_physicsmodel(nprocs=1, nsubs=datamodel.n_subgrid)\n",
    "    #print('\\n**** go run physics model code for '+field_names[0]+'! ****')\n",
    "   # continue\n"
   ]
  },
  {
   "cell_type": "code",
   "execution_count": 13,
   "metadata": {},
   "outputs": [],
   "source": [
    "# list of SED files\n",
    "model_grid_files = sorted(\n",
    "    glob.glob(\n",
    "        \"./{0}_beast/{0}_beast_seds.grid{1}.hd5\".format(field_names[0], gs_str)\n",
    "    )\n",
    ")"
   ]
  },
  {
   "cell_type": "markdown",
   "metadata": {},
   "source": [
    "Hopefully a lot of spectral grids and SED grids should have started generating. In the end you should have a new folder titled your project name, with a bunch of SED and spectral subgrids."
   ]
  },
  {
   "cell_type": "markdown",
   "metadata": {},
   "source": [
    "# 3. Create ASTs!\n",
    "\n",
    "Now that we have our physics model generated, we can start to generate some ASTs.\n",
    "\n",
    "First thing's first, we're gonna check that there isn't already a file of ASTs present in the folder we're working in."
   ]
  },
  {
   "cell_type": "code",
   "execution_count": 14,
   "metadata": {},
   "outputs": [],
   "source": [
    "# only create an AST input list if the ASTs don't already exist\n",
    "ast_input_file = (\n",
    "    \"./\" + field_names[0] + \"_beast/\" + field_names[0] + \"_beast_inputAST.txt\"\n",
    ")"
   ]
  },
  {
   "cell_type": "markdown",
   "metadata": {},
   "source": [
    "Now we can create the ASTs if they don't already exist."
   ]
  },
  {
   "cell_type": "code",
   "execution_count": 15,
   "metadata": {
    "scrolled": false
   },
   "outputs": [
    {
     "name": "stdout",
     "output_type": "stream",
     "text": [
      "\n",
      "creating artificial stars\n",
      "\n",
      "Auto-detected type: fits\n",
      "Auto-detected type: fits\n",
      "Auto-detected type: fits\n"
     ]
    },
    {
     "name": "stderr",
     "output_type": "stream",
     "text": [
      "/home/christina/anaconda3/lib/python3.7/site-packages/beast/tools/run/make_ast_inputs.py:58: RuntimeWarning: invalid value encountered in less\n",
      "  (keep,) = np.where(obsdata[sfiltername] < 99.0)\n"
     ]
    },
    {
     "name": "stdout",
     "output_type": "stream",
     "text": [
      "Reading existing AST SEDs\n",
      "Assigning positions to artifical stars\n",
      "Auto-detected type: fits\n",
      "Auto-detected type: fits\n",
      "removing 94106 stars from ./M31-B21-WEST_cutout.st.fits\n",
      "1  repeats of each model in each map bin\n"
     ]
    },
    {
     "name": "stderr",
     "output_type": "stream",
     "text": [
      "\r",
      "3066.00 models per map bin:   0%|          | 0/22 [00:00<?, ?it/s]"
     ]
    },
    {
     "name": "stdout",
     "output_type": "stream",
     "text": [
      "22 non-empty map bins (out of 26) found between 0.0 and 36.000076460301955\n"
     ]
    },
    {
     "name": "stderr",
     "output_type": "stream",
     "text": [
      "3066.00 models per map bin: 100%|██████████| 22/22 [00:05<00:00,  4.36it/s]\n"
     ]
    }
   ],
   "source": [
    "if not os.path.isfile(ast_input_file):\n",
    "    print(\"\")\n",
    "    print(\"creating artificial stars\")\n",
    "    print(\"\")\n",
    "    make_ast_inputs.make_ast_inputs(flux_bin_method=True)\n",
    "\n"
   ]
  },
  {
   "cell_type": "code",
   "execution_count": 22,
   "metadata": {},
   "outputs": [
    {
     "data": {
      "text/html": [
       "<i>Table length=24528</i>\n",
       "<table id=\"table140668511406672\" class=\"table-striped table-bordered table-condensed\">\n",
       "<thead><tr><th>zeros</th><th>ones</th><th>X</th><th>Y</th><th>HST_WFC3_F475W</th><th>HST_WFC3_F275W</th><th>HST_WFC3_F336W</th><th>HST_WFC3_F814W</th><th>HST_WFC3_F110W</th><th>HST_WFC3_F160W</th></tr></thead>\n",
       "<thead><tr><th>int64</th><th>int64</th><th>float64</th><th>float64</th><th>float64</th><th>float64</th><th>float64</th><th>float64</th><th>float64</th><th>float64</th></tr></thead>\n",
       "<tr><td>0</td><td>1</td><td>11.40036</td><td>42.18619</td><td>30.2022</td><td>35.47515</td><td>33.61343</td><td>26.07462</td><td>24.43008</td><td>23.05891</td></tr>\n",
       "<tr><td>0</td><td>1</td><td>11.42279</td><td>42.22672</td><td>30.2022</td><td>35.47515</td><td>33.61343</td><td>26.07462</td><td>24.43008</td><td>23.05891</td></tr>\n",
       "<tr><td>0</td><td>1</td><td>11.39875</td><td>42.22299</td><td>30.2022</td><td>35.47515</td><td>33.61343</td><td>26.07462</td><td>24.43008</td><td>23.05891</td></tr>\n",
       "<tr><td>0</td><td>1</td><td>11.37973</td><td>42.22354</td><td>30.2022</td><td>35.47515</td><td>33.61343</td><td>26.07462</td><td>24.43008</td><td>23.05891</td></tr>\n",
       "<tr><td>0</td><td>1</td><td>11.41997</td><td>42.19385</td><td>30.2022</td><td>35.47515</td><td>33.61343</td><td>26.07462</td><td>24.43008</td><td>23.05891</td></tr>\n",
       "<tr><td>0</td><td>1</td><td>11.38749</td><td>42.2121</td><td>30.2022</td><td>35.47515</td><td>33.61343</td><td>26.07462</td><td>24.43008</td><td>23.05891</td></tr>\n",
       "<tr><td>0</td><td>1</td><td>11.43481</td><td>42.18748</td><td>30.2022</td><td>35.47515</td><td>33.61343</td><td>26.07462</td><td>24.43008</td><td>23.05891</td></tr>\n",
       "<tr><td>0</td><td>1</td><td>11.44235</td><td>42.19126</td><td>30.2022</td><td>35.47515</td><td>33.61343</td><td>26.07462</td><td>24.43008</td><td>23.05891</td></tr>\n",
       "<tr><td>0</td><td>1</td><td>11.39369</td><td>42.22352</td><td>24.40485</td><td>27.12747</td><td>25.58552</td><td>22.37666</td><td>21.61781</td><td>20.91429</td></tr>\n",
       "<tr><td>0</td><td>1</td><td>11.43551</td><td>42.21326</td><td>24.40485</td><td>27.12747</td><td>25.58552</td><td>22.37666</td><td>21.61781</td><td>20.91429</td></tr>\n",
       "<tr><td>...</td><td>...</td><td>...</td><td>...</td><td>...</td><td>...</td><td>...</td><td>...</td><td>...</td><td>...</td></tr>\n",
       "<tr><td>0</td><td>1</td><td>11.38643</td><td>42.19919</td><td>49.52341</td><td>50.59265</td><td>52.4725</td><td>41.67305</td><td>38.29889</td><td>36.17306</td></tr>\n",
       "<tr><td>0</td><td>1</td><td>11.3864</td><td>42.19926</td><td>49.52341</td><td>50.59265</td><td>52.4725</td><td>41.67305</td><td>38.29889</td><td>36.17306</td></tr>\n",
       "<tr><td>0</td><td>1</td><td>11.40051</td><td>42.20921</td><td>49.44141</td><td>50.51065</td><td>52.3905</td><td>41.59105</td><td>38.21689</td><td>36.09106</td></tr>\n",
       "<tr><td>0</td><td>1</td><td>11.38647</td><td>42.19902</td><td>49.44141</td><td>50.51065</td><td>52.3905</td><td>41.59105</td><td>38.21689</td><td>36.09106</td></tr>\n",
       "<tr><td>0</td><td>1</td><td>11.38662</td><td>42.19865</td><td>49.44141</td><td>50.51065</td><td>52.3905</td><td>41.59105</td><td>38.21689</td><td>36.09106</td></tr>\n",
       "<tr><td>0</td><td>1</td><td>11.38673</td><td>42.19926</td><td>49.44141</td><td>50.51065</td><td>52.3905</td><td>41.59105</td><td>38.21689</td><td>36.09106</td></tr>\n",
       "<tr><td>0</td><td>1</td><td>11.40045</td><td>42.20914</td><td>49.44141</td><td>50.51065</td><td>52.3905</td><td>41.59105</td><td>38.21689</td><td>36.09106</td></tr>\n",
       "<tr><td>0</td><td>1</td><td>11.38644</td><td>42.19929</td><td>49.44141</td><td>50.51065</td><td>52.3905</td><td>41.59105</td><td>38.21689</td><td>36.09106</td></tr>\n",
       "<tr><td>0</td><td>1</td><td>11.3867</td><td>42.19911</td><td>49.44141</td><td>50.51065</td><td>52.3905</td><td>41.59105</td><td>38.21689</td><td>36.09106</td></tr>\n",
       "<tr><td>0</td><td>1</td><td>11.38648</td><td>42.19927</td><td>49.44141</td><td>50.51065</td><td>52.3905</td><td>41.59105</td><td>38.21689</td><td>36.09106</td></tr>\n",
       "</table>"
      ],
      "text/plain": [
       "<Table length=24528>\n",
       "zeros  ones    X        Y     ... HST_WFC3_F814W HST_WFC3_F110W HST_WFC3_F160W\n",
       "int64 int64 float64  float64  ...    float64        float64        float64    \n",
       "----- ----- -------- -------- ... -------------- -------------- --------------\n",
       "    0     1 11.40036 42.18619 ...       26.07462       24.43008       23.05891\n",
       "    0     1 11.42279 42.22672 ...       26.07462       24.43008       23.05891\n",
       "    0     1 11.39875 42.22299 ...       26.07462       24.43008       23.05891\n",
       "    0     1 11.37973 42.22354 ...       26.07462       24.43008       23.05891\n",
       "    0     1 11.41997 42.19385 ...       26.07462       24.43008       23.05891\n",
       "    0     1 11.38749  42.2121 ...       26.07462       24.43008       23.05891\n",
       "    0     1 11.43481 42.18748 ...       26.07462       24.43008       23.05891\n",
       "    0     1 11.44235 42.19126 ...       26.07462       24.43008       23.05891\n",
       "    0     1 11.39369 42.22352 ...       22.37666       21.61781       20.91429\n",
       "    0     1 11.43551 42.21326 ...       22.37666       21.61781       20.91429\n",
       "  ...   ...      ...      ... ...            ...            ...            ...\n",
       "    0     1 11.38643 42.19919 ...       41.67305       38.29889       36.17306\n",
       "    0     1  11.3864 42.19926 ...       41.67305       38.29889       36.17306\n",
       "    0     1 11.40051 42.20921 ...       41.59105       38.21689       36.09106\n",
       "    0     1 11.38647 42.19902 ...       41.59105       38.21689       36.09106\n",
       "    0     1 11.38662 42.19865 ...       41.59105       38.21689       36.09106\n",
       "    0     1 11.38673 42.19926 ...       41.59105       38.21689       36.09106\n",
       "    0     1 11.40045 42.20914 ...       41.59105       38.21689       36.09106\n",
       "    0     1 11.38644 42.19929 ...       41.59105       38.21689       36.09106\n",
       "    0     1  11.3867 42.19911 ...       41.59105       38.21689       36.09106\n",
       "    0     1 11.38648 42.19927 ...       41.59105       38.21689       36.09106"
      ]
     },
     "execution_count": 22,
     "metadata": {},
     "output_type": "execute_result"
    }
   ],
   "source": [
    "Table.read(\"./M31-B21-WEST_cutout/M31-B21-WEST_cutout_inputAST.txt\", format=\"ascii\")"
   ]
  },
  {
   "cell_type": "markdown",
   "metadata": {},
   "source": [
    "# Check to see how the SEDs and the ASTs compare\n",
    "\n",
    "The histogram that is produced should have both the SED distribution and the AST distribution plotted on it. The thing we want to test for is whether the AST distribution fully samples the SED range."
   ]
  },
  {
   "cell_type": "code",
   "execution_count": 28,
   "metadata": {},
   "outputs": [
    {
     "name": "stdout",
     "output_type": "stream",
     "text": [
      "Auto-detected type: hd5\n"
     ]
    },
    {
     "name": "stderr",
     "output_type": "stream",
     "text": [
      "/home/christina/anaconda3/lib/python3.7/site-packages/beast/plotting/plot_ast_histogram.py:73: MatplotlibDeprecationWarning: \n",
      "The 'normed' kwarg was deprecated in Matplotlib 2.1 and will be removed in 3.1. Use 'density' instead.\n",
      "  label='ASTs'\n",
      "/home/christina/anaconda3/lib/python3.7/site-packages/beast/plotting/plot_ast_histogram.py:84: MatplotlibDeprecationWarning: \n",
      "The 'normed' kwarg was deprecated in Matplotlib 2.1 and will be removed in 3.1. Use 'density' instead.\n",
      "  label='Model grid'\n"
     ]
    }
   ],
   "source": [
    "plot_ast_histogram.plot_ast(ast_file=\"./M31-B21-WEST_cutout/M31-B21-WEST_cutout_inputAST.txt\", sed_grid_file=\"./M31-B21-WEST_cutout/M31-B21-WEST_cutout_seds.grid.hd5\")"
   ]
  }
 ],
 "metadata": {
  "kernelspec": {
   "display_name": "Python 3",
   "language": "python",
   "name": "python3"
  },
  "language_info": {
   "codemirror_mode": {
    "name": "ipython",
    "version": 3
   },
   "file_extension": ".py",
   "mimetype": "text/x-python",
   "name": "python",
   "nbconvert_exporter": "python",
   "pygments_lexer": "ipython3",
   "version": "3.7.5"
  }
 },
 "nbformat": 4,
 "nbformat_minor": 2
}
