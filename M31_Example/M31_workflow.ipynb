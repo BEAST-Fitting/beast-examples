{
 "cells": [
  {
   "cell_type": "markdown",
   "metadata": {},
   "source": [
    "# BEAST Workflow Example\n",
    "\n",
    "In this notebook we will be walking through a standard BEAST workflow example using some data from M31.\n",
    "\n",
    "You'll need a couple of datafiles to get started though. These file can be found at https://www.dropbox.com/sh/91aefrp9gzdc9z0/AAC9Gc4KIRIB520g6a0uLLama?dl=0"
   ]
  },
  {
   "cell_type": "code",
   "execution_count": 1,
   "metadata": {},
   "outputs": [
    {
     "name": "stdout",
     "output_type": "stream",
     "text": [
      "--2020-06-19 10:45:42--  https://www.dropbox.com/sh/91aefrp9gzdc9z0/AAC9Gc4KIRIB520g6a0uLLama?dl=1\n",
      "Resolving www.dropbox.com (www.dropbox.com)... 162.125.1.1, 2620:100:6016:1::a27d:101\n",
      "Connecting to www.dropbox.com (www.dropbox.com)|162.125.1.1|:443... connected.\n",
      "HTTP request sent, awaiting response... 301 Moved Permanently\n",
      "Location: /sh/dl/91aefrp9gzdc9z0/AAC9Gc4KIRIB520g6a0uLLama [following]\n",
      "--2020-06-19 10:45:43--  https://www.dropbox.com/sh/dl/91aefrp9gzdc9z0/AAC9Gc4KIRIB520g6a0uLLama\n",
      "Reusing existing connection to www.dropbox.com:443.\n",
      "HTTP request sent, awaiting response... 302 Found\n",
      "Location: https://ucd953f43dd81ff63114de77483a.dl.dropboxusercontent.com/zip_download_get/AdVP-ZJhGHCSoInHG8cKTir0gqRi2GeRYHY91yWIMpkSMk_RTUjwHAmtKqnqoCFv4GdkSxgGdr7BqbWJNUQ8wvoloCilxyf2RYl-Ip1SIpjMQg?dl=1 [following]\n",
      "--2020-06-19 10:45:43--  https://ucd953f43dd81ff63114de77483a.dl.dropboxusercontent.com/zip_download_get/AdVP-ZJhGHCSoInHG8cKTir0gqRi2GeRYHY91yWIMpkSMk_RTUjwHAmtKqnqoCFv4GdkSxgGdr7BqbWJNUQ8wvoloCilxyf2RYl-Ip1SIpjMQg?dl=1\n",
      "Resolving ucd953f43dd81ff63114de77483a.dl.dropboxusercontent.com (ucd953f43dd81ff63114de77483a.dl.dropboxusercontent.com)... 162.125.1.15, 2620:100:6016:15::a27d:10f\n",
      "Connecting to ucd953f43dd81ff63114de77483a.dl.dropboxusercontent.com (ucd953f43dd81ff63114de77483a.dl.dropboxusercontent.com)|162.125.1.15|:443... connected.\n",
      "HTTP request sent, awaiting response... 200 OK\n",
      "Length: 57812924 (55M) [application/zip]\n",
      "Saving to: ‘data.zip’\n",
      "\n",
      "data.zip            100%[===================>]  55.13M  1.39MB/s    in 31s     \n",
      "\n",
      "2020-06-19 10:46:15 (1.76 MB/s) - ‘data.zip’ saved [57812924/57812924]\n",
      "\n"
     ]
    }
   ],
   "source": [
    "!wget -O data.zip https://www.dropbox.com/sh/91aefrp9gzdc9z0/AAC9Gc4KIRIB520g6a0uLLama?dl=1"
   ]
  },
  {
   "cell_type": "markdown",
   "metadata": {},
   "source": [
    "And now we can extract our files from the zip file."
   ]
  },
  {
   "cell_type": "code",
   "execution_count": 2,
   "metadata": {},
   "outputs": [],
   "source": [
    "import zipfile\n",
    "import os\n",
    "\n",
    "zip_file = 'data.zip'\n",
    "\n",
    "with zipfile.ZipFile(zip_file, 'r') as zip_ref:\n",
    "        zip_ref.extractall(\"./\")\n",
    "\n",
    "# go ahead and delete the zip file\n",
    "if os.path.isfile(zip_file):\n",
    "    os.remove(zip_file)"
   ]
  },
  {
   "cell_type": "markdown",
   "metadata": {},
   "source": [
    "Before we do anything, we have to import the following packages. This seems like a lot but they are all here to make our lives easier down the line. And running them all as the first cell means that if our kernel ever crashes halfway through, we can just reimport everything at once rather than stepping through the cells individually."
   ]
  },
  {
   "cell_type": "code",
   "execution_count": 3,
   "metadata": {
    "scrolled": true
   },
   "outputs": [
    {
     "name": "stdout",
     "output_type": "stream",
     "text": [
      "Auto-detected type: fits\n",
      "Auto-detected type: fits\n"
     ]
    }
   ],
   "source": [
    "import h5py\n",
    "\n",
    "import numpy as np\n",
    "from astropy import wcs\n",
    "from astropy.io import fits\n",
    "from astropy.table import Table\n",
    "\n",
    "import glob\n",
    "import os\n",
    "import types\n",
    "import argparse\n",
    "\n",
    "import matplotlib.pyplot as plt\n",
    "\n",
    "from beast.plotting import (plot_mag_hist, plot_ast_histogram, plot_noisemodel)\n",
    "\n",
    "from beast.tools.run import (\n",
    "    create_physicsmodel,\n",
    "    make_ast_inputs,\n",
    "    create_obsmodel,\n",
    "    run_fitting,\n",
    "    merge_files,\n",
    "    create_filenames,\n",
    ")\n",
    "\n",
    "from beast.physicsmodel.grid import FileSEDGrid\n",
    "from beast.fitting import trim_grid\n",
    "import beast.observationmodel.noisemodel.generic_noisemodel as noisemodel\n",
    "\n",
    "\n",
    "from beast.tools.run import (\n",
    "    run_fitting,\n",
    "    merge_files,\n",
    ")    \n",
    "    \n",
    "from beast.tools import (\n",
    "     create_background_density_map,\n",
    "     split_ast_input_file,\n",
    "     split_catalog_using_map,\n",
    "#     subdivide_obscat_by_source_density,\n",
    "     cut_catalogs,\n",
    "#     split_asts_by_source_density,\n",
    "     setup_batch_beast_trim,\n",
    "#     setup_batch_beast_fit,\n",
    " )\n",
    "\n",
    "import importlib"
   ]
  },
  {
   "cell_type": "markdown",
   "metadata": {},
   "source": [
    "# Step -1. Obtain data file and convert to fits file\n",
    "\n",
    "Sometimes photometric catalogs are delivered as HDF5 files. While these are great for storing data in heirarchies, it's a little hard to work with directly, so we have to convert our HDF5 file to a FITS file.\n",
    "\n",
    "Thankfully, our photometric catalog for this example is already in a FITS format so we don't need to worry about this and can move straight on to Step 1."
   ]
  },
  {
   "cell_type": "markdown",
   "metadata": {},
   "source": [
    "# Step 1a. Make magnitude histograms\n",
    "\n",
    "The first thing we need to do is understand the range of stellar magnitudes we are working with in this data set.\n",
    "\n",
    "To do this we can make histograms of all the magnitudes of all the stars in all the different filters from the photometric catalog. This is done so that we know where the peaks of the histograms are in each filter. These peaks will then be used later when we make source density maps. \n",
    "\n",
    "Essentially what happens is that, for the density maps, we only count objects within a certain range, currently set to mag_cut = 15 - (peak_for_filter-0.5). So if the peak was 17.5, then the objects that would be counted would have to be in the range between 15 and 18. \n",
    "\n",
    "The reason we only count brighter sources is because dimmer sources tend to not be properly observed, especially as the magnitudes near the telescope limit. There will always be far more dim sources than bright sources, but if we know how many bright sources there are, then we can extrapolate as to how many dim sources there should be, and probably get a better understand from that than if we were to try and actually count all the dim sources we detect.  \n",
    "\n",
    "**Variable Information**\n",
    "\n",
    "* **field_name** : the string name of the main photometric catalog we are working with. This variable will be used to rename a lot of different files in the future which is why we have it as a separate variable.\n",
    "* **gst_file** : stands for good-stars, this is the full name for the original photometric catalog we are working with."
   ]
  },
  {
   "cell_type": "code",
   "execution_count": 4,
   "metadata": {},
   "outputs": [],
   "source": [
    "field_name = \"M31-B09-EAST_chunk\"\n",
    "gst_file = \"./%s.st.fits\" %field_name"
   ]
  },
  {
   "cell_type": "markdown",
   "metadata": {},
   "source": [
    "We can see what type of data this fits file holds by making a table. There should be around 50,000 sources in this calalog, which is quite small compared to the original file.\n",
    "\n",
    "*Note: **st** stands for stars. We also sometimes name things **gst** for good stars to signify when cuts have been made.*"
   ]
  },
  {
   "cell_type": "code",
   "execution_count": 5,
   "metadata": {},
   "outputs": [
    {
     "data": {
      "text/html": [
       "<i>Table length=50625</i>\n",
       "<table id=\"table140559293591112\" class=\"table-striped table-bordered table-condensed\">\n",
       "<thead><tr><th>F814W_ST</th><th>F814W_GST</th><th>F475W_ST</th><th>F475W_GST</th><th>F275W_ST</th><th>F275W_GST</th><th>F160W_ST</th><th>F160W_GST</th><th>F336W_ST</th><th>F336W_GST</th><th>F110W_ST</th><th>F110W_GST</th><th>X</th><th>Y</th><th>RA</th><th>DEC</th><th>CHI_GL</th><th>SNR_GL</th><th>SHARP_GL</th><th>ROUND_GL</th><th>CROWD_GL</th><th>F475W_COUNT</th><th>F475W_SKY</th><th>F475W_RATE</th><th>F475W_RATERR</th><th>F475W_VEGA</th><th>F475W_TRANS</th><th>F475W_ERR</th><th>F475W_CHI</th><th>F475W_SNR</th><th>F475W_SHARP</th><th>F475W_ROUND</th><th>F475W_CROWD</th><th>F814W_COUNT</th><th>F814W_SKY</th><th>F814W_RATE</th><th>F814W_RATERR</th><th>F814W_VEGA</th><th>F814W_TRANS</th><th>F814W_ERR</th><th>F814W_CHI</th><th>F814W_SNR</th><th>F814W_SHARP</th><th>F814W_ROUND</th><th>F814W_CROWD</th><th>F275W_COUNT</th><th>F275W_SKY</th><th>F275W_RATE</th><th>F275W_RATERR</th><th>F275W_VEGA</th><th>F275W_TRANS</th><th>F275W_ERR</th><th>F275W_CHI</th><th>F275W_SNR</th><th>F275W_SHARP</th><th>F275W_ROUND</th><th>F275W_CROWD</th><th>F336W_COUNT</th><th>F336W_SKY</th><th>F336W_RATE</th><th>F336W_RATERR</th><th>F336W_VEGA</th><th>F336W_TRANS</th><th>F336W_ERR</th><th>F336W_CHI</th><th>F336W_SNR</th><th>F336W_SHARP</th><th>F336W_ROUND</th><th>F336W_CROWD</th><th>F110W_COUNT</th><th>F110W_SKY</th><th>F110W_RATE</th><th>F110W_RATERR</th><th>F110W_VEGA</th><th>F110W_TRANS</th><th>F110W_ERR</th><th>F110W_CHI</th><th>F110W_SNR</th><th>F110W_SHARP</th><th>F110W_ROUND</th><th>F110W_CROWD</th><th>F160W_COUNT</th><th>F160W_SKY</th><th>F160W_RATE</th><th>F160W_RATERR</th><th>F160W_VEGA</th><th>F160W_TRANS</th><th>F160W_ERR</th><th>F160W_CHI</th><th>F160W_SNR</th><th>F160W_SHARP</th><th>F160W_ROUND</th><th>F160W_CROWD</th><th>EXT</th><th>CHIP</th><th>MAJAX_GL</th><th>OBJTYPE_GL</th><th>F475W_FLAG</th><th>F814W_FLAG</th><th>F275W_FLAG</th><th>F336W_FLAG</th><th>F110W_FLAG</th><th>F160W_FLAG</th></tr></thead>\n",
       "<thead><tr><th>bool</th><th>bool</th><th>bool</th><th>bool</th><th>bool</th><th>bool</th><th>bool</th><th>bool</th><th>bool</th><th>bool</th><th>bool</th><th>bool</th><th>float64</th><th>float64</th><th>float64</th><th>float64</th><th>float64</th><th>float64</th><th>float64</th><th>float64</th><th>float64</th><th>float64</th><th>float64</th><th>float64</th><th>float64</th><th>float64</th><th>float64</th><th>float64</th><th>float64</th><th>float64</th><th>float64</th><th>float64</th><th>float64</th><th>float64</th><th>float64</th><th>float64</th><th>float64</th><th>float64</th><th>float64</th><th>float64</th><th>float64</th><th>float64</th><th>float64</th><th>float64</th><th>float64</th><th>float64</th><th>float64</th><th>float64</th><th>float64</th><th>float64</th><th>float64</th><th>float64</th><th>float64</th><th>float64</th><th>float64</th><th>float64</th><th>float64</th><th>float64</th><th>float64</th><th>float64</th><th>float64</th><th>float64</th><th>float64</th><th>float64</th><th>float64</th><th>float64</th><th>float64</th><th>float64</th><th>float64</th><th>float64</th><th>float64</th><th>float64</th><th>float64</th><th>float64</th><th>float64</th><th>float64</th><th>float64</th><th>float64</th><th>float64</th><th>float64</th><th>float64</th><th>float64</th><th>float64</th><th>float64</th><th>float64</th><th>float64</th><th>float64</th><th>float64</th><th>float64</th><th>float64</th><th>float64</th><th>float64</th><th>float64</th><th>int64</th><th>int64</th><th>int64</th><th>int64</th><th>int64</th><th>int64</th><th>int64</th><th>int64</th><th>int64</th><th>int64</th></tr></thead>\n",
       "<tr><td>True</td><td>True</td><td>True</td><td>True</td><td>True</td><td>True</td><td>True</td><td>True</td><td>True</td><td>True</td><td>True</td><td>True</td><td>869.8900000046692</td><td>44.40999999483233</td><td>11.131832570656686</td><td>41.603419438518735</td><td>4.03</td><td>2917.0</td><td>-0.03</td><td>0.02</td><td>0.251</td><td>233000000.0</td><td>87358.19</td><td>9.039999999999999e-08</td><td>1.3800000000000002e-09</td><td>17.61</td><td>17.721</td><td>0.017</td><td>2.48</td><td>65.4</td><td>0.005</td><td>0.038</td><td>0.175</td><td>198000000.0</td><td>102360.6</td><td>1.59e-07</td><td>1.27e-09</td><td>16.996</td><td>16.986</td><td>0.009000000000000001</td><td>1.77</td><td>124.8</td><td>0.01</td><td>0.049</td><td>0.22699999999999998</td><td>5970000.0</td><td>2256.98</td><td>1.25e-07</td><td>1.16e-09</td><td>17.255</td><td>nan</td><td>0.01</td><td>2.92</td><td>107.7</td><td>-0.038</td><td>0.018000000000000002</td><td>0.086</td><td>23800000.0</td><td>7534.45</td><td>1.69e-07</td><td>6.92e-10</td><td>16.932000000000002</td><td>nan</td><td>0.004</td><td>2.63</td><td>243.9</td><td>-0.031</td><td>0.059000000000000004</td><td>0.084</td><td>79700000.0</td><td>88039.23</td><td>1.6e-07</td><td>2.58e-10</td><td>16.992</td><td>nan</td><td>0.002</td><td>2.23</td><td>619.1</td><td>-0.004</td><td>0.1</td><td>0.35</td><td>56000000.0</td><td>93657.59</td><td>1.8e-07</td><td>2.53e-10</td><td>16.864</td><td>nan</td><td>0.002</td><td>1.51</td><td>708.8</td><td>-0.018000000000000002</td><td>0.027000000000000003</td><td>0.396</td><td>0</td><td>1</td><td>165</td><td>1</td><td>2</td><td>2</td><td>0</td><td>0</td><td>0</td><td>0</td></tr>\n",
       "<tr><td>True</td><td>True</td><td>True</td><td>True</td><td>True</td><td>True</td><td>True</td><td>True</td><td>True</td><td>True</td><td>True</td><td>True</td><td>868.3900000040028</td><td>42.189999993549804</td><td>11.13180414033402</td><td>41.60338891056161</td><td>4.13</td><td>2566.5</td><td>-0.05</td><td>0.028999999999999998</td><td>0.27699999999999997</td><td>125000000.0</td><td>46004.84</td><td>4.85e-08</td><td>2.51e-10</td><td>18.285999999999998</td><td>18.412</td><td>0.006</td><td>3.02</td><td>193.3</td><td>-0.053</td><td>-0.006</td><td>0.231</td><td>118000000.0</td><td>77080.48</td><td>9.23e-08</td><td>1.24e-09</td><td>17.587</td><td>17.577</td><td>0.015</td><td>5.87</td><td>74.3</td><td>-0.096</td><td>0.044000000000000004</td><td>0.324</td><td>4360000.0</td><td>2332.74</td><td>9.15e-08</td><td>7.099999999999999e-10</td><td>17.597</td><td>nan</td><td>0.008</td><td>2.08</td><td>128.8</td><td>-0.057</td><td>0.008</td><td>0.092</td><td>16500000.0</td><td>8339.99</td><td>1.1699999999999999e-07</td><td>9.25e-10</td><td>17.329</td><td>nan</td><td>0.009000000000000001</td><td>3.74</td><td>126.5</td><td>-0.085</td><td>-0.006999999999999999</td><td>0.106</td><td>49500000.0</td><td>82165.18</td><td>9.92e-08</td><td>2.82e-10</td><td>17.508</td><td>nan</td><td>0.003</td><td>2.79</td><td>352.5</td><td>0.013000000000000001</td><td>-0.079</td><td>0.516</td><td>35100000.0</td><td>87515.55</td><td>1.13e-07</td><td>3.31e-10</td><td>17.371</td><td>nan</td><td>0.003</td><td>2.18</td><td>340.0</td><td>-0.026000000000000002</td><td>-0.004</td><td>0.635</td><td>0</td><td>1</td><td>75</td><td>1</td><td>2</td><td>2</td><td>0</td><td>2</td><td>0</td><td>0</td></tr>\n",
       "<tr><td>True</td><td>True</td><td>False</td><td>False</td><td>False</td><td>False</td><td>True</td><td>True</td><td>False</td><td>False</td><td>True</td><td>True</td><td>297.1500000049341</td><td>22.169999994536283</td><td>11.135275566985227</td><td>41.595888643103535</td><td>1.17</td><td>1663.1</td><td>-0.08800000000000001</td><td>0.061</td><td>0.008</td><td>29910.7</td><td>10270.95</td><td>1.1499999999999999e-11</td><td>1.34e-12</td><td>27.348000000000003</td><td>27.805999999999997</td><td>0.126</td><td>1.34</td><td>8.6</td><td>-0.634</td><td>0.177</td><td>0.025</td><td>4160000.0</td><td>21190.25</td><td>3.17e-09</td><td>1.0000000000000001e-11</td><td>21.248</td><td>21.423000000000002</td><td>0.003</td><td>0.9</td><td>316.3</td><td>-0.063</td><td>0.049</td><td>0.001</td><td>-1.7</td><td>44.5</td><td>-6.900000000000001e-14</td><td>1.49e-11</td><td>nan</td><td>nan</td><td>9.999</td><td>0.87</td><td>-0.0</td><td>1.058</td><td>2.951</td><td>0.002</td><td>-565.3</td><td>268.32</td><td>-4.1e-12</td><td>6.389999999999999e-12</td><td>nan</td><td>nan</td><td>9.999</td><td>1.05</td><td>-0.6</td><td>0.0</td><td>0.0</td><td>0.0</td><td>39700000.0</td><td>73069.77</td><td>7.96e-08</td><td>1.1e-10</td><td>17.747</td><td>nan</td><td>0.001</td><td>1.35</td><td>723.9</td><td>0.012</td><td>-0.027000000000000003</td><td>0.011000000000000001</td><td>67100000.0</td><td>85406.73</td><td>2.15e-07</td><td>1.8399999999999998e-10</td><td>16.668</td><td>nan</td><td>0.001</td><td>1.11</td><td>1172.0</td><td>-0.004</td><td>-0.005</td><td>0.012</td><td>0</td><td>1</td><td>10</td><td>1</td><td>0</td><td>0</td><td>0</td><td>0</td><td>2</td><td>2</td></tr>\n",
       "<tr><td>True</td><td>True</td><td>True</td><td>True</td><td>True</td><td>True</td><td>True</td><td>True</td><td>True</td><td>True</td><td>True</td><td>True</td><td>884.8300000051681</td><td>95.5499999940555</td><td>11.132618614902443</td><td>41.60386858784989</td><td>1.9</td><td>2292.6</td><td>-0.025</td><td>0.013000000000000001</td><td>0.01</td><td>66100000.0</td><td>22123.93</td><td>2.5299999999999998e-08</td><td>2.46e-11</td><td>18.99</td><td>18.977</td><td>0.001</td><td>1.67</td><td>1031.4</td><td>-0.023</td><td>0.013999999999999999</td><td>0.0</td><td>34800000.0</td><td>30329.55</td><td>2.64e-08</td><td>2.7e-11</td><td>18.944000000000003</td><td>18.934</td><td>0.001</td><td>1.23</td><td>980.7</td><td>0.004</td><td>0.018000000000000002</td><td>0.002</td><td>5440000.0</td><td>1002.34</td><td>1.14e-07</td><td>1.13e-09</td><td>17.355999999999998</td><td>nan</td><td>0.011000000000000001</td><td>2.74</td><td>101.0</td><td>-0.059000000000000004</td><td>0.046</td><td>0.0</td><td>12000000.0</td><td>2448.62</td><td>8.51e-08</td><td>5.41e-10</td><td>17.676</td><td>nan</td><td>0.006999999999999999</td><td>2.98</td><td>157.3</td><td>-0.085</td><td>0.037000000000000005</td><td>0.0</td><td>11400000.0</td><td>75079.13</td><td>2.28e-08</td><td>5.56e-11</td><td>19.104</td><td>nan</td><td>0.003</td><td>1.38</td><td>411.0</td><td>-0.045</td><td>-0.009000000000000001</td><td>0.03</td><td>7260000.0</td><td>80299.63</td><td>2.33e-08</td><td>5.929999999999999e-11</td><td>19.082</td><td>nan</td><td>0.003</td><td>0.93</td><td>392.4</td><td>-0.017</td><td>-0.003</td><td>0.079</td><td>0</td><td>1</td><td>130</td><td>1</td><td>0</td><td>0</td><td>2</td><td>0</td><td>0</td><td>0</td></tr>\n",
       "<tr><td>True</td><td>True</td><td>False</td><td>False</td><td>False</td><td>False</td><td>True</td><td>True</td><td>False</td><td>False</td><td>True</td><td>True</td><td>805.8000000041931</td><td>624.1299999942455</td><td>11.142303960527883</td><td>41.605486300332416</td><td>1.23</td><td>1555.9</td><td>-0.122</td><td>0.165</td><td>0.016</td><td>-8222.3</td><td>10309.21</td><td>-3.2e-12</td><td>8.149999999999999e-13</td><td>nan</td><td>nan</td><td>9.999</td><td>1.18</td><td>-3.9</td><td>-4.412</td><td>0.713</td><td>0.478</td><td>854724.4</td><td>18592.63</td><td>6.51e-10</td><td>4.58e-12</td><td>22.965999999999998</td><td>nan</td><td>0.008</td><td>1.27</td><td>142.1</td><td>-0.157</td><td>0.221</td><td>0.006</td><td>-836.7</td><td>44.69</td><td>-1.8e-11</td><td>1.98e-11</td><td>nan</td><td>nan</td><td>9.999</td><td>1.2</td><td>-0.9</td><td>0.84</td><td>-0.28</td><td>0.037000000000000005</td><td>-490.7</td><td>257.91</td><td>-3.6000000000000004e-12</td><td>6.37e-12</td><td>nan</td><td>nan</td><td>9.999</td><td>0.93</td><td>-0.6</td><td>0.0</td><td>0.0</td><td>0.0</td><td>36400000.0</td><td>71988.72</td><td>7.299999999999999e-08</td><td>1.68e-10</td><td>17.842</td><td>nan</td><td>0.003</td><td>2.24</td><td>433.8</td><td>-0.059000000000000004</td><td>0.075</td><td>0.006999999999999999</td><td>63800000.0</td><td>85344.55</td><td>2.05e-07</td><td>1.8399999999999998e-10</td><td>16.723</td><td>nan</td><td>0.001</td><td>0.98</td><td>1114.1</td><td>0.009000000000000001</td><td>0.002</td><td>0.01</td><td>0</td><td>1</td><td>15</td><td>1</td><td>3</td><td>3</td><td>0</td><td>0</td><td>2</td><td>2</td></tr>\n",
       "<tr><td>True</td><td>True</td><td>True</td><td>True</td><td>False</td><td>False</td><td>True</td><td>True</td><td>False</td><td>False</td><td>True</td><td>True</td><td>158.71000000585047</td><td>879.0699999946071</td><td>11.15104419200253</td><td>41.598376680664366</td><td>1.21</td><td>1504.4</td><td>-0.057999999999999996</td><td>0.11800000000000001</td><td>0.008</td><td>174859.8</td><td>10226.12</td><td>6.75e-11</td><td>1.7799999999999999e-12</td><td>25.427</td><td>26.089000000000002</td><td>0.028999999999999998</td><td>1.24</td><td>37.8</td><td>-0.16</td><td>0.318</td><td>0.01</td><td>5210000.0</td><td>21725.85</td><td>3.97e-09</td><td>1.1e-11</td><td>21.003</td><td>21.096</td><td>0.003</td><td>0.86</td><td>362.1</td><td>-0.034</td><td>0.033</td><td>0.003</td><td>-124.2</td><td>31.75</td><td>-2.6000000000000002e-12</td><td>1.3599999999999999e-11</td><td>nan</td><td>nan</td><td>9.999</td><td>0.85</td><td>-0.2</td><td>0.06</td><td>6.64</td><td>0.0</td><td>746.3</td><td>233.95</td><td>5.4500000000000004e-12</td><td>6.2599999999999996e-12</td><td>28.159000000000002</td><td>nan</td><td>1.246</td><td>1.17</td><td>0.9</td><td>-0.039</td><td>-0.7020000000000001</td><td>0.006</td><td>25900000.0</td><td>68934.5</td><td>5.2e-08</td><td>1.01e-10</td><td>18.21</td><td>nan</td><td>0.002</td><td>1.76</td><td>512.9</td><td>-0.054000000000000006</td><td>0.065</td><td>0.011000000000000001</td><td>45900000.0</td><td>80340.59</td><td>1.47e-07</td><td>1.35e-10</td><td>17.08</td><td>nan</td><td>0.001</td><td>1.04</td><td>1088.4</td><td>-0.024</td><td>0.006999999999999999</td><td>0.013000000000000001</td><td>0</td><td>1</td><td>150</td><td>1</td><td>2</td><td>0</td><td>0</td><td>0</td><td>0</td><td>0</td></tr>\n",
       "<tr><td>True</td><td>True</td><td>True</td><td>True</td><td>False</td><td>False</td><td>True</td><td>True</td><td>False</td><td>False</td><td>True</td><td>True</td><td>238.33000000445975</td><td>474.95999999429125</td><td>11.14351186487519</td><td>41.597389281034474</td><td>2.03</td><td>1436.1</td><td>-0.083</td><td>0.183</td><td>0.10800000000000001</td><td>33068.2</td><td>9542.11</td><td>1.28e-11</td><td>2.0299999999999996e-12</td><td>27.233</td><td>27.881</td><td>0.172</td><td>2.4</td><td>6.3</td><td>-0.405</td><td>0.633</td><td>0.354</td><td>1180000.0</td><td>18492.85</td><td>9.01e-10</td><td>1.1099999999999999e-11</td><td>22.613000000000003</td><td>22.715</td><td>0.013000000000000001</td><td>2.24</td><td>81.5</td><td>-0.065</td><td>0.201</td><td>0.10099999999999999</td><td>-962.1</td><td>3.96</td><td>-2.0000000000000002e-11</td><td>1.56e-11</td><td>nan</td><td>nan</td><td>9.999</td><td>0.95</td><td>-1.3</td><td>0.0</td><td>0.0</td><td>0.0</td><td>-724.2</td><td>249.83</td><td>-5.3e-12</td><td>5.679999999999999e-12</td><td>nan</td><td>nan</td><td>9.999</td><td>1.03</td><td>-0.9</td><td>0.0</td><td>0.0</td><td>0.0</td><td>28500000.0</td><td>67956.21</td><td>5.71e-08</td><td>6.23e-11</td><td>18.108</td><td>nan</td><td>0.001</td><td>1.03</td><td>916.4</td><td>-0.003</td><td>-0.008</td><td>0.03</td><td>41000000.0</td><td>77900.65</td><td>1.31e-07</td><td>1.42e-10</td><td>17.204</td><td>nan</td><td>0.001</td><td>1.15</td><td>924.9</td><td>0.005</td><td>0.009000000000000001</td><td>0.047</td><td>0</td><td>1</td><td>125</td><td>1</td><td>0</td><td>0</td><td>0</td><td>0</td><td>0</td><td>0</td></tr>\n",
       "<tr><td>True</td><td>True</td><td>True</td><td>True</td><td>True</td><td>True</td><td>True</td><td>True</td><td>True</td><td>True</td><td>True</td><td>True</td><td>824.9700000049659</td><td>176.12999999423107</td><td>11.134414672143825</td><td>41.603495862988545</td><td>1.71</td><td>2286.3</td><td>-0.013000000000000001</td><td>0.01</td><td>0.015</td><td>48100000.0</td><td>18255.8</td><td>1.85e-08</td><td>1.7800000000000003e-11</td><td>19.333</td><td>19.359</td><td>0.001</td><td>1.61</td><td>1040.5</td><td>-0.004</td><td>0.013999999999999999</td><td>0.006999999999999999</td><td>29200000.0</td><td>28051.12</td><td>2.2200000000000004e-08</td><td>1.81e-11</td><td>19.133</td><td>19.123</td><td>0.001</td><td>1.11</td><td>1230.7</td><td>0.005</td><td>0.011000000000000001</td><td>0.006999999999999999</td><td>1690000.0</td><td>448.87</td><td>3.54e-08</td><td>5.58e-10</td><td>18.628</td><td>nan</td><td>0.017</td><td>2.61</td><td>63.4</td><td>-0.07400000000000001</td><td>-0.017</td><td>0.0</td><td>5410000.0</td><td>1424.62</td><td>3.84e-08</td><td>3.85e-10</td><td>18.541</td><td>nan</td><td>0.011000000000000001</td><td>2.95</td><td>99.7</td><td>-0.085</td><td>0.02</td><td>0.0</td><td>10200000.0</td><td>70618.53</td><td>2.04e-08</td><td>4.5299999999999995e-11</td><td>19.224</td><td>nan</td><td>0.002</td><td>1.03</td><td>450.7</td><td>-0.012</td><td>-0.019</td><td>0.09</td><td>6700000.0</td><td>76931.27</td><td>2.15e-08</td><td>6.58e-11</td><td>19.17</td><td>nan</td><td>0.003</td><td>1.08</td><td>326.6</td><td>-0.001</td><td>0.012</td><td>0.09</td><td>0</td><td>1</td><td>135</td><td>1</td><td>2</td><td>0</td><td>2</td><td>2</td><td>0</td><td>0</td></tr>\n",
       "<tr><td>True</td><td>True</td><td>True</td><td>True</td><td>False</td><td>False</td><td>True</td><td>True</td><td>True</td><td>True</td><td>True</td><td>True</td><td>590.0900000061857</td><td>332.8599999953118</td><td>11.138699638637968</td><td>41.60123630320331</td><td>1.37</td><td>2254.4</td><td>-0.019</td><td>0.011000000000000001</td><td>0.006</td><td>4650000.0</td><td>11464.72</td><td>1.79e-09</td><td>4.8899999999999996e-12</td><td>21.869</td><td>22.534000000000002</td><td>0.003</td><td>1.55</td><td>365.6</td><td>-0.02</td><td>0.006999999999999999</td><td>0.003</td><td>37700000.0</td><td>30650.81</td><td>2.8700000000000002e-08</td><td>2.05e-11</td><td>18.855</td><td>18.892</td><td>0.001</td><td>1.05</td><td>1401.2</td><td>-0.015</td><td>0.008</td><td>0.002</td><td>-392.4</td><td>18.53</td><td>-8.4e-12</td><td>1.84e-11</td><td>nan</td><td>nan</td><td>9.999</td><td>1.11</td><td>-0.5</td><td>-0.004</td><td>0.9079999999999999</td><td>0.006999999999999999</td><td>8649.2</td><td>252.79</td><td>6.34e-11</td><td>9.12e-12</td><td>25.495</td><td>nan</td><td>0.156</td><td>1.11</td><td>6.9</td><td>-0.09</td><td>0.254</td><td>0.006</td><td>34700000.0</td><td>72915.04</td><td>6.950000000000001e-08</td><td>8.9e-11</td><td>17.895</td><td>nan</td><td>0.001</td><td>1.31</td><td>781.0</td><td>-0.006999999999999999</td><td>-0.034</td><td>0.024</td><td>51000000.0</td><td>83288.02</td><td>1.6300000000000002e-07</td><td>1.36e-10</td><td>16.967</td><td>nan</td><td>0.001</td><td>0.78</td><td>1203.3</td><td>-0.008</td><td>-0.0</td><td>0.027999999999999997</td><td>0</td><td>1</td><td>105</td><td>1</td><td>2</td><td>0</td><td>0</td><td>0</td><td>0</td><td>0</td></tr>\n",
       "<tr><td>True</td><td>True</td><td>True</td><td>True</td><td>False</td><td>False</td><td>True</td><td>True</td><td>False</td><td>False</td><td>True</td><td>True</td><td>192.55000000367136</td><td>766.0499999944673</td><td>11.148860243216241</td><td>41.5982505014612</td><td>1.23</td><td>1310.9</td><td>-0.023</td><td>0.161</td><td>0.008</td><td>80824.0</td><td>10965.4</td><td>3.12e-11</td><td>1.7200000000000001e-12</td><td>26.264</td><td>26.785</td><td>0.06</td><td>1.39</td><td>18.1</td><td>-0.105</td><td>0.457</td><td>0.018000000000000002</td><td>7870000.0</td><td>23112.07</td><td>6e-09</td><td>1.32e-11</td><td>20.555</td><td>20.71</td><td>0.002</td><td>0.84</td><td>455.1</td><td>-0.028999999999999998</td><td>0.08</td><td>0.002</td><td>855.8</td><td>3.0</td><td>1.81e-11</td><td>1.63e-11</td><td>26.855999999999998</td><td>nan</td><td>0.981</td><td>0.93</td><td>1.1</td><td>0.107</td><td>0.752</td><td>0.001</td><td>876.4</td><td>285.08</td><td>6.4e-12</td><td>8.890000000000001e-12</td><td>27.984</td><td>nan</td><td>1.507</td><td>1.36</td><td>0.7</td><td>1.551</td><td>1.632</td><td>0.006</td><td>21000000.0</td><td>66448.02</td><td>4.21e-08</td><td>1.31e-10</td><td>18.439</td><td>nan</td><td>0.003</td><td>2.44</td><td>321.1</td><td>-0.064</td><td>0.017</td><td>0.009000000000000001</td><td>34900000.0</td><td>75358.92</td><td>1.12e-07</td><td>1.29e-10</td><td>17.379</td><td>nan</td><td>0.001</td><td>0.98</td><td>869.2</td><td>-0.044000000000000004</td><td>0.026000000000000002</td><td>0.011000000000000001</td><td>0</td><td>1</td><td>70</td><td>1</td><td>2</td><td>0</td><td>0</td><td>0</td><td>0</td><td>0</td></tr>\n",
       "<tr><td>...</td><td>...</td><td>...</td><td>...</td><td>...</td><td>...</td><td>...</td><td>...</td><td>...</td><td>...</td><td>...</td><td>...</td><td>...</td><td>...</td><td>...</td><td>...</td><td>...</td><td>...</td><td>...</td><td>...</td><td>...</td><td>...</td><td>...</td><td>...</td><td>...</td><td>...</td><td>...</td><td>...</td><td>...</td><td>...</td><td>...</td><td>...</td><td>...</td><td>...</td><td>...</td><td>...</td><td>...</td><td>...</td><td>...</td><td>...</td><td>...</td><td>...</td><td>...</td><td>...</td><td>...</td><td>...</td><td>...</td><td>...</td><td>...</td><td>...</td><td>...</td><td>...</td><td>...</td><td>...</td><td>...</td><td>...</td><td>...</td><td>...</td><td>...</td><td>...</td><td>...</td><td>...</td><td>...</td><td>...</td><td>...</td><td>...</td><td>...</td><td>...</td><td>...</td><td>...</td><td>...</td><td>...</td><td>...</td><td>...</td><td>...</td><td>...</td><td>...</td><td>...</td><td>...</td><td>...</td><td>...</td><td>...</td><td>...</td><td>...</td><td>...</td><td>...</td><td>...</td><td>...</td><td>...</td><td>...</td><td>...</td><td>...</td><td>...</td><td>...</td><td>...</td><td>...</td><td>...</td><td>...</td><td>...</td><td>...</td><td>...</td><td>...</td><td>...</td></tr>\n",
       "<tr><td>False</td><td>False</td><td>False</td><td>False</td><td>False</td><td>False</td><td>False</td><td>False</td><td>False</td><td>False</td><td>False</td><td>False</td><td>139.70000000664345</td><td>235.7399999952504</td><td>11.140027137243239</td><td>41.594916190423845</td><td>1.13</td><td>4.2</td><td>0.001</td><td>0.47</td><td>2.877</td><td>1123.5</td><td>8802.05</td><td>4.2299999999999996e-13</td><td>8.909999999999998e-13</td><td>30.934</td><td>31.000999999999998</td><td>2.286</td><td>1.11</td><td>0.5</td><td>0.18</td><td>1.0170000000000001</td><td>1.193</td><td>819.6</td><td>16521.3</td><td>6.02e-13</td><td>2.7400000000000004e-12</td><td>30.551</td><td>30.541999999999998</td><td>4.939</td><td>1.3</td><td>0.2</td><td>-0.39399999999999996</td><td>-0.866</td><td>1.8430000000000002</td><td>1414.3</td><td>6.4</td><td>2.99e-11</td><td>1.61e-11</td><td>26.31</td><td>nan</td><td>0.583</td><td>0.92</td><td>1.9</td><td>0.042</td><td>-1.079</td><td>0.02</td><td>524.0</td><td>199.47</td><td>3.96e-12</td><td>6.179999999999999e-12</td><td>28.505</td><td>nan</td><td>1.692</td><td>0.84</td><td>0.6</td><td>-0.015</td><td>2.428</td><td>0.025</td><td>5249.1</td><td>63158.89</td><td>1.05e-11</td><td>1.26e-11</td><td>27.445</td><td>nan</td><td>1.3</td><td>1.33</td><td>0.8</td><td>-0.541</td><td>-0.055</td><td>4.156000000000001</td><td>11899.2</td><td>70717.09</td><td>3.820000000000001e-11</td><td>2.1899999999999997e-11</td><td>26.046</td><td>nan</td><td>0.623</td><td>1.07</td><td>1.7</td><td>0.121</td><td>0.021</td><td>2.753</td><td>0</td><td>1</td><td>165</td><td>1</td><td>0</td><td>0</td><td>0</td><td>0</td><td>0</td><td>0</td></tr>\n",
       "<tr><td>False</td><td>False</td><td>False</td><td>False</td><td>False</td><td>False</td><td>False</td><td>False</td><td>False</td><td>False</td><td>False</td><td>False</td><td>45.02000000496014</td><td>833.5599999946328</td><td>11.151015306251551</td><td>41.59667641295129</td><td>1.11</td><td>4.8</td><td>-0.182</td><td>0.67</td><td>0.415</td><td>8471.2</td><td>9065.82</td><td>3.28e-12</td><td>1.09e-12</td><td>28.711</td><td>28.980999999999998</td><td>0.36</td><td>1.11</td><td>3.0</td><td>0.057999999999999996</td><td>0.154</td><td>0.632</td><td>13201.0</td><td>16691.07</td><td>1.0100000000000001e-11</td><td>3.18e-12</td><td>27.491999999999997</td><td>27.485</td><td>0.34299999999999997</td><td>1.26</td><td>3.2</td><td>0.159</td><td>-0.263</td><td>0.92</td><td>561.8</td><td>3.98</td><td>1.19e-11</td><td>1.35e-11</td><td>27.315</td><td>nan</td><td>1.235</td><td>0.85</td><td>0.9</td><td>-0.47</td><td>1.2</td><td>0.062</td><td>-430.5</td><td>230.36</td><td>-3.2e-12</td><td>4.150000000000001e-12</td><td>nan</td><td>nan</td><td>9.999</td><td>0.88</td><td>-0.8</td><td>-0.371</td><td>3.103</td><td>0.08800000000000001</td><td>7197.4</td><td>61992.18</td><td>1.4400000000000002e-11</td><td>8.859999999999999e-12</td><td>27.101999999999997</td><td>nan</td><td>0.667</td><td>0.91</td><td>1.6</td><td>0.47200000000000003</td><td>-0.899</td><td>3.343</td><td>351.2</td><td>68266.34</td><td>1.1100000000000001e-12</td><td>2.0699999999999997e-11</td><td>29.884</td><td>nan</td><td>9.999</td><td>1.07</td><td>0.1</td><td>-0.28300000000000003</td><td>-0.382</td><td>3.883</td><td>0</td><td>1</td><td>10</td><td>1</td><td>0</td><td>0</td><td>2</td><td>0</td><td>0</td><td>0</td></tr>\n",
       "<tr><td>False</td><td>False</td><td>False</td><td>False</td><td>False</td><td>False</td><td>False</td><td>False</td><td>False</td><td>False</td><td>False</td><td>False</td><td>124.22000000354114</td><td>891.7099999947256</td><td>11.15149356523698</td><td>41.597992980970396</td><td>1.07</td><td>4.4</td><td>0.27899999999999997</td><td>1.075</td><td>0.871</td><td>3799.5</td><td>8730.35</td><td>1.47e-12</td><td>1.03e-12</td><td>29.581</td><td>30.06</td><td>0.762</td><td>0.99</td><td>1.4</td><td>0.46</td><td>0.057999999999999996</td><td>1.1540000000000001</td><td>10487.5</td><td>16054.26</td><td>8e-12</td><td>3.0600000000000003e-12</td><td>27.741999999999997</td><td>27.745</td><td>0.415</td><td>1.23</td><td>2.6</td><td>0.10099999999999999</td><td>1.024</td><td>1.421</td><td>-946.2</td><td>1.81</td><td>-2.0000000000000002e-11</td><td>1.26e-11</td><td>nan</td><td>nan</td><td>9.999</td><td>1.11</td><td>-1.6</td><td>3.847</td><td>9.999</td><td>0.035</td><td>-859.3</td><td>208.6</td><td>-6.3e-12</td><td>4.03e-12</td><td>nan</td><td>nan</td><td>9.999</td><td>1.0</td><td>-1.6</td><td>0.015</td><td>-0.023</td><td>0.022000000000000002</td><td>10494.9</td><td>61350.07</td><td>2.1e-11</td><td>1.2900000000000002e-11</td><td>26.693</td><td>nan</td><td>0.667</td><td>1.42</td><td>1.6</td><td>0.102</td><td>-0.062</td><td>3.245</td><td>16822.6</td><td>66808.6</td><td>5.3899999999999996e-11</td><td>2.0899999999999997e-11</td><td>25.671</td><td>nan</td><td>0.42200000000000004</td><td>0.68</td><td>2.6</td><td>-0.124</td><td>0.821</td><td>2.8139999999999996</td><td>0</td><td>1</td><td>135</td><td>1</td><td>0</td><td>0</td><td>0</td><td>0</td><td>0</td><td>0</td></tr>\n",
       "<tr><td>False</td><td>False</td><td>False</td><td>False</td><td>False</td><td>False</td><td>False</td><td>False</td><td>False</td><td>False</td><td>False</td><td>False</td><td>491.7300000047286</td><td>28.15999999404994</td><td>11.13407882831087</td><td>41.59843930637129</td><td>1.3</td><td>3.6</td><td>1.249</td><td>1.4040000000000001</td><td>0.9420000000000001</td><td>-3482.7</td><td>9812.03</td><td>-1.3000000000000001e-12</td><td>9.75e-13</td><td>nan</td><td>nan</td><td>9.999</td><td>1.25</td><td>-1.4</td><td>0.9009999999999999</td><td>-1.339</td><td>0.451</td><td>17882.3</td><td>18260.27</td><td>1.3599999999999999e-11</td><td>3.22e-12</td><td>27.164</td><td>nan</td><td>0.257</td><td>1.45</td><td>4.2</td><td>1.393</td><td>1.757</td><td>1.099</td><td>-1014.1</td><td>51.71</td><td>-2.1e-11</td><td>1.4699999999999998e-11</td><td>nan</td><td>nan</td><td>9.999</td><td>0.9</td><td>-1.4</td><td>0.0</td><td>0.0</td><td>0.0</td><td>-2806.0</td><td>259.79</td><td>-2.0000000000000002e-11</td><td>1.0800000000000001e-11</td><td>nan</td><td>nan</td><td>9.999</td><td>0.87</td><td>-1.8</td><td>0.0</td><td>0.0</td><td>0.0</td><td>-843.3</td><td>67460.74</td><td>-1.6999999999999998e-12</td><td>1.6e-11</td><td>nan</td><td>nan</td><td>9.999</td><td>1.71</td><td>-0.1</td><td>0.0</td><td>0.0</td><td>0.0</td><td>14713.1</td><td>74903.59</td><td>4.72e-11</td><td>2.64e-11</td><td>25.816</td><td>nan</td><td>0.607</td><td>1.26</td><td>1.8</td><td>0.32799999999999996</td><td>1.579</td><td>2.6</td><td>0</td><td>1</td><td>30</td><td>1</td><td>2</td><td>0</td><td>0</td><td>0</td><td>0</td><td>0</td></tr>\n",
       "<tr><td>False</td><td>False</td><td>False</td><td>False</td><td>False</td><td>False</td><td>False</td><td>False</td><td>False</td><td>False</td><td>False</td><td>False</td><td>45.10000000349737</td><td>784.4199999943728</td><td>11.150163527414094</td><td>41.596431973103726</td><td>1.13</td><td>4.5</td><td>0.297</td><td>0.653</td><td>1.6269999999999998</td><td>10956.9</td><td>8636.31</td><td>4.24e-12</td><td>1.08e-12</td><td>28.430999999999997</td><td>nan</td><td>0.276</td><td>1.03</td><td>3.9</td><td>0.131</td><td>-0.102</td><td>1.251</td><td>-3891.8</td><td>15874.79</td><td>-2.9999999999999997e-12</td><td>3.39e-12</td><td>nan</td><td>nan</td><td>9.999</td><td>1.31</td><td>-0.9</td><td>2.092</td><td>8.902000000000001</td><td>3.199</td><td>-1522.4</td><td>26.91</td><td>-3.2e-11</td><td>1.64e-11</td><td>nan</td><td>nan</td><td>9.999</td><td>1.2</td><td>-2.0</td><td>0.0</td><td>0.0</td><td>0.0</td><td>1473.8</td><td>225.73</td><td>1.07e-11</td><td>5.480000000000001e-12</td><td>27.421999999999997</td><td>nan</td><td>0.5529999999999999</td><td>0.9</td><td>2.0</td><td>0.431</td><td>0.9179999999999999</td><td>0.053</td><td>13270.7</td><td>60622.41</td><td>2.66e-11</td><td>1.16e-11</td><td>26.438000000000002</td><td>nan</td><td>0.475</td><td>1.47</td><td>2.3</td><td>0.249</td><td>0.769</td><td>2.782</td><td>1628.0</td><td>66785.31</td><td>5.26e-12</td><td>2.0200000000000002e-11</td><td>28.198</td><td>nan</td><td>4.17</td><td>0.87</td><td>0.3</td><td>0.149</td><td>0.026000000000000002</td><td>3.0269999999999997</td><td>0</td><td>1</td><td>150</td><td>1</td><td>0</td><td>0</td><td>0</td><td>0</td><td>0</td><td>0</td></tr>\n",
       "<tr><td>False</td><td>False</td><td>False</td><td>False</td><td>False</td><td>False</td><td>False</td><td>False</td><td>False</td><td>False</td><td>False</td><td>False</td><td>300.67000000529197</td><td>124.46999999461252</td><td>11.13702404373161</td><td>41.59644549997782</td><td>1.24</td><td>3.8</td><td>-0.239</td><td>2.224</td><td>0.988</td><td>8530.9</td><td>8828.88</td><td>3.28e-12</td><td>9.2e-13</td><td>28.712</td><td>29.011999999999997</td><td>0.305</td><td>1.18</td><td>3.6</td><td>-0.11900000000000001</td><td>3.517</td><td>1.002</td><td>14136.9</td><td>17768.3</td><td>1.0800000000000001e-11</td><td>2.9e-12</td><td>27.42</td><td>27.414</td><td>0.292</td><td>1.31</td><td>3.7</td><td>-0.193</td><td>1.558</td><td>1.268</td><td>-1678.8</td><td>-5.81</td><td>-3.6e-11</td><td>1.68e-11</td><td>nan</td><td>nan</td><td>9.999</td><td>1.18</td><td>-2.1</td><td>-0.41200000000000003</td><td>-1.262</td><td>0.037000000000000005</td><td>20.4</td><td>204.34</td><td>1.2e-13</td><td>6.4599999999999995e-12</td><td>32.298</td><td>nan</td><td>9.999</td><td>1.13</td><td>0.0</td><td>-1.379</td><td>0.364</td><td>0.099</td><td>6309.5</td><td>64820.31</td><td>1.26e-11</td><td>1.39e-11</td><td>27.245</td><td>nan</td><td>1.195</td><td>1.62</td><td>0.9</td><td>-0.172</td><td>0.163</td><td>3.687</td><td>1575.6</td><td>71781.3</td><td>5.0500000000000005e-12</td><td>1.97e-11</td><td>28.241999999999997</td><td>nan</td><td>4.245</td><td>0.88</td><td>0.3</td><td>0.062</td><td>-0.011000000000000001</td><td>3.931</td><td>0</td><td>1</td><td>100</td><td>1</td><td>0</td><td>0</td><td>0</td><td>0</td><td>0</td><td>0</td></tr>\n",
       "<tr><td>False</td><td>False</td><td>False</td><td>False</td><td>False</td><td>False</td><td>False</td><td>False</td><td>False</td><td>False</td><td>False</td><td>False</td><td>328.90000000475607</td><td>371.37999999437136</td><td>11.141112398449446</td><td>41.59804507142715</td><td>1.16</td><td>3.8</td><td>-0.11800000000000001</td><td>0.616</td><td>3.438</td><td>-6049.9</td><td>8542.92</td><td>-2.3e-12</td><td>1e-12</td><td>nan</td><td>nan</td><td>9.999</td><td>1.02</td><td>-2.3</td><td>-0.151</td><td>9.596</td><td>2.115</td><td>-5593.7</td><td>16425.26</td><td>-4.3e-12</td><td>2.5000000000000003e-12</td><td>nan</td><td>nan</td><td>9.999</td><td>1.1</td><td>-1.7</td><td>0.376</td><td>-2.5469999999999997</td><td>2.073</td><td>4632.4</td><td>40.89</td><td>9.83e-11</td><td>3.2100000000000004e-11</td><td>25.018</td><td>nan</td><td>0.355</td><td>1.3</td><td>3.1</td><td>-0.1</td><td>0.402</td><td>0.053</td><td>-1094.0</td><td>197.85</td><td>-8e-12</td><td>5.59e-12</td><td>nan</td><td>nan</td><td>9.999</td><td>0.83</td><td>-1.4</td><td>0.0</td><td>0.0</td><td>0.0</td><td>-1385.9</td><td>63262.95</td><td>-2.7999999999999998e-12</td><td>1.64e-11</td><td>nan</td><td>nan</td><td>9.999</td><td>1.55</td><td>-0.2</td><td>0.0</td><td>0.0</td><td>0.0</td><td>32938.1</td><td>70232.93</td><td>1.06e-10</td><td>2.7300000000000002e-11</td><td>24.94</td><td>nan</td><td>0.28</td><td>1.33</td><td>3.9</td><td>0.132</td><td>0.342</td><td>2.597</td><td>0</td><td>1</td><td>160</td><td>1</td><td>0</td><td>1</td><td>0</td><td>0</td><td>0</td><td>0</td></tr>\n",
       "<tr><td>False</td><td>False</td><td>False</td><td>False</td><td>False</td><td>False</td><td>False</td><td>False</td><td>False</td><td>False</td><td>False</td><td>False</td><td>546.9500000037107</td><td>61.31999999343384</td><td>11.134284148248089</td><td>41.5993203942432</td><td>1.08</td><td>3.6</td><td>0.297</td><td>0.861</td><td>2.937</td><td>-1815.0</td><td>9237.35</td><td>-6.9e-13</td><td>8.4e-13</td><td>nan</td><td>nan</td><td>9.999</td><td>1.0</td><td>-0.8</td><td>0.084</td><td>0.23600000000000002</td><td>1.24</td><td>119.8</td><td>17602.08</td><td>1.0699999999999999e-13</td><td>2.54e-12</td><td>32.423</td><td>nan</td><td>9.999</td><td>1.09</td><td>0.0</td><td>0.027000000000000003</td><td>0.782</td><td>2.589</td><td>2267.6</td><td>4.87</td><td>4.75e-11</td><td>1.81e-11</td><td>25.807</td><td>nan</td><td>0.41200000000000003</td><td>0.91</td><td>2.6</td><td>0.43</td><td>1.1159999999999999</td><td>0.013999999999999999</td><td>-1588.6</td><td>199.09</td><td>-1.1e-11</td><td>7.639999999999999e-12</td><td>nan</td><td>nan</td><td>9.999</td><td>1.25</td><td>-1.5</td><td>0.0</td><td>0.0</td><td>0.0</td><td>5653.1</td><td>67000.59</td><td>1.13e-11</td><td>1.56e-11</td><td>27.365</td><td>nan</td><td>1.499</td><td>1.52</td><td>0.7</td><td>1.1640000000000001</td><td>6.152</td><td>4.522</td><td>23006.9</td><td>73242.07</td><td>7.379999999999999e-11</td><td>2.6899999999999996e-11</td><td>25.33</td><td>nan</td><td>0.396</td><td>1.04</td><td>2.7</td><td>0.524</td><td>0.693</td><td>3.137</td><td>0</td><td>1</td><td>35</td><td>1</td><td>0</td><td>0</td><td>0</td><td>0</td><td>0</td><td>0</td></tr>\n",
       "<tr><td>False</td><td>False</td><td>False</td><td>False</td><td>False</td><td>False</td><td>False</td><td>False</td><td>False</td><td>False</td><td>False</td><td>False</td><td>729.7300000053044</td><td>216.06999999517893</td><td>11.135743163679448</td><td>41.602461665939074</td><td>1.12</td><td>3.6</td><td>0.079</td><td>2.228</td><td>1.945</td><td>4766.7</td><td>9215.83</td><td>1.82e-12</td><td>7.08e-13</td><td>29.348000000000003</td><td>29.593000000000004</td><td>0.42100000000000004</td><td>1.07</td><td>2.6</td><td>0.105</td><td>2.197</td><td>1.162</td><td>6956.3</td><td>16934.97</td><td>5.3e-12</td><td>1.96e-12</td><td>28.189</td><td>28.18</td><td>0.401</td><td>1.16</td><td>2.7</td><td>0.159</td><td>1.1420000000000001</td><td>1.744</td><td>-2312.7</td><td>89.92</td><td>-4.7999999999999996e-11</td><td>1.72e-11</td><td>nan</td><td>nan</td><td>9.999</td><td>1.1</td><td>-2.8</td><td>0.193</td><td>0.363</td><td>0.371</td><td>-856.9</td><td>206.22</td><td>-6.0999999999999995e-12</td><td>5.679999999999999e-12</td><td>nan</td><td>nan</td><td>9.999</td><td>0.96</td><td>-1.1</td><td>-0.322</td><td>8.344</td><td>0.038</td><td>3614.7</td><td>64680.2</td><td>7.240000000000001e-12</td><td>1.4499999999999998e-11</td><td>27.85</td><td>nan</td><td>2.175</td><td>1.49</td><td>0.5</td><td>-1.128</td><td>0.457</td><td>4.6610000000000005</td><td>-2560.7</td><td>72170.48</td><td>-8.2e-12</td><td>2.43e-11</td><td>nan</td><td>nan</td><td>9.999</td><td>1.24</td><td>-0.3</td><td>2.322</td><td>0.456</td><td>4.119</td><td>0</td><td>1</td><td>90</td><td>1</td><td>2</td><td>0</td><td>0</td><td>0</td><td>0</td><td>0</td></tr>\n",
       "<tr><td>False</td><td>False</td><td>False</td><td>False</td><td>False</td><td>False</td><td>False</td><td>False</td><td>False</td><td>False</td><td>False</td><td>False</td><td>735.9100000053115</td><td>553.1799999945795</td><td>11.141541865647177</td><td>41.604226347405195</td><td>1.06</td><td>3.6</td><td>0.521</td><td>3.795</td><td>1.446</td><td>6386.6</td><td>9697.99</td><td>2.46e-12</td><td>6.929999999999999e-13</td><td>29.022</td><td>29.070999999999998</td><td>0.305</td><td>1.07</td><td>3.6</td><td>0.262</td><td>3.745</td><td>0.851</td><td>4251.1</td><td>17863.19</td><td>3.2400000000000003e-12</td><td>1.7799999999999999e-12</td><td>28.725</td><td>28.715999999999998</td><td>0.598</td><td>1.02</td><td>1.8</td><td>1.04</td><td>2.144</td><td>1.3359999999999999</td><td>-1733.4</td><td>33.06</td><td>-3.7e-11</td><td>1.52e-11</td><td>nan</td><td>nan</td><td>9.999</td><td>0.97</td><td>-2.4</td><td>5.979</td><td>9.999</td><td>0.113</td><td>-1083.8</td><td>247.92</td><td>-8e-12</td><td>6.29e-12</td><td>nan</td><td>nan</td><td>9.999</td><td>0.95</td><td>-1.3</td><td>0.68</td><td>0.337</td><td>0.152</td><td>-3049.3</td><td>65793.02</td><td>-6.0999999999999995e-12</td><td>1.05e-11</td><td>nan</td><td>nan</td><td>9.999</td><td>1.27</td><td>-0.6</td><td>0.0</td><td>0.0</td><td>0.0</td><td>2055.5</td><td>71931.6</td><td>6.56e-12</td><td>1.96e-11</td><td>27.958000000000002</td><td>nan</td><td>3.238</td><td>0.98</td><td>0.3</td><td>-0.23</td><td>0.266</td><td>2.713</td><td>0</td><td>1</td><td>90</td><td>1</td><td>0</td><td>2</td><td>0</td><td>0</td><td>0</td><td>0</td></tr>\n",
       "</table>"
      ],
      "text/plain": [
       "<Table length=50625>\n",
       "F814W_ST F814W_GST F475W_ST F475W_GST ... F336W_FLAG F110W_FLAG F160W_FLAG\n",
       "  bool      bool     bool      bool   ...   int64      int64      int64   \n",
       "-------- --------- -------- --------- ... ---------- ---------- ----------\n",
       "    True      True     True      True ...          0          0          0\n",
       "    True      True     True      True ...          2          0          0\n",
       "    True      True    False     False ...          0          2          2\n",
       "    True      True     True      True ...          0          0          0\n",
       "    True      True    False     False ...          0          2          2\n",
       "    True      True     True      True ...          0          0          0\n",
       "    True      True     True      True ...          0          0          0\n",
       "    True      True     True      True ...          2          0          0\n",
       "    True      True     True      True ...          0          0          0\n",
       "    True      True     True      True ...          0          0          0\n",
       "     ...       ...      ...       ... ...        ...        ...        ...\n",
       "   False     False    False     False ...          0          0          0\n",
       "   False     False    False     False ...          0          0          0\n",
       "   False     False    False     False ...          0          0          0\n",
       "   False     False    False     False ...          0          0          0\n",
       "   False     False    False     False ...          0          0          0\n",
       "   False     False    False     False ...          0          0          0\n",
       "   False     False    False     False ...          0          0          0\n",
       "   False     False    False     False ...          0          0          0\n",
       "   False     False    False     False ...          0          0          0\n",
       "   False     False    False     False ...          0          0          0"
      ]
     },
     "execution_count": 5,
     "metadata": {},
     "output_type": "execute_result"
    }
   ],
   "source": [
    "hdul = fits.open(gst_file)\n",
    "Table(hdul[1].data)"
   ]
  },
  {
   "cell_type": "markdown",
   "metadata": {},
   "source": [
    "As we can see, there's a lot of columns and even more rows. For plotting the magnitude histograms, we're going to be interested in any column that contains the name VEGA. These are the columns with the magnitudes for each filter.\n",
    "\n",
    "We could also use the X and Y columns to plot where are the sources are located, or the RA and DEC to map their actual position in the sky.\n",
    "\n",
    "In larger projects we might have multiple fields to analyze during each run, so there would be multiple **field_names**. Since this is just a small example, we just have one field so our index will always be equal to **0**."
   ]
  },
  {
   "cell_type": "code",
   "execution_count": 6,
   "metadata": {},
   "outputs": [],
   "source": [
    "# the list of fields (we only have 1 for this example.)\n",
    "field_names = [field_name]"
   ]
  },
  {
   "cell_type": "markdown",
   "metadata": {},
   "source": [
    "Now we can create some histogram plots to visualize the magnitude distribution of our sources."
   ]
  },
  {
   "cell_type": "code",
   "execution_count": 7,
   "metadata": {},
   "outputs": [
    {
     "name": "stderr",
     "output_type": "stream",
     "text": [
      "/home/christina/anaconda3/envs/astroconda/lib/python3.6/site-packages/beast/plotting/plot_mag_hist.py:54: RuntimeWarning: invalid value encountered in less\n",
      "  np.where(data_table[filt + \"_VEGA\"] < 90)\n",
      "/home/christina/anaconda3/envs/astroconda/lib/python3.6/site-packages/beast/plotting/plot_mag_hist.py:54: RuntimeWarning: invalid value encountered in less\n",
      "  np.where(data_table[filt + \"_VEGA\"] < 90)\n",
      "/home/christina/anaconda3/envs/astroconda/lib/python3.6/site-packages/beast/plotting/plot_mag_hist.py:54: RuntimeWarning: invalid value encountered in less\n",
      "  np.where(data_table[filt + \"_VEGA\"] < 90)\n",
      "/home/christina/anaconda3/envs/astroconda/lib/python3.6/site-packages/beast/plotting/plot_mag_hist.py:54: RuntimeWarning: invalid value encountered in less\n",
      "  np.where(data_table[filt + \"_VEGA\"] < 90)\n",
      "/home/christina/anaconda3/envs/astroconda/lib/python3.6/site-packages/beast/plotting/plot_mag_hist.py:54: RuntimeWarning: invalid value encountered in less\n",
      "  np.where(data_table[filt + \"_VEGA\"] < 90)\n",
      "/home/christina/anaconda3/envs/astroconda/lib/python3.6/site-packages/beast/plotting/plot_mag_hist.py:54: RuntimeWarning: invalid value encountered in less\n",
      "  np.where(data_table[filt + \"_VEGA\"] < 90)\n"
     ]
    }
   ],
   "source": [
    "# this 'if' statement just checks if there's already a histogram file\n",
    "if not os.path.isfile('./'+field_names[0]+'.st_maghist.pdf'):\n",
    "    peak_mags = plot_mag_hist.plot_mag_hist(gst_file, stars_per_bin=70, max_bins=75)"
   ]
  },
  {
   "cell_type": "markdown",
   "metadata": {},
   "source": [
    "You can check out the results for the histograms in the file ending with **_maghist.pdf**\n",
    "\n",
    "From this plot, we can also see what filters exist for the data. "
   ]
  },
  {
   "cell_type": "markdown",
   "metadata": {},
   "source": [
    "# Step 1b. Make source density maps"
   ]
  },
  {
   "cell_type": "markdown",
   "metadata": {},
   "source": [
    "Next we'll be creating source density maps. These are maps of our data field colored such that they show how many stars/sources there are in each degree field. The standard size is 5 arc seconds squared. The size can easily be changed by modifying the **pixsize** variable below."
   ]
  },
  {
   "cell_type": "code",
   "execution_count": 8,
   "metadata": {},
   "outputs": [],
   "source": [
    "# Pick the filter with the dimmest peak from the histogram\n",
    "ref_filter =[\"F475W\"]\n",
    "\n",
    "# choose a filter to use for removing artifacts\n",
    "# (remove catalog sources with filter_FLAG > 99)\n",
    "flag_filter = [\"F275W\"]"
   ]
  },
  {
   "cell_type": "code",
   "execution_count": 9,
   "metadata": {},
   "outputs": [
    {
     "name": "stdout",
     "output_type": "stream",
     "text": [
      "# of x & y pixels =  12 12\n",
      "working on converting ra, dec to pix x,y\n"
     ]
    },
    {
     "name": "stderr",
     "output_type": "stream",
     "text": [
      "/home/christina/anaconda3/envs/astroconda/lib/python3.6/site-packages/astropy/table/column.py:1020: RuntimeWarning: invalid value encountered in greater_equal\n",
      "  result = getattr(super(), op)(other)\n",
      "/home/christina/anaconda3/envs/astroconda/lib/python3.6/site-packages/astropy/table/column.py:1020: RuntimeWarning: invalid value encountered in less_equal\n",
      "  result = getattr(super(), op)(other)\n"
     ]
    }
   ],
   "source": [
    "# check to see if the sourde density file already exists\n",
    "if not os.path.isfile(gst_file.replace(\".fits\", \"_source_den_image.fits\")):\n",
    "    # if not, run all this other code\n",
    "    \n",
    "    # - pixel size of 5 arcsec\n",
    "    # - use ref_filter[b] between vega mags of 15 and peak_mags[ref_filter[b]]-0.5\n",
    "        # since we're only working with one field, our index b is set to 0\n",
    "    sourceden_args = types.SimpleNamespace(\n",
    "        subcommand=\"sourceden\",\n",
    "        catfile=gst_file,\n",
    "        pixsize=5,\n",
    "        npix=None,\n",
    "        mag_name=ref_filter[0]+ \"_VEGA\",\n",
    "        mag_cut=[17, peak_mags[ref_filter[0]] - 0.5],\n",
    "        flag_name=flag_filter[0]+'_FLAG',\n",
    "    )\n",
    "    create_background_density_map.main_make_map(sourceden_args)"
   ]
  },
  {
   "cell_type": "code",
   "execution_count": 10,
   "metadata": {},
   "outputs": [],
   "source": [
    "# new file name with the source density column\n",
    "gst_file_sd = gst_file.replace(\".fits\", \"_with_sourceden.fits\")"
   ]
  },
  {
   "cell_type": "markdown",
   "metadata": {},
   "source": [
    "This function should create 3 files: \n",
    "* *M31-B09-EAST_subset.st_source_den_image.fits* : a file for viewing the source density information in ds9 or with matplotlib\n",
    "\n",
    "* *M31-B09-EAST_subset.st_sourceden_map.hd5* : the same file as source_den_image but now with even more data (the split_catalog_using_map function will end up using this file later on) \n",
    "\n",
    "* *M31-B09-EAST_subset.st_with_sourceden.fits* : the same as the original photometric file (gst_file) but now with an additional column for what density bin the source is located in"
   ]
  },
  {
   "cell_type": "markdown",
   "metadata": {},
   "source": [
    "### View the fits images of the source density maps\n",
    "\n",
    "Now that we have the source density maps outputted, we can plot the image and see that the density looks like."
   ]
  },
  {
   "cell_type": "code",
   "execution_count": 11,
   "metadata": {},
   "outputs": [
    {
     "name": "stdout",
     "output_type": "stream",
     "text": [
      "Filename: ./M31-B09-EAST_chunk.st_source_den_image.fits\n",
      "No.    Name      Ver    Type      Cards   Dimensions   Format\n",
      "  0  PRIMARY       1 PrimaryHDU      19   (12, 12)   float64   \n",
      "<class 'numpy.ndarray'>\n",
      "(12, 12)\n"
     ]
    }
   ],
   "source": [
    "# open the fits file\n",
    "hdu_list = fits.open(\"./%s.st_source_den_image.fits\"%field_name)\n",
    "hdu_list.info()\n",
    "\n",
    "# extract the image data\n",
    "image_data = hdu_list[0].data\n",
    "\n",
    "# take a look at what the image should look like\n",
    "print(type(image_data))\n",
    "print(image_data.shape)\n",
    "\n",
    "# close the fits file\n",
    "hdu_list.close()"
   ]
  },
  {
   "cell_type": "code",
   "execution_count": 12,
   "metadata": {},
   "outputs": [
    {
     "data": {
      "text/plain": [
       "Text(0.5, 1.0, 'Density of Sources per 5 arcsec^2')"
      ]
     },
     "execution_count": 12,
     "metadata": {},
     "output_type": "execute_result"
    },
    {
     "data": {
      "image/png": "[encoded data removed]",
      "text/plain": [
       "<Figure size 720x720 with 2 Axes>"
      ]
     },
     "metadata": {
      "needs_background": "light"
     },
     "output_type": "display_data"
    }
   ],
   "source": [
    "# plot the extracted image data\n",
    "fig = plt.figure(0, [10,10])\n",
    "im = plt.imshow(image_data, origin=\"lower\")\n",
    "plt.colorbar(im)\n",
    "plt.xlabel(\"Pixel (originally RA)\")\n",
    "plt.ylabel(\"Pixel (originally DEC)\")\n",
    "plt.title(\"Density of Sources per 5 arcsec^2\")"
   ]
  },
  {
   "cell_type": "markdown",
   "metadata": {},
   "source": [
    "# Step 1c. Set up datamodel file\n",
    "\n",
    "At this point, we have a basic understanding of the information we are working with, so it's about time we set up our datamodel file. \n",
    "\n",
    "The datamodel file is a sort of catch-all file used to store any sort of infomation we might need to run the BEAST code on our data. We'll go through and talk about what all the different variables mean, and which ones would need to be changed for any future projects.\n",
    "\n",
    "Go ahead and open the datamodel.py file in a text editor now and ensure that the following variables match:\n",
    "\n",
    "*  **project** : the same as the field_name variable we noted earlier\n",
    "    * *project = \"M31-B09-EAST_chunk\" *\n",
    "* **surveyname** : the overall name for the survey (this variable isn't actually important for the code)\n",
    "    * *surveyname = \"PHAT-M31\"*\n",
    "* **filters** : the full filter names from the photometric catalog, also the names that show up in our magnitude histograms so you can add them from there\n",
    "    * *filters = [\"HST_WFC3_F475W\", \"HST_WFC3_F275W\", \"HST_WFC3_F336W\", \"HST_WFC3_F814W\", \"HST_WFC3_F110W\", \"HST_WFC3_F160W\",]*\n",
    "    \n",
    "* **base filters** : shortened versions of the filter names\n",
    "    * *basefilters = [\"F475W\", \"F275W\", \"F336W\", \"F814W\", \"F110W\", \"F160W\"]*\n",
    "* **obsfile** : the name of the photometric catalog (now including the source density information\n",
    "    * *obsfile = \"./M31-B09-EAST_chunk.st_with_sourceden_cut.fits\"*\n",
    "    \n",
    "* **ast_with_positions** : make sure is set to *True* if you have the locations included in your obsfile\n",
    "\n",
    "* **ast_density_table** : the source density map created in step 1b  \n",
    "    * *ast_density_table = './M31-B09-EAST_chunk.st_sourceden_map.hd5'*\n",
    "    \n",
    "* **ast_reference_image** : the original photometric FITS catalog which is required if you use the ast_with_positions as true  \n",
    "    * *ast_reference_image = \"./M31-B09-EAST_chunk_F475W_drz.chip1.fits\"*\n",
    "    \n",
    "* **astfile** : the file of ASTs we will be creating in step 3, but since ASTs normally have to be processed by a specialist, we have already included a finished AST file for us to use in this example\n",
    "    * *astfile = \"M31-B09_EAST_chunk.gst.fake.fits\"*\n",
    "    \n",
    "* **n_subgrid** : the number of subgrids to use for generating the physics model later on (with 1 meaning no subgrids)\n",
    "    * *n_subgrid = 1*"
   ]
  },
  {
   "cell_type": "markdown",
   "metadata": {},
   "source": [
    "This file is also where you specify the parameters and resolution of your physics model which will become relevant in step 2. The resolution of these parameters for your own runs will differ depending on what sorts of ASTs you want to model. There are 8 parameters that can be set.\n",
    "\n",
    "1. **Distance** : either a fixed value or a range with stepsizes\n",
    "2. **Velocity** : what is the heliocentric velocity of your location or galaxy in km/s\n",
    "3. **Age** : the log10 age range of the ASTs being modeled\n",
    "4. **Mass** : the mass of the ASTs\n",
    "5. **Metallicity** : the metallicity range of the ASTs\n",
    "\n",
    "6. **A(v)** : the range of dust extinction in magnitudes that could be dimming the intrinsic brightness of the ASTs\n",
    "7. **R(v)** : the range of dust grain sizes \n",
    "8. **f(A)** the mixture factor between the Milky Way and Small Magellanic Cloud extinction curves\n"
   ]
  },
  {
   "cell_type": "code",
   "execution_count": 13,
   "metadata": {
    "scrolled": false
   },
   "outputs": [
    {
     "name": "stdout",
     "output_type": "stream",
     "text": [
      "Auto-detected type: fits\n",
      "Auto-detected type: fits\n"
     ]
    },
    {
     "data": {
      "text/plain": [
       "<module 'datamodel' from '/home/christina/beast-examples/M31_Example/datamodel.py'>"
      ]
     },
     "execution_count": 13,
     "metadata": {},
     "output_type": "execute_result"
    }
   ],
   "source": [
    "import datamodel\n",
    "\n",
    "importlib.reload(datamodel)"
   ]
  },
  {
   "cell_type": "markdown",
   "metadata": {},
   "source": [
    "Our goal after this would normally be to eventually run a bunch of **ASTs** (Artificial Star Tests), but before we can do that, we need to generate the fake stars to use.\n",
    "\n",
    "Since the ASTs would normally need to be analyzed by a specialist after being created and that's a little overkill for a small example, these next couple of steps are just to illustrate how the ASTs are actually generated. A finished file of the analyzed ASTs already exists so we will end up using that in step 4 and beyond.\n",
    "\n"
   ]
  },
  {
   "cell_type": "markdown",
   "metadata": {},
   "source": [
    "# Step 2. Create physics model\n",
    "\n",
    "In order to generate a diverse and representative sample of fake stars to use for our ASTs, we need to set up a N-dimensional model of possible stellar parameters, so that we can easily and randomly select stars from the model.\n",
    "\n",
    "This model is called a **physics model**, and we will be using the parameters set in the datamodel.py file to create this N-dimensional grid.\n",
    "\n",
    "*As a quick note, the resolution on the stellar parameters (the step size, often specified as the third input e.g. logt = [6.0, 10.13, 1.0], where 1.0 is the step size) is the main factor driving how long this physics grid will take to set up. If things take a very long time to run, consider making the step size larger for testing's sake.*\n",
    "\n",
    "Sometimes we are able to have access to high-performance computing resources, meaning we can split the physics model into subgrids and run them in parallel, cutting a lot of the computation time. While we're like not running this notebook in parallel here, we've still specified a number of subgrids in the datamodel.py file. \n",
    "\n",
    "We can check how many subgrids are set up."
   ]
  },
  {
   "cell_type": "code",
   "execution_count": 14,
   "metadata": {},
   "outputs": [
    {
     "data": {
      "text/plain": [
       "1"
      ]
     },
     "execution_count": 14,
     "metadata": {},
     "output_type": "execute_result"
    }
   ],
   "source": [
    "datamodel.n_subgrid"
   ]
  },
  {
   "cell_type": "markdown",
   "metadata": {},
   "source": [
    "So we can now see that we've asked for 1 grid in the datamodel.py file.\n",
    "\n",
    "If we've already generated a physics model, we certainly don't want to run it again, so the following code checks to make sure all the subgrids for the physics model are present."
   ]
  },
  {
   "cell_type": "code",
   "execution_count": 15,
   "metadata": {},
   "outputs": [],
   "source": [
    "# set up the naming conventions for the physics model\n",
    "gs_str = \"\"\n",
    "\n",
    "# this is only relevant if we run with multiple subgrids\n",
    "if datamodel.n_subgrid > 1:\n",
    "    gs_str = \"sub*\"\n",
    "\n",
    "# collects any physics models that have already been created\n",
    "# if none have, sed_files will be empty\n",
    "sed_files = glob.glob(\n",
    "    \"./{0}/{0}_seds.grid{1}.hd5\".format(field_names[0], gs_str)\n",
    ")"
   ]
  },
  {
   "cell_type": "code",
   "execution_count": 16,
   "metadata": {},
   "outputs": [
    {
     "name": "stdout",
     "output_type": "stream",
     "text": [
      "Auto-detected type: fits\n",
      "Auto-detected type: fits\n",
      "Interrogating http://stev.oapd.inaf.it...\n",
      "Downloading data...http://stev.oapd.inaf.it/tmp/output541466209179.dat\n",
      "Interrogating http://stev.oapd.inaf.it...\n",
      "Downloading data...http://stev.oapd.inaf.it/tmp/output919828231985.dat\n",
      "Interrogating http://stev.oapd.inaf.it...\n",
      "Downloading data...http://stev.oapd.inaf.it/tmp/output971688225007.dat\n",
      "Interrogating http://stev.oapd.inaf.it...\n",
      "Downloading data...http://stev.oapd.inaf.it/tmp/output591832563587.dat\n"
     ]
    },
    {
     "name": "stderr",
     "output_type": "stream",
     "text": [
      "\r",
      "Spectral grid:   0%|          | 0/809 [00:00<?, ?it/s]"
     ]
    },
    {
     "name": "stdout",
     "output_type": "stream",
     "text": [
      "M31-B09-EAST_chunk/M31-B09-EAST_chunk Isochrones\n",
      "Auto-detected type: csv\n",
      "Make spectra\n",
      "applying 1 distances\n",
      "Adding spectral properties: True\n"
     ]
    },
    {
     "name": "stderr",
     "output_type": "stream",
     "text": [
      "Spectral grid: 100%|██████████| 809/809 [00:00<00:00, 2781.53it/s]\n",
      "Spectral grid: 100%|██████████| 4343/4343 [00:01<00:00, 2471.24it/s]\n",
      "Distance grid: 100%|██████████| 1/1 [00:00<00:00, 27.31it/s]\n"
     ]
    },
    {
     "name": "stdout",
     "output_type": "stream",
     "text": [
      "Auto-detected type: hd5\n",
      "Warning: Table does not exists.  New table will be created\n",
      "M31-B09-EAST_chunk/M31-B09-EAST_chunk_spec_grid.hd5 (File) ''\n",
      "Last modif.: 'Fri Jun 19 10:46:57 2020'\n",
      "Object Tree: \n",
      "/ (RootGroup) ''\n",
      "/grid (Table(5152,)) 'grid'\n",
      "/lamb (EArray(823,)) 'lamb'\n",
      "/seds (EArray(5152, 823)) 'seds'\n",
      "\n",
      "Auto-detected type: hd5\n",
      "Make Prior Weights\n",
      "computing the distance plus weights for dist =  907820.5301781861\n",
      "computing the age-mass-metallicity grid weight for Z =  0.004\n",
      "computing the age-mass-metallicity grid weight for Z =  0.008\n",
      "computing the age-mass-metallicity grid weight for Z =  0.019\n",
      "computing the age-mass-metallicity grid weight for Z =  0.03\n",
      "Auto-detected type: hd5\n",
      "Warning: Table does not exists.  New table will be created\n",
      "M31-B09-EAST_chunk/M31-B09-EAST_chunk_spec_w_priors.grid.hd5 (File) ''\n",
      "Last modif.: 'Fri Jun 19 10:46:59 2020'\n",
      "Object Tree: \n",
      "/ (RootGroup) ''\n",
      "/grid (Table(5152,)) 'grid'\n",
      "/lamb (EArray(823,)) 'lamb'\n",
      "/seds (EArray(5152, 823)) 'seds'\n",
      "\n",
      "Auto-detected type: hd5\n"
     ]
    },
    {
     "name": "stderr",
     "output_type": "stream",
     "text": [
      "\r",
      "SED grid:   0%|          | 0/99 [00:00<?, ?it/s]"
     ]
    },
    {
     "name": "stdout",
     "output_type": "stream",
     "text": [
      "Make SEDS\n",
      "number of initially requested points = 275\n",
      "              number of valid points = 99 (based on restrictions in R(V)\n",
      "                 versus f_A plane)\n",
      "              \n",
      "Generating a final grid of 510048 points\n"
     ]
    },
    {
     "name": "stderr",
     "output_type": "stream",
     "text": [
      "WARNING: AstropyDeprecationWarning: Class F20 defines class attributes ``inputs``.\n",
      "            This has been deprecated in v4.0 and support will be removed in v4.1.\n",
      "            Starting with v4.0 classes must define a class attribute ``n_inputs``.\n",
      "            Please consult the documentation for details.\n",
      "             [astropy.modeling.core]\n",
      "WARNING: AstropyDeprecationWarning: Class G03_SMCBar defines class attributes ``inputs``.\n",
      "            This has been deprecated in v4.0 and support will be removed in v4.1.\n",
      "            Starting with v4.0 classes must define a class attribute ``n_inputs``.\n",
      "            Please consult the documentation for details.\n",
      "             [astropy.modeling.core]\n",
      "WARNING: AstropyDeprecationWarning: Class FM90 defines class attributes ``inputs``.\n",
      "            This has been deprecated in v4.0 and support will be removed in v4.1.\n",
      "            Starting with v4.0 classes must define a class attribute ``n_inputs``.\n",
      "            Please consult the documentation for details.\n",
      "             [astropy.modeling.core]\n",
      "SED grid: 100%|██████████| 99/99 [00:46<00:00,  2.13it/s]\n"
     ]
    },
    {
     "name": "stdout",
     "output_type": "stream",
     "text": [
      "Auto-detected type: hd5\n",
      "Warning: Table does not exists.  New table will be created\n",
      "M31-B09-EAST_chunk/M31-B09-EAST_chunk_seds.grid.hd5 (File) ''\n",
      "Last modif.: 'Fri Jun 19 10:47:54 2020'\n",
      "Object Tree: \n",
      "/ (RootGroup) ''\n",
      "/grid (Table(510048,)) 'grid'\n",
      "/lamb (EArray(6,)) 'lamb'\n",
      "/seds (EArray(510048, 6)) 'seds'\n",
      "\n"
     ]
    }
   ],
   "source": [
    "# only make the physics model they don't already exist\n",
    "if len(sed_files) < datamodel.n_subgrid:\n",
    "    # directly create physics model grids\n",
    "    create_physicsmodel.create_physicsmodel(nprocs=1, nsubs=datamodel.n_subgrid)"
   ]
  },
  {
   "cell_type": "code",
   "execution_count": 17,
   "metadata": {},
   "outputs": [],
   "source": [
    "# list of SED files (physics models)\n",
    "model_grid_files = sorted(\n",
    "    glob.glob(\n",
    "        \"./{0}/{0}_seds.grid{1}.hd5\".format(field_names[0], gs_str)\n",
    "    )\n",
    ")\n",
    "sed_files = model_grid_files"
   ]
  },
  {
   "cell_type": "markdown",
   "metadata": {},
   "source": [
    "Hopefully a spectral grid and an SED grid should have started generating. In the end you should have a new folder with the same name as your project, with a one SED and spectral grid if you have only 1 subgrid."
   ]
  },
  {
   "cell_type": "markdown",
   "metadata": {},
   "source": [
    "# Step 3. Create Input ASTs!\n",
    "\n",
    "Now that we have our physics model generated, we can start to generate some input ASTs. ASTs are artificial sources inserted into the observations we have, which are then extracted with the same software that was used for the original photometry catalog. So the step that we're running now is just generating the artifical sources that will then later be inserted. \n",
    "\n",
    "We need to make sure that the ASTs cover the same range of magnitudes as our original photometric catalog does, so to do that\n",
    "\n",
    "\n",
    "First thing's first, we're gonna check that there isn't already a file of AST inputs present in the folder we're working in."
   ]
  },
  {
   "cell_type": "code",
   "execution_count": 18,
   "metadata": {},
   "outputs": [
    {
     "data": {
      "text/plain": [
       "'./M31-B09-EAST_chunk/M31-B09-EAST_chunk_inputAST.txt'"
      ]
     },
     "execution_count": 18,
     "metadata": {},
     "output_type": "execute_result"
    }
   ],
   "source": [
    "# only create an AST input list if the ASTs don't already exist\n",
    "ast_input_file = (\"./{0}/{0}_inputAST.txt\".format(field_names[0]))\n",
    "\n",
    "ast_input_file"
   ]
  },
  {
   "cell_type": "markdown",
   "metadata": {},
   "source": [
    "Now we can create the ASTs if they don't already exist.\n",
    "\n",
    "The way that "
   ]
  },
  {
   "cell_type": "code",
   "execution_count": 19,
   "metadata": {
    "scrolled": false
   },
   "outputs": [
    {
     "name": "stdout",
     "output_type": "stream",
     "text": [
      "Auto-detected type: fits\n",
      "Auto-detected type: fits\n",
      "Auto-detected type: fits\n",
      "Selecting SEDs for ASTs\n",
      "Auto-detected type: hd5\n",
      "Assigning positions to artifical stars\n"
     ]
    },
    {
     "name": "stderr",
     "output_type": "stream",
     "text": [
      "WARNING: FITSFixedWarning: 'datfix' made the change 'Invalid parameter values: MJD-OBS and DATE-OBS are inconsistent'. [astropy.wcs.wcs]\n"
     ]
    },
    {
     "name": "stdout",
     "output_type": "stream",
     "text": [
      "Auto-detected type: fits\n",
      "Auto-detected type: fits\n",
      "removing 177 stars from ./M31-B09-EAST_chunk.st_with_sourceden.fits\n",
      "1  repeats of each model in each map bin\n"
     ]
    },
    {
     "name": "stderr",
     "output_type": "stream",
     "text": [
      "\r",
      "3075.00 models per map bin:   0%|          | 0/11 [00:00<?, ?it/s]"
     ]
    },
    {
     "name": "stdout",
     "output_type": "stream",
     "text": [
      "11 non-empty map bins (out of 26) found between 0.0 and 8.060374958530096\n"
     ]
    },
    {
     "name": "stderr",
     "output_type": "stream",
     "text": [
      "3075.00 models per map bin: 100%|██████████| 11/11 [00:17<00:00,  1.57s/it]\n"
     ]
    }
   ],
   "source": [
    "if not os.path.isfile(ast_input_file):\n",
    "    make_ast_inputs.make_ast_inputs(flux_bin_method=True)"
   ]
  },
  {
   "cell_type": "code",
   "execution_count": 20,
   "metadata": {},
   "outputs": [
    {
     "data": {
      "text/html": [
       "<i>Table length=33825</i>\n",
       "<table id=\"table140559202356248\" class=\"table-striped table-bordered table-condensed\">\n",
       "<thead><tr><th>zeros</th><th>ones</th><th>X</th><th>Y</th><th>HST_WFC3_F475W</th><th>HST_WFC3_F275W</th><th>HST_WFC3_F336W</th><th>HST_WFC3_F814W</th><th>HST_WFC3_F110W</th><th>HST_WFC3_F160W</th></tr></thead>\n",
       "<thead><tr><th>int64</th><th>int64</th><th>float64</th><th>float64</th><th>float64</th><th>float64</th><th>float64</th><th>float64</th><th>float64</th><th>float64</th></tr></thead>\n",
       "<tr><td>0</td><td>1</td><td>422.19437</td><td>894.46232</td><td>26.39571</td><td>31.12003</td><td>30.97657</td><td>21.65228</td><td>19.86257</td><td>18.31785</td></tr>\n",
       "<tr><td>0</td><td>1</td><td>417.57042</td><td>892.80758</td><td>26.39571</td><td>31.12003</td><td>30.97657</td><td>21.65228</td><td>19.86257</td><td>18.31785</td></tr>\n",
       "<tr><td>0</td><td>1</td><td>418.7245</td><td>896.19763</td><td>26.39571</td><td>31.12003</td><td>30.97657</td><td>21.65228</td><td>19.86257</td><td>18.31785</td></tr>\n",
       "<tr><td>0</td><td>1</td><td>422.33296</td><td>895.99556</td><td>26.39571</td><td>31.12003</td><td>30.97657</td><td>21.65228</td><td>19.86257</td><td>18.31785</td></tr>\n",
       "<tr><td>0</td><td>1</td><td>409.34888</td><td>892.5206</td><td>26.39571</td><td>31.12003</td><td>30.97657</td><td>21.65228</td><td>19.86257</td><td>18.31785</td></tr>\n",
       "<tr><td>0</td><td>1</td><td>427.68404</td><td>896.76252</td><td>26.39571</td><td>31.12003</td><td>30.97657</td><td>21.65228</td><td>19.86257</td><td>18.31785</td></tr>\n",
       "<tr><td>0</td><td>1</td><td>409.52606</td><td>890.48349</td><td>26.39571</td><td>31.12003</td><td>30.97657</td><td>21.65228</td><td>19.86257</td><td>18.31785</td></tr>\n",
       "<tr><td>0</td><td>1</td><td>412.00146</td><td>897.83645</td><td>26.39571</td><td>31.12003</td><td>30.97657</td><td>21.65228</td><td>19.86257</td><td>18.31785</td></tr>\n",
       "<tr><td>0</td><td>1</td><td>409.69032</td><td>895.53709</td><td>26.39571</td><td>31.12003</td><td>30.97657</td><td>21.65228</td><td>19.86257</td><td>18.31785</td></tr>\n",
       "<tr><td>0</td><td>1</td><td>428.91532</td><td>898.95486</td><td>26.39571</td><td>31.12003</td><td>30.97657</td><td>21.65228</td><td>19.86257</td><td>18.31785</td></tr>\n",
       "<tr><td>...</td><td>...</td><td>...</td><td>...</td><td>...</td><td>...</td><td>...</td><td>...</td><td>...</td><td>...</td></tr>\n",
       "<tr><td>0</td><td>1</td><td>873.51251</td><td>102.05216</td><td>49.48696</td><td>50.70533</td><td>52.39321</td><td>41.81892</td><td>38.37724</td><td>36.20236</td></tr>\n",
       "<tr><td>0</td><td>1</td><td>842.22973</td><td>82.08185</td><td>49.48696</td><td>50.70533</td><td>52.39321</td><td>41.81892</td><td>38.37724</td><td>36.20236</td></tr>\n",
       "<tr><td>0</td><td>1</td><td>857.02598</td><td>89.52951</td><td>49.48696</td><td>50.70533</td><td>52.39321</td><td>41.81892</td><td>38.37724</td><td>36.20236</td></tr>\n",
       "<tr><td>0</td><td>1</td><td>875.08664</td><td>91.6929</td><td>49.48696</td><td>50.70533</td><td>52.39321</td><td>41.81892</td><td>38.37724</td><td>36.20236</td></tr>\n",
       "<tr><td>0</td><td>1</td><td>863.13413</td><td>72.51255</td><td>49.48696</td><td>50.70533</td><td>52.39321</td><td>41.81892</td><td>38.37724</td><td>36.20236</td></tr>\n",
       "<tr><td>0</td><td>1</td><td>873.06353</td><td>60.64967</td><td>49.48696</td><td>50.70533</td><td>52.39321</td><td>41.81892</td><td>38.37724</td><td>36.20236</td></tr>\n",
       "<tr><td>0</td><td>1</td><td>868.18237</td><td>44.8126</td><td>49.48696</td><td>50.70533</td><td>52.39321</td><td>41.81892</td><td>38.37724</td><td>36.20236</td></tr>\n",
       "<tr><td>0</td><td>1</td><td>845.55247</td><td>53.96115</td><td>49.48696</td><td>50.70533</td><td>52.39321</td><td>41.81892</td><td>38.37724</td><td>36.20236</td></tr>\n",
       "<tr><td>0</td><td>1</td><td>861.36722</td><td>60.44919</td><td>49.48696</td><td>50.70533</td><td>52.39321</td><td>41.81892</td><td>38.37724</td><td>36.20236</td></tr>\n",
       "<tr><td>0</td><td>1</td><td>885.36136</td><td>60.21351</td><td>49.48696</td><td>50.70533</td><td>52.39321</td><td>41.81892</td><td>38.37724</td><td>36.20236</td></tr>\n",
       "</table>"
      ],
      "text/plain": [
       "<Table length=33825>\n",
       "zeros  ones     X         Y     ... HST_WFC3_F814W HST_WFC3_F110W HST_WFC3_F160W\n",
       "int64 int64  float64   float64  ...    float64        float64        float64    \n",
       "----- ----- --------- --------- ... -------------- -------------- --------------\n",
       "    0     1 422.19437 894.46232 ...       21.65228       19.86257       18.31785\n",
       "    0     1 417.57042 892.80758 ...       21.65228       19.86257       18.31785\n",
       "    0     1  418.7245 896.19763 ...       21.65228       19.86257       18.31785\n",
       "    0     1 422.33296 895.99556 ...       21.65228       19.86257       18.31785\n",
       "    0     1 409.34888  892.5206 ...       21.65228       19.86257       18.31785\n",
       "    0     1 427.68404 896.76252 ...       21.65228       19.86257       18.31785\n",
       "    0     1 409.52606 890.48349 ...       21.65228       19.86257       18.31785\n",
       "    0     1 412.00146 897.83645 ...       21.65228       19.86257       18.31785\n",
       "    0     1 409.69032 895.53709 ...       21.65228       19.86257       18.31785\n",
       "    0     1 428.91532 898.95486 ...       21.65228       19.86257       18.31785\n",
       "  ...   ...       ...       ... ...            ...            ...            ...\n",
       "    0     1 873.51251 102.05216 ...       41.81892       38.37724       36.20236\n",
       "    0     1 842.22973  82.08185 ...       41.81892       38.37724       36.20236\n",
       "    0     1 857.02598  89.52951 ...       41.81892       38.37724       36.20236\n",
       "    0     1 875.08664   91.6929 ...       41.81892       38.37724       36.20236\n",
       "    0     1 863.13413  72.51255 ...       41.81892       38.37724       36.20236\n",
       "    0     1 873.06353  60.64967 ...       41.81892       38.37724       36.20236\n",
       "    0     1 868.18237   44.8126 ...       41.81892       38.37724       36.20236\n",
       "    0     1 845.55247  53.96115 ...       41.81892       38.37724       36.20236\n",
       "    0     1 861.36722  60.44919 ...       41.81892       38.37724       36.20236\n",
       "    0     1 885.36136  60.21351 ...       41.81892       38.37724       36.20236"
      ]
     },
     "execution_count": 20,
     "metadata": {},
     "output_type": "execute_result"
    }
   ],
   "source": [
    "ast = Table.read(ast_input_file, format=\"ascii\")\n",
    "ast"
   ]
  },
  {
   "cell_type": "markdown",
   "metadata": {},
   "source": [
    "### Check to see how the SEDs and the ASTs compare\n",
    "\n",
    "The histogram that is produced should have both the SED distribution and the AST distribution plotted on it. The thing we want to test for is whether the AST distribution fully samples the SED range."
   ]
  },
  {
   "cell_type": "code",
   "execution_count": null,
   "metadata": {},
   "outputs": [
    {
     "name": "stdout",
     "output_type": "stream",
     "text": [
      "Auto-detected type: hd5\n"
     ]
    }
   ],
   "source": [
    "plot_ast_histogram.plot_ast(ast_file = ast_input_file, sed_grid_file = model_grid_files[0])"
   ]
  },
  {
   "cell_type": "markdown",
   "metadata": {},
   "source": [
    "# Step 4. Edit/Split the Catalog"
   ]
  },
  {
   "cell_type": "markdown",
   "metadata": {},
   "source": [
    "We have to remove sources from the input photometry catalog that are in regions without full imaging coverage or flagged as bad in flag_filter. This step should mostly just be removing any sources where one of the filters might not have a value."
   ]
  },
  {
   "cell_type": "code",
   "execution_count": null,
   "metadata": {},
   "outputs": [],
   "source": [
    "gst_file_cut = gst_file.replace(\".fits\", \"_with_sourceden_cut.fits\")\n",
    "\n",
    "# check to see if the trimmed catalog already exists\n",
    "if not os.path.isfile(gst_file_cut):\n",
    "    # and if not\n",
    "    cut_catalogs.cut_catalogs(\n",
    "        gst_file_sd,\n",
    "        gst_file_cut,\n",
    "        partial_overlap=True,\n",
    "        flagged=True,\n",
    "        flag_filter=flag_filter[0],\n",
    "        region_file=True,\n",
    "    )"
   ]
  },
  {
   "cell_type": "markdown",
   "metadata": {},
   "source": [
    "# Step 5. Edit/Split the ASTs"
   ]
  },
  {
   "cell_type": "markdown",
   "metadata": {},
   "source": [
    "Now for this step, we're doing things a little unconventionally since actually placing all the input ASTs we generated in Step 3 back into our image and rerunning the analysis would take several days of computational time. \n",
    "\n",
    "Instead, we've already procurred a polished AST results file (kindly provided by Ben Williams from the University of Washington) which we can use to complete our analysis. The AST file should be named *'./M31-B09-EAST_chunk.gst.fake.fits'* while the input ASTs we generated were named *'./M31-B09-EAST_chunk/M31-B09-EAST_chunk_beast_inputAST.txt'*.\n",
    "\n",
    "We will now use the same cutting procedure as for the catalog to trim down the AST file with the same criteria as in Step 4."
   ]
  },
  {
   "cell_type": "code",
   "execution_count": null,
   "metadata": {},
   "outputs": [],
   "source": [
    "ast_file = \"./\" + field_names[0] + \".gst.fake.fits\"\n",
    "ast_file "
   ]
  },
  {
   "cell_type": "code",
   "execution_count": null,
   "metadata": {
    "scrolled": true
   },
   "outputs": [],
   "source": [
    "# - ASTs\n",
    "ast_file_cut = ast_file.replace(\".fits\", \"_cut.fits\")\n",
    "\n",
    "# check to see if the trimmed AST file already exists\n",
    "if not os.path.isfile(ast_file_cut):\n",
    "    cut_catalogs.cut_catalogs(\n",
    "        ast_file,\n",
    "        ast_file_cut,\n",
    "        partial_overlap=True,\n",
    "        flagged=True,\n",
    "        flag_filter=flag_filter[0],\n",
    "        region_file=True,\n",
    "    )\n",
    "\n",
    "# so now we've generated the cut ast file"
   ]
  },
  {
   "cell_type": "markdown",
   "metadata": {},
   "source": [
    "We can plot the AST magnitudes against our original source magnitudes again, just to check that we are within a reasonable range."
   ]
  },
  {
   "cell_type": "code",
   "execution_count": null,
   "metadata": {},
   "outputs": [],
   "source": [
    "# check to see if the plotted AST file already exists\n",
    "if not os.path.isfile(ast_file_cut.replace(\".fits\", \"_maghist.pdf\")):\n",
    "    \n",
    "    test = plot_mag_hist.plot_mag_hist(ast_file_cut, stars_per_bin=200, max_bins=30)\n",
    "\n",
    "    # and so this should plot a histogram of the different asts that remain after cutting"
   ]
  },
  {
   "cell_type": "markdown",
   "metadata": {},
   "source": [
    "# Step 5.5 Update Datamodel\n",
    "\n",
    "**With these cuts to the astfile and and gstfile, we now have to update the corresponding variables in datamodel.py with these new trimmed files. We can do this by rewriting the datamodel.py file with the following function.**"
   ]
  },
  {
   "cell_type": "code",
   "execution_count": null,
   "metadata": {},
   "outputs": [],
   "source": [
    "def update_datamodel(file_key, update_value):\n",
    "    \"\"\"\n",
    "    Update a single parameter in the datamodel.py file\n",
    "    Parameters\n",
    "    ----------\n",
    "    file_key : string\n",
    "        the key to update\n",
    "    update_value: string\n",
    "        the updated value\n",
    "    Returns\n",
    "    -------\n",
    "    nothing\n",
    "    \"\"\"\n",
    "   \n",
    "    # read in the template datamodel file\n",
    "    orig_file = open(\"datamodel.py\", \"r\")\n",
    "    datamodel_lines = np.array(orig_file.readlines())\n",
    "    orig_file.close()\n",
    "\n",
    "    # write out an edited datamodel\n",
    "    new_file = open(\"datamodel.py\", \"w\")\n",
    "\n",
    "    for i in range(len(datamodel_lines)):\n",
    "\n",
    "        # replace project name with the field ID\n",
    "        if datamodel_lines[i][0:len(file_key)] == file_key:\n",
    "            new_file.write(file_key + ' = \"'+ update_value + '\"\\n')\n",
    "        else:\n",
    "            new_file.write(datamodel_lines[i])\n",
    "\n",
    "    new_file.close()"
   ]
  },
  {
   "cell_type": "code",
   "execution_count": null,
   "metadata": {},
   "outputs": [],
   "source": [
    "update_datamodel(\"obsfile\", gst_file_cut)\n",
    "update_datamodel(\"astfile\", ast_file_cut)"
   ]
  },
  {
   "cell_type": "code",
   "execution_count": null,
   "metadata": {},
   "outputs": [],
   "source": [
    "importlib.reload(datamodel)"
   ]
  },
  {
   "cell_type": "markdown",
   "metadata": {},
   "source": [
    "# Step 6. Split catalog by source density"
   ]
  },
  {
   "cell_type": "markdown",
   "metadata": {},
   "source": [
    "For the next fitting step, we're going to have to break our catalog and AST file into bins based on the source density, and then further into sub-bins if there are more than ~6250 sources in the bins. \n",
    "\n",
    "We split things into source density bins so that we can later study how the actual source density of region effects the noise or bias. We further split things into sub-bins, just to make things a little more computationally accessible.\n",
    "\n",
    "One thing to note is that the source density bins are first sorted by magnitude (typically F475W if it's there) before being split into sub-bins. This means that the first sub-bin file (for a source density bin that has more than 6250 sources) will end up having all the dimmest sources or any sources with NAN values, and the last sub file will have all the brightest sources. This will become handy in Step 8 when we create physics (SED) models and noisemoels tailored specifically to each sub-bin file."
   ]
  },
  {
   "cell_type": "code",
   "execution_count": null,
   "metadata": {},
   "outputs": [],
   "source": [
    "# check to see if any sub files exist yet\n",
    "if len(glob.glob(gst_file_cut.replace('.fits','*sub*fits') )) == 0:\n",
    "    # if no sub files exist, they can now be created\n",
    "    # a smaller value for n_per_file will mean more individual files/runs,\n",
    "    # but each run will take a shorter amount of time\n",
    "    \n",
    "    #split the gst file and ast file\n",
    "    split_catalog_using_map.split_main(\n",
    "        gst_file_cut,\n",
    "        ast_file_cut,\n",
    "        gst_file.replace('.fits','_sourceden_map.hd5'), #get full sourceden_mad.hd5 file from dust folder\n",
    "        bin_width=1,\n",
    "        n_per_file=6250, #this is the max number of sources per bin before it splits \n",
    "\n",
    "    )"
   ]
  },
  {
   "cell_type": "markdown",
   "metadata": {},
   "source": [
    "So these are all the different source density bins, with some of them being split into sub bins to limit the number of entries to ~6250. "
   ]
  },
  {
   "cell_type": "markdown",
   "metadata": {},
   "source": [
    "Rather than reading in all the files we just created, the developers of this code instead wrote this handy little function that generates a dictionary of all the files that have just been created (assuming the function ran correctly) and all the files that we hope to generate in the future.\n",
    "\n",
    "Because of this, I recommend not changing any of the naming for Step 6 or beyond, just because that then makes this dictionary point to incorrect files."
   ]
  },
  {
   "cell_type": "code",
   "execution_count": null,
   "metadata": {},
   "outputs": [],
   "source": [
    "# generate file name lists\n",
    "file_dict = create_filenames.create_filenames(\n",
    "    use_sd=True, nsubs=datamodel.n_subgrid\n",
    ")"
   ]
  },
  {
   "cell_type": "markdown",
   "metadata": {},
   "source": [
    "If we take a look in our folder, we should be able to see some bins with sub-bins notation. We can do a quick check to see if the sub-binning generated from the dictionary matchs up with the files split in our data folder."
   ]
  },
  {
   "cell_type": "code",
   "execution_count": null,
   "metadata": {},
   "outputs": [],
   "source": [
    "sd_sub_info = file_dict[\"sd_sub_info\"]\n",
    "sd_sub_info"
   ]
  },
  {
   "cell_type": "code",
   "execution_count": null,
   "metadata": {},
   "outputs": [],
   "source": [
    "# - number of SD bins\n",
    "temp = set([i[0] for i in sd_sub_info])\n",
    "print(\"** total SD bins: \" + str(len(temp)))\n",
    "\n",
    "# - the unique sets of SD+sub\n",
    "unique_sd_sub = [\n",
    "    x for i, x in enumerate(sd_sub_info) if i == sd_sub_info.index(x)\n",
    "]\n",
    "print(\"** total SD subfiles: \" + str(len(unique_sd_sub)))\n"
   ]
  },
  {
   "cell_type": "markdown",
   "metadata": {},
   "source": [
    "Just another quick was to ensure that all the binning and sub-binning matches up. If it doesn't, none of the next steps will run properly."
   ]
  },
  {
   "cell_type": "markdown",
   "metadata": {},
   "source": [
    "# Step 7. Make Noise Models"
   ]
  },
  {
   "cell_type": "markdown",
   "metadata": {},
   "source": [
    "We're now on to creating our observational noise models! These models will be used to adjust the bias and uncertainty in Steps 8 and 9. \n",
    "\n",
    "The **uncertainty** (also known as sigma) is the standard deviation calculated for all the detected sources.\n",
    "\n",
    "The **bias** is the average offset between the input flux we have for the ASTs and the measured flux. Bias tends to become more prominent in regions of high source density, where it's harder to detect all the faint stars if they get blended together. If this happens, then some of the stars are assumed to be part of the background (raising the average), which gets subtracted from the detected sources. If the background is raised, then the detected sources are measured to be systematically fainter than they should be."
   ]
  },
  {
   "cell_type": "code",
   "execution_count": null,
   "metadata": {},
   "outputs": [],
   "source": [
    "# these are what the noise files should be named once generated\n",
    "noise_files = file_dict[\"noise_files\"]"
   ]
  },
  {
   "cell_type": "code",
   "execution_count": null,
   "metadata": {},
   "outputs": [],
   "source": [
    "# gather up the split AST files\n",
    "ast_file_list = sorted(glob.glob(datamodel.astfile.replace(\".fits\", \"*_bin*\")))\n",
    "ast_file_list"
   ]
  },
  {
   "cell_type": "code",
   "execution_count": null,
   "metadata": {
    "scrolled": false
   },
   "outputs": [],
   "source": [
    "# create the noise model with our ASTs  \n",
    "create_obsmodel.create_obsmodel(\n",
    "        use_sd=True, nsubs=datamodel.n_subgrid, nprocs=1\n",
    "    )"
   ]
  },
  {
   "cell_type": "markdown",
   "metadata": {},
   "source": [
    "# Step 7.5 Visualize Noise Models (Optional)"
   ]
  },
  {
   "cell_type": "markdown",
   "metadata": {},
   "source": [
    "This next cell is some older plotting code for visualizing the noise models. It should (hopefully) work if you uncomment and run it, but the lack of a log scale for the y-axis makes the results a little harder to fully interpret.\n",
    "\n",
    "As an alternative, the same plot is recreated down below but the steps have been broken down to hopefully help you gain a better sense of what's going on (and plot the y-axis with a log scale). \n",
    "\n",
    "If you're not interested in visualizing the noise models, feel free to skip this step."
   ]
  },
  {
   "cell_type": "code",
   "execution_count": null,
   "metadata": {},
   "outputs": [],
   "source": [
    "# plot_noisemodel.plot_noisemodel(sed_file=\"M31-B09-EAST_chunk/M31-B09-EAST_chunk_seds.grid.hd5\", \n",
    "#                                 noise_file_list=noise_files, \n",
    "#                                 plot_file=\"noise_model_plot.png\")"
   ]
  },
  {
   "cell_type": "markdown",
   "metadata": {},
   "source": [
    "### Alternative plot\n",
    "I'm going to try to recreate this noise model plot using some of the filters used in Dreiss' paper.\n"
   ]
  },
  {
   "cell_type": "code",
   "execution_count": null,
   "metadata": {},
   "outputs": [],
   "source": [
    "# set some basic plotting stuff\n",
    "samp=100 # makes it so we plot every 100th point from the SED files\n",
    "color=[\"black\", \"red\", \"gold\", \"lime\", \"xkcd:azure\"]\n",
    "label=None\n",
    "\n",
    "# load in the physics model as an object\n",
    "sed_object = FileSEDGrid(sed_files[0])\n",
    "\n",
    "# read the flux values for all the sources\n",
    "if hasattr(sed_object.seds, \"read\"):\n",
    "    sed_grid = sed_object.seds.read()\n",
    "else:\n",
    "    sed_grid = sed_object.seds\n",
    "    \n",
    "sed_object.seds.shape"
   ]
  },
  {
   "cell_type": "markdown",
   "metadata": {},
   "source": [
    "So this sed_grid comes from back in Step 2, where the physics model created ~500,000 points based off of the original parameters we specified in the datamodel, and for each point, the expected flux for each filter is calculated. We can now use the noise models we created with the ASTs to see how the bias and uncertainty is expected to scale with the flux from a specific filter. We'll plot the log10 of the flux on the x-axis and then the flux-normalized uncertainty and bias on the y-axis. We can also color our results based on what source density bin the ASTs came from, as well as compare how different filters compare to one another\n"
   ]
  },
  {
   "cell_type": "code",
   "execution_count": null,
   "metadata": {},
   "outputs": [],
   "source": [
    "# pull out the list of filters\n",
    "filter_list = sed_object.filters\n",
    "\n",
    "# for this plot, I just want to plot the first two filter\n",
    "# feel free to change this and see what the other filters look like\n",
    "filter_list_plot = filter_list[0:2]\n",
    "n_filter = len(filter_list_plot)"
   ]
  },
  {
   "cell_type": "code",
   "execution_count": null,
   "metadata": {
    "scrolled": false
   },
   "outputs": [],
   "source": [
    "# set up the figure frame work\n",
    "# have it scale with the number of filters we're plotting\n",
    "fig, axes = plt.subplots(2, len(filter_list_plot), sharex=True, figsize=(5*len(filter_list_plot),8))\n",
    "\n",
    "# go through noise files\n",
    "for n, nfile in enumerate(noise_files):\n",
    "    \n",
    "    print(\"* reading \" + nfile)\n",
    "\n",
    "    # read in the values\n",
    "    noisemodel_vals = noisemodel.get_noisemodelcat(nfile)\n",
    "\n",
    "    # extract error and bias\n",
    "    noise_err = noisemodel_vals.root.error[:]\n",
    "    noise_bias = noisemodel_vals.root.bias[:]\n",
    "    \n",
    "    cmaps = plt.get_cmap('viridis')\n",
    "\n",
    "    gradient = np.linspace(0, 1, len(noise_files))    \n",
    "\n",
    "    # now we can start plotting things\n",
    "    for f, filt in enumerate(filter_list_plot):\n",
    "        \n",
    "        # error is negative where it's been extrapolated -> trim those\n",
    "        good_err = np.where(noise_err[:, f] > 0)[0]\n",
    "        plot_sed = sed_grid[good_err, f][::samp] # only pulls every 100th point\n",
    "        plot_err = noise_err[good_err, f][::samp]\n",
    "        plot_bias = noise_bias[good_err, f][::samp]\n",
    "\n",
    "        # plot bias\n",
    "        axes[0, f].set_yscale('log')\n",
    "\n",
    "        axes[0, f].plot(\n",
    "            np.log10(plot_sed),\n",
    "            np.abs(plot_bias) / plot_sed,\n",
    "            marker=\"o\",\n",
    "            linestyle=\"none\",\n",
    "            mew=0,\n",
    "            ms=2,\n",
    "            alpha=1,\n",
    "            c=cmaps(int(nfile[-10])/9.),\n",
    "            label=noise_files[n][-10]\n",
    "            )\n",
    "        \n",
    "        axes[0, f].set_ylabel(r\"Abs Bias ($\\mu$/F)\", fontsize=10)\n",
    "        # xlabel is still in flux, not mag\n",
    "        axes[0, f].legend()\n",
    "\n",
    "        # plot error (uncertainty)\n",
    "        axes[1, f].set_yscale('log')\n",
    "\n",
    "        axes[1, f].plot(\n",
    "            np.log10(plot_sed),\n",
    "            plot_err / plot_sed,\n",
    "            marker=\"o\",\n",
    "            linestyle=\"none\",\n",
    "            mew=0,\n",
    "            ms=2,\n",
    "            color=color[0 % len(color)],\n",
    "            alpha=0.1,)\n",
    "        axes[1, f].set_ylabel(r\"Error ($\\sigma$/F)\", fontsize=10)\n",
    "        axes[1, f].set_xlabel(\"log \" + filt[-5:], fontsize=10)\n",
    "\n",
    "        plt.tight_layout()\n",
    "        \n",
    "    #fig.colorbar(plt.cm.ScalarMappable(norm=np.arange(0,12), cmap=cmaps), ax=axes)\n",
    "    \n",
    "\n",
    "    # Need to figure out if it's worth comparing the bias and the uncertainty to one another."
   ]
  },
  {
   "cell_type": "markdown",
   "metadata": {},
   "source": [
    "As you can probably tell, this plot isn't the most beautiful plot in the world (especially that coloring and legend) but I'm proud of her. It does, however, let you see the scale of the bias and uncertainty (error) for different filters and how the source density and magnitudes are correlated.\n",
    "\n",
    "The most notable thing to note is that the uncertainty and bias tend to be larger at lower fluxes. This probably doesn't come as a shock to anyone, but it's important to accurately take this into consideration when we make our fittings in Step 9."
   ]
  },
  {
   "cell_type": "markdown",
   "metadata": {},
   "source": [
    "# Step 8. Trim Models\n"
   ]
  },
  {
   "cell_type": "markdown",
   "metadata": {},
   "source": [
    "Now that we have our SED and or noise models created, we can go ahead and trim them of any sources that are so bright or so faint (compared to min/max flux in the observation file) that they will by definition produce effectively zero likelihood fits. \n",
    "\n",
    "One thing to note is that, since our noise models are correlated with source density, we are in a sense 'convolving' each of our noise models with the original physics grid, meaning we will end up with a lot of physics grids trimmed for each source density scenario thanks to our noise models (and these physics grids are still essentially as large as the original physics grid, making this a very storage-intensive step). However, this trimming of the 'parameter space', as you could call it, will help speed up fittings in Step 9.\n",
    "\n",
    "**This step is very storage intensive so I'd make sure to have at least ~5GB of storage available.**\n"
   ]
  },
  {
   "cell_type": "code",
   "execution_count": null,
   "metadata": {
    "scrolled": false
   },
   "outputs": [],
   "source": [
    "# check to see if any sub files exist yet\n",
    "if len(glob.glob(file_dict[\"noise_trim_files\"][0].replace('bin2_sub0','bin*_sub*'))) == 0:\n",
    "    \n",
    "    for i, sub_files in enumerate(file_dict[\"noise_trim_files\"]):\n",
    "        # pull out physics grid\n",
    "        modelsedgrid = FileSEDGrid(model_grid_files[0])\n",
    "        # trim for each noise file separately \n",
    "        noisemodel_vals = noisemodel.get_noisemodelcat(noise_files[i])\n",
    "        obsdata = datamodel.get_obscat(gst_file_cut, modelsedgrid.filters)\n",
    "\n",
    "        # need to iterate over all the sub-bins\n",
    "        trim_grid.trim_models(modelsedgrid, noisemodel_vals, obsdata, file_dict[\"modelsedgrid_trim_files\"][i], file_dict[\"noise_trim_files\"][i])\n"
   ]
  },
  {
   "cell_type": "markdown",
   "metadata": {},
   "source": [
    "#  Step 9. Fit Models (WARNING! This step takes a while)"
   ]
  },
  {
   "cell_type": "markdown",
   "metadata": {},
   "source": [
    "Now we're going to fit all our sources from our observational photometric catalog to our new trimmed physics and noise models. This will take quite some time just because every source has to be evaluated at each step in its physics model. \n",
    "\n",
    "So for every sub-bin of sources (max 6250 sources), every source in that photometry file is evaluated at every potential step in the physics grid that has been trimmed to specifically fit that sub-bin (hence the data-intensive code we ran back in Step 8). From this, we essentially get a report of how well every point in the physics model (AKA combo of parameters) matched with a source, what is often referred to as a likelihood. If we then take these likelihoods and figure out what parameter values they point back to, we can create a distribution of parameter values (metallicity, distance, Av, Rv, etc.) that best model each source. I hope that made sense (and is the correct interpretation).\n",
    "\n",
    "This function uses the trimmed photometric files we have, the trimmed physics models, and the trimmed noise models to create statistic files for each sub-binned source density bin.\n",
    "\n",
    "It'll take a long time though (~5 hours for me at least, but maybe you have a better computer (8GB RAM, for reference))."
   ]
  },
  {
   "cell_type": "code",
   "execution_count": null,
   "metadata": {},
   "outputs": [],
   "source": [
    "#if len(glob.glob(file_dict[\"modelsedgrid_trim_files\"][0].replace('bin2_sub0','bin*_sub*'))) == 0:\n",
    "run_fitting.run_fitting(\n",
    "    use_sd = True,\n",
    "    nsubs = 1,\n",
    "    nprocs = 1,\n",
    "    choose_sd_sub=None,\n",
    "    choose_subgrid=None,\n",
    "    pdf2d_param_list=['Av', 'Rv', 'f_A', 'M_ini', 'logA', 'Z', 'distance'],\n",
    "    resume=False,\n",
    "    )"
   ]
  },
  {
   "cell_type": "markdown",
   "metadata": {},
   "source": [
    "# Step 10. Merge fits"
   ]
  },
  {
   "cell_type": "markdown",
   "metadata": {},
   "source": [
    "Whoo-hoo! You finished running the big Step 9!\n",
    "\n",
    "We are now onto the final step where we just have to merge all the trimmed SED model results together. This should produce one final **stats.fits** file which is very similar to our original photometric file, except now all the sources have estimates for what their metallicity, distance, age, mass, dust, etc. might be.\n",
    "\n",
    "Using these new columns of data, we can create lots of cool visuals which will be shown in the epilogue."
   ]
  },
  {
   "cell_type": "code",
   "execution_count": null,
   "metadata": {},
   "outputs": [],
   "source": [
    "merge_files.merge_files(use_sd=True, nsubs=datamodel.n_subgrid)"
   ]
  },
  {
   "cell_type": "markdown",
   "metadata": {},
   "source": [
    "Hopefully there is now a stats.fits file in your folder. We can read it in to better understand what really happened."
   ]
  },
  {
   "cell_type": "code",
   "execution_count": null,
   "metadata": {},
   "outputs": [],
   "source": [
    "hdul = fits.open(sed_files[0].replace('seds.grid.hd5', 'stats.fits'))\n",
    "Table(hdul[1].data)"
   ]
  },
  {
   "cell_type": "markdown",
   "metadata": {},
   "source": [
    "As you can hopefully see, for every source, there are now several parameters assigned to each one. These are all the parameters we originally had set up in our datamodel and specified in Step 9."
   ]
  },
  {
   "cell_type": "markdown",
   "metadata": {},
   "source": [
    "# Epilogue: Visualizating!"
   ]
  },
  {
   "cell_type": "code",
   "execution_count": null,
   "metadata": {},
   "outputs": [],
   "source": [
    "from beast.plotting import (\n",
    "    plot_triangle, \n",
    "    plot_indiv_fit, \n",
    "    plot_cmd_with_fits, \n",
    "    plot_completeness, \n",
    "    plot_chi2_hist,\n",
    ")"
   ]
  },
  {
   "cell_type": "markdown",
   "metadata": {},
   "source": [
    "### Triangle Plot\n",
    "\n",
    "This first plot displays a posterior distributions of the parameters of all the fitted stars. "
   ]
  },
  {
   "cell_type": "code",
   "execution_count": null,
   "metadata": {
    "scrolled": false
   },
   "outputs": [],
   "source": [
    "plot_triangle.plot_triangle(\"M31-B09-EAST_chunk/M31-B09-EAST_chunk_stats.fits\")"
   ]
  },
  {
   "cell_type": "markdown",
   "metadata": {},
   "source": [
    "### CMD Plot\n",
    "\n",
    "You can also make a color-magnitude diagram of the observations and color-code the data points using one of the parameters from the BEAST fitting (feel free to change this from the example, just remember that the param must match a column name from the stat.fits file). \n",
    "\n",
    "Inputs are the photometry file, three filters, the BEAST stats file from Step 10, and the parameter to use and apply color to after taking the log10."
   ]
  },
  {
   "cell_type": "code",
   "execution_count": null,
   "metadata": {},
   "outputs": [],
   "source": [
    "plot_cmd_with_fits.plot(data_fits_file=\"M31-B09-EAST_chunk.st_with_sourceden_cut.fits\", \n",
    "                        beast_fits_file=\"M31-B09-EAST_chunk/M31-B09-EAST_chunk_stats.fits\", \n",
    "                        mag1_filter=\"F475W\",\n",
    "                        mag2_filter=\"F814W\",\n",
    "                        mag3_filter=\"F475W\",\n",
    "                        param=\"Z_Best\", #metallicity\n",
    "                       )"
   ]
  },
  {
   "cell_type": "markdown",
   "metadata": {},
   "source": [
    "### Completeness Plot\n",
    "This next plot shows the completeness (how many AST sources were detected out of the total number of AST that exist for that parameter bin) for each parameter, although it should be noted that the *distance* parameter was purposefully left out because all the sources have the same distance value, and thus the plotting code isn't sure how to handle it."
   ]
  },
  {
   "cell_type": "code",
   "execution_count": null,
   "metadata": {
    "scrolled": false
   },
   "outputs": [],
   "source": [
    "plot_completeness.plot_completeness(physgrid_list=file_dict[\"modelsedgrid_trim_files\"],\n",
    "                                    noise_model_list=file_dict[\"noise_trim_files\"],\n",
    "                                    output_plot_filename=\"completeness_plot.pdf\",\n",
    "                                    param_list=['Av', 'Rv', 'logA', 'f_A', 'M_ini', 'Z'],\n",
    "                                    #, 'distance'],\n",
    "                                    compl_filter='F475W',)"
   ]
  },
  {
   "cell_type": "markdown",
   "metadata": {},
   "source": [
    "### Chi Squared Plot\n",
    "Make a histogram of the best chi2 values (chi2=1 and the median chi2 are marked). Note that there is no plot of reduced chi2, because it is mathematically difficult to define the number of degrees of freedom. Inputs are the BEAST stats file and optionally the number of bins to use for the histogram."
   ]
  },
  {
   "cell_type": "code",
   "execution_count": null,
   "metadata": {},
   "outputs": [],
   "source": [
    "plot_chi2_hist.plot(beast_stats_file=\"M31-B09-EAST_chunk/M31-B09-EAST_chunk_stats.fits\")\n"
   ]
  },
  {
   "cell_type": "markdown",
   "metadata": {},
   "source": [
    "There's another cool plot for plotting the individual fits of stars, but unfortunately, this code works with a file that only gets generated when using multiple subgrids (remember how we checked that we had a subgrid = 1 back in Step 2?). If it had worked with the code below, it would have made a multi-panel plot that shows the PDFs and best fits of each parameter for any given star, as well as the SED (similar to Figure 14 in Gordon+16)."
   ]
  },
  {
   "cell_type": "code",
   "execution_count": null,
   "metadata": {},
   "outputs": [],
   "source": [
    "#plot_indiv_fit.plot_beast_ifit(filter=datamodel.filters, waves, stats, pdf1d_hdu, starnum=0):"
   ]
  },
  {
   "cell_type": "markdown",
   "metadata": {},
   "source": [
    "Sorry I wasn't able to show you all that last plot. But thanks for reading through this notebook til the end. Hopefully you found it to be somewhat helpful and if you have any suggestions for how to make it better, you can find me at cwlind@jhu.edu.\n",
    "\n",
    "Thanks,\\\n",
    "Christina Lindberg\\\n",
    "(she/her)"
   ]
  }
 ],
 "metadata": {
  "kernelspec": {
   "display_name": "Python 3",
   "language": "python",
   "name": "python3"
  },
  "language_info": {
   "codemirror_mode": {
    "name": "ipython",
    "version": 3
   },
   "file_extension": ".py",
   "mimetype": "text/x-python",
   "name": "python",
   "nbconvert_exporter": "python",
   "pygments_lexer": "ipython3",
   "version": "3.6.10"
  }
 },
 "nbformat": 4,
 "nbformat_minor": 2
}
